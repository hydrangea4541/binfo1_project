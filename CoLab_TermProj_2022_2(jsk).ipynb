{
  "cells": [
    {
      "cell_type": "markdown",
      "metadata": {
        "id": "_SmTogjeMD47"
      },
      "source": [
        "# 생물정보학 및 실습 1 - Term Project용 Mission 2 환경 셋업"
      ]
    },
    {
      "cell_type": "markdown",
      "metadata": {
        "id": "o7NwoWdnMuHS"
      },
      "source": [
        "```\n",
        "생물정보학 및 실습 1\n",
        "서울대학교 협동과정 생물정보학전공 2022년 1학기\n",
        "\n",
        "이 노트북은 Creative Commons BY-SA 조건으로 재사용 가능합니다.\n",
        "장혜식 <hyeshik@snu.ac.kr>, 서울대학교 생명과학부\n",
        "```\n",
        "\n",
        "이 노트북은 Google Colab을 이용해서 Term Project를 할 수 있도록 환경을 준비해 줍니다. 터미널 사용이 원활하지 않은 상태이고, 데이터를 오랫동안 보관하기 어렵기 때문에 되도록 개인용 컴퓨터에서 [Anaconda](https://www.anaconda.com/)나 [JupyterLab](https://jupyterlab.readthedocs.io/en/stable/) 등을 설치하고 사용하시는 것이 편하지만, 개인용 컴퓨터 사양이 부족한 경우에는 Google CoLab을 사용할 수도 있습니다. 개인용 컴퓨터를 쓸 때는 Windows에서는 [WSL2](https://docs.microsoft.com/en-us/windows/wsl/install-win10)를 쓰시면 리눅스 커맨드라인 환경을 쓸 수 있습니다. Google Colab은 창을 닫은 후 90분 후, 또는 창을 처음 열고 12시간 후에 환경을 닫아버리기 때문에 매번 실습할 때마다 새로 셋업이 필요합니다. `Runtime->Run All`을 실행해서 전체를 한 번 실행하시면 준비됩니다. 모든 것이 잘 안 되고 뭔가 꼬인 느낌이 강하게 들 때는 `Runtime->Factory reset runtime`을 누르고 새로 시작하시면 될 수도 있습니다.\n"
      ]
    },
    {
      "cell_type": "markdown",
      "metadata": {
        "id": "O4ofnSipMuHa"
      },
      "source": [
        "## Google Drive 마운트\n",
        "\n",
        "데이터 파일들을 불러오고 저장하기 위해서 Google Drive를 연결합니다. **이번엔 스크립트 파일을 편집해야 하기 때문에 Google Drive 마운트를 하지 않으면 vim등 콘솔에서 쓸 수 있는 에디터를 쓰셔야 합니다.** 화면에 나오는 주소를 눌러서 인증하고 인증 코드를 그 아래에 입력하세요. 그러면 `/contents/drive/MyDrive`에서 자신의 Drive 최상단 폴더가 보입니다. Google CoLab에서 접속하지 않고, 본인 컴퓨터 또는 연구실 워크스테이션 등 다른 컴퓨터를 쓰시는 경우에는 저장공간이 충분하므로 이 부분은 생략하고 지나갑니다."
      ]
    },
    {
      "cell_type": "code",
      "execution_count": 1,
      "metadata": {
        "id": "2kWbS8JWMuHa",
        "colab": {
          "base_uri": "https://localhost:8080/"
        },
        "outputId": "2f300520-e73d-4f93-ea31-72dbfe2473b0"
      },
      "outputs": [
        {
          "output_type": "stream",
          "name": "stdout",
          "text": [
            "Mounted at /content/drive\n"
          ]
        }
      ],
      "source": [
        "from google.colab import drive\n",
        "drive.mount('/content/drive')"
      ]
    },
    {
      "cell_type": "markdown",
      "metadata": {
        "id": "xQZGShwEMuHa"
      },
      "source": [
        "## 실습용 Bioconda 환경 설치하기\n",
        "Google CoLab에서 접속하지 않고, 본인 컴퓨터 또는 연구실 워크스테이션 등 다른 컴퓨터를 쓰시는 경우에는 따로 실습용 [Bioconda](https://bioconda.github.io/) 환경을 구축해서 이 노트북을 그 환경 안에서 띄우시면 됩니다.\n",
        "\n",
        "CoLab을 쓰시는 분들은 다음에 따라서 실습용 프로그램들을 쉽게 설치할 수 있도록 [Bioconda](https://bioconda.github.io/) 환경을 만듭니다. 실행하고 진행상황을 관찰하다가 에러로 보이는 것이 있으면 잘 읽어보고 해결합니다.\n",
        "\n",
        "파이썬 모듈들은 Colab쪽의 파이썬 인터프리터를 바꿀 수 없기 때문에 Conda에 설치하더라도 사용하기 어렵습니다. 파이썬 모듈은 `pip` 명령어로 설치하시면 Colab에서 불러와서 사용할 수 있습니다.\n",
        "\n",
        "환경 초기화에 관련된 스크립트는 [GitHub 프로젝트](https://github.com/hyeshik/colab-biolab)에 있습니다."
      ]
    },
    {
      "cell_type": "code",
      "execution_count": 2,
      "metadata": {
        "colab": {
          "base_uri": "https://localhost:8080/"
        },
        "id": "_i5ZwVHUMuHb",
        "outputId": "2c7f5778-56f3-4343-c9eb-765bbcf51452"
      },
      "outputs": [
        {
          "output_type": "stream",
          "name": "stdout",
          "text": [
            "Cloning into 'colab-biolab'...\n",
            "remote: Enumerating objects: 69, done.\u001b[K\n",
            "remote: Counting objects: 100% (69/69), done.\u001b[K\n",
            "remote: Compressing objects: 100% (43/43), done.\u001b[K\n",
            "remote: Total 69 (delta 22), reused 54 (delta 13), pack-reused 0\u001b[K\n",
            "Unpacking objects: 100% (69/69), done.\n",
            "./\n",
            "./root/\n",
            "./root/.tmux.conf\n",
            "./root/.bashrc.biolab\n",
            "./root/.condarc\n",
            "./root/.bin.priority/\n",
            "./root/.bin.priority/pip3\n",
            "./root/.bin.priority/pip2\n",
            "./root/.bin.priority/pip\n",
            "./root/.profile\n",
            "./root/.vimrc\n",
            "--2022-05-13 03:54:58--  https://repo.anaconda.com/miniconda/Miniconda3-latest-Linux-x86_64.sh\n",
            "Resolving repo.anaconda.com (repo.anaconda.com)... 104.16.131.3, 104.16.130.3, 2606:4700::6810:8203, ...\n",
            "Connecting to repo.anaconda.com (repo.anaconda.com)|104.16.131.3|:443... connected.\n",
            "HTTP request sent, awaiting response... 200 OK\n",
            "Length: 75660608 (72M) [application/x-sh]\n",
            "Saving to: ‘miniconda3.sh’\n",
            "\n",
            "miniconda3.sh       100%[===================>]  72.16M   155MB/s    in 0.5s    \n",
            "\n",
            "2022-05-13 03:54:59 (155 MB/s) - ‘miniconda3.sh’ saved [75660608/75660608]\n",
            "\n",
            "PREFIX=/root/conda\n",
            "Unpacking payload ...\n",
            "Collecting package metadata (current_repodata.json): - \b\b\\ \b\b| \b\b/ \b\bdone\n",
            "Solving environment: \\ \b\b| \b\b/ \b\b- \b\bdone\n",
            "\n",
            "## Package Plan ##\n",
            "\n",
            "  environment location: /root/conda\n",
            "\n",
            "  added / updated specs:\n",
            "    - _libgcc_mutex==0.1=main\n",
            "    - _openmp_mutex==4.5=1_gnu\n",
            "    - brotlipy==0.7.0=py39h27cfd23_1003\n",
            "    - ca-certificates==2021.10.26=h06a4308_2\n",
            "    - certifi==2021.10.8=py39h06a4308_2\n",
            "    - cffi==1.15.0=py39hd667e15_1\n",
            "    - charset-normalizer==2.0.4=pyhd3eb1b0_0\n",
            "    - conda-content-trust==0.1.1=pyhd3eb1b0_0\n",
            "    - conda-package-handling==1.7.3=py39h27cfd23_1\n",
            "    - conda==4.11.0=py39h06a4308_0\n",
            "    - cryptography==36.0.0=py39h9ce1e76_0\n",
            "    - idna==3.3=pyhd3eb1b0_0\n",
            "    - ld_impl_linux-64==2.35.1=h7274673_9\n",
            "    - libffi==3.3=he6710b0_2\n",
            "    - libgcc-ng==9.3.0=h5101ec6_17\n",
            "    - libgomp==9.3.0=h5101ec6_17\n",
            "    - libstdcxx-ng==9.3.0=hd4cf53a_17\n",
            "    - ncurses==6.3=h7f8727e_2\n",
            "    - openssl==1.1.1m=h7f8727e_0\n",
            "    - pip==21.2.4=py39h06a4308_0\n",
            "    - pycosat==0.6.3=py39h27cfd23_0\n",
            "    - pycparser==2.21=pyhd3eb1b0_0\n",
            "    - pyopenssl==21.0.0=pyhd3eb1b0_1\n",
            "    - pysocks==1.7.1=py39h06a4308_0\n",
            "    - python==3.9.7=h12debd9_1\n",
            "    - readline==8.1.2=h7f8727e_1\n",
            "    - requests==2.27.1=pyhd3eb1b0_0\n",
            "    - ruamel_yaml==0.15.100=py39h27cfd23_0\n",
            "    - setuptools==58.0.4=py39h06a4308_0\n",
            "    - six==1.16.0=pyhd3eb1b0_0\n",
            "    - sqlite==3.37.0=hc218d9a_0\n",
            "    - tk==8.6.11=h1ccaba5_0\n",
            "    - tqdm==4.62.3=pyhd3eb1b0_1\n",
            "    - tzdata==2021e=hda174b7_0\n",
            "    - urllib3==1.26.7=pyhd3eb1b0_0\n",
            "    - wheel==0.37.1=pyhd3eb1b0_0\n",
            "    - xz==5.2.5=h7b6447c_0\n",
            "    - yaml==0.2.5=h7b6447c_0\n",
            "    - zlib==1.2.11=h7f8727e_4\n",
            "\n",
            "\n",
            "The following NEW packages will be INSTALLED:\n",
            "\n",
            "  _libgcc_mutex      pkgs/main/linux-64::_libgcc_mutex-0.1-main\n",
            "  _openmp_mutex      pkgs/main/linux-64::_openmp_mutex-4.5-1_gnu\n",
            "  brotlipy           pkgs/main/linux-64::brotlipy-0.7.0-py39h27cfd23_1003\n",
            "  ca-certificates    pkgs/main/linux-64::ca-certificates-2021.10.26-h06a4308_2\n",
            "  certifi            pkgs/main/linux-64::certifi-2021.10.8-py39h06a4308_2\n",
            "  cffi               pkgs/main/linux-64::cffi-1.15.0-py39hd667e15_1\n",
            "  charset-normalizer pkgs/main/noarch::charset-normalizer-2.0.4-pyhd3eb1b0_0\n",
            "  conda              pkgs/main/linux-64::conda-4.11.0-py39h06a4308_0\n",
            "  conda-content-tru~ pkgs/main/noarch::conda-content-trust-0.1.1-pyhd3eb1b0_0\n",
            "  conda-package-han~ pkgs/main/linux-64::conda-package-handling-1.7.3-py39h27cfd23_1\n",
            "  cryptography       pkgs/main/linux-64::cryptography-36.0.0-py39h9ce1e76_0\n",
            "  idna               pkgs/main/noarch::idna-3.3-pyhd3eb1b0_0\n",
            "  ld_impl_linux-64   pkgs/main/linux-64::ld_impl_linux-64-2.35.1-h7274673_9\n",
            "  libffi             pkgs/main/linux-64::libffi-3.3-he6710b0_2\n",
            "  libgcc-ng          pkgs/main/linux-64::libgcc-ng-9.3.0-h5101ec6_17\n",
            "  libgomp            pkgs/main/linux-64::libgomp-9.3.0-h5101ec6_17\n",
            "  libstdcxx-ng       pkgs/main/linux-64::libstdcxx-ng-9.3.0-hd4cf53a_17\n",
            "  ncurses            pkgs/main/linux-64::ncurses-6.3-h7f8727e_2\n",
            "  openssl            pkgs/main/linux-64::openssl-1.1.1m-h7f8727e_0\n",
            "  pip                pkgs/main/linux-64::pip-21.2.4-py39h06a4308_0\n",
            "  pycosat            pkgs/main/linux-64::pycosat-0.6.3-py39h27cfd23_0\n",
            "  pycparser          pkgs/main/noarch::pycparser-2.21-pyhd3eb1b0_0\n",
            "  pyopenssl          pkgs/main/noarch::pyopenssl-21.0.0-pyhd3eb1b0_1\n",
            "  pysocks            pkgs/main/linux-64::pysocks-1.7.1-py39h06a4308_0\n",
            "  python             pkgs/main/linux-64::python-3.9.7-h12debd9_1\n",
            "  readline           pkgs/main/linux-64::readline-8.1.2-h7f8727e_1\n",
            "  requests           pkgs/main/noarch::requests-2.27.1-pyhd3eb1b0_0\n",
            "  ruamel_yaml        pkgs/main/linux-64::ruamel_yaml-0.15.100-py39h27cfd23_0\n",
            "  setuptools         pkgs/main/linux-64::setuptools-58.0.4-py39h06a4308_0\n",
            "  six                pkgs/main/noarch::six-1.16.0-pyhd3eb1b0_0\n",
            "  sqlite             pkgs/main/linux-64::sqlite-3.37.0-hc218d9a_0\n",
            "  tk                 pkgs/main/linux-64::tk-8.6.11-h1ccaba5_0\n",
            "  tqdm               pkgs/main/noarch::tqdm-4.62.3-pyhd3eb1b0_1\n",
            "  tzdata             pkgs/main/noarch::tzdata-2021e-hda174b7_0\n",
            "  urllib3            pkgs/main/noarch::urllib3-1.26.7-pyhd3eb1b0_0\n",
            "  wheel              pkgs/main/noarch::wheel-0.37.1-pyhd3eb1b0_0\n",
            "  xz                 pkgs/main/linux-64::xz-5.2.5-h7b6447c_0\n",
            "  yaml               pkgs/main/linux-64::yaml-0.2.5-h7b6447c_0\n",
            "  zlib               pkgs/main/linux-64::zlib-1.2.11-h7f8727e_4\n",
            "\n",
            "\n",
            "Preparing transaction: | \b\b/ \b\b- \b\b\\ \b\bdone\n",
            "Executing transaction: / \b\b- \b\b\\ \b\b| \b\b/ \b\b- \b\b\\ \b\b| \b\b/ \b\b- \b\b\\ \b\b| \b\b/ \b\b- \b\b\\ \b\b| \b\b/ \b\bdone\n",
            "installation finished.\n",
            "WARNING:\n",
            "    You currently have a PYTHONPATH environment variable set. This may cause\n",
            "    unexpected behavior when running the Python interpreter in Miniconda3.\n",
            "    For best results, please verify that your PYTHONPATH only points to\n",
            "    directories of packages that are compatible with the Python interpreter\n",
            "    in Miniconda3: /root/conda\n",
            "Collecting package metadata (current_repodata.json): - \b\b\\ \b\b| \b\b/ \b\b- \b\b\\ \b\b| \b\b/ \b\b- \b\b\\ \b\b| \b\b/ \b\b- \b\b\\ \b\b| \b\b/ \b\b- \b\b\\ \b\b| \b\b/ \b\b- \b\b\\ \b\b| \b\b/ \b\b- \b\b\\ \b\b| \b\b/ \b\b- \b\b\\ \b\b| \b\b/ \b\b- \b\b\\ \b\b| \b\b/ \b\b- \b\b\\ \b\b| \b\b/ \b\b- \b\b\\ \b\b| \b\b/ \b\b- \b\b\\ \b\b| \b\b/ \b\b- \b\b\\ \b\b| \b\b/ \b\b- \b\b\\ \b\b| \b\b/ \b\b- \b\b\\ \b\b| \b\b/ \b\b- \b\b\\ \b\b| \b\b/ \b\b- \b\b\\ \b\b| \b\b/ \b\b- \b\b\\ \b\b| \b\b/ \b\b- \b\b\\ \b\b| \b\b/ \b\b- \b\b\\ \b\b| \b\b/ \b\b- \b\b\\ \b\b| \b\b/ \b\b- \b\b\\ \b\b| \b\b/ \b\b- \b\b\\ \b\b| \b\b/ \b\b- \b\b\\ \b\b| \b\b/ \b\b- \b\b\\ \b\b| \b\b/ \b\b- \b\b\\ \b\b| \b\b/ \b\b- \b\b\\ \b\b| \b\b/ \b\b- \b\b\\ \b\b| \b\b/ \b\b- \b\b\\ \b\b| \b\b/ \b\b- \b\b\\ \b\b| \b\b/ \b\b- \b\b\\ \b\b| \b\b/ \b\b- \b\b\\ \b\b| \b\b/ \b\b- \b\b\\ \b\bdone\n",
            "Solving environment: / \b\b- \b\b\\ \b\b| \b\b/ \b\b- \b\b\\ \b\b| \b\b/ \b\b- \b\b\\ \b\b| \b\b/ \b\b- \b\b\\ \b\b| \b\b/ \b\b- \b\b\\ \b\b| \b\b/ \b\b- \b\b\\ \b\b| \b\b/ \b\b- \b\b\\ \b\b| \b\b/ \b\b- \b\b\\ \b\b| \b\b/ \b\b- \b\b\\ \b\b| \b\b/ \b\b- \b\b\\ \b\b| \b\b/ \b\b- \b\b\\ \b\b| \b\b/ \b\b- \b\b\\ \b\b| \b\b/ \b\b- \b\b\\ \b\b| \b\b/ \b\b- \b\b\\ \b\b| \b\b/ \b\b- \b\b\\ \b\b| \b\b/ \b\b- \b\b\\ \b\b| \b\b/ \b\b- \b\b\\ \b\b| \b\b/ \b\b- \b\b\\ \b\b| \b\b/ \b\b- \b\b\\ \b\b| \b\b/ \b\b- \b\b\\ \b\b| \b\b/ \b\b- \b\b\\ \b\b| \b\b/ \b\b- \b\b\\ \b\b| \b\b/ \b\bdone\n",
            "\n",
            "\n",
            "==> WARNING: A newer version of conda exists. <==\n",
            "  current version: 4.11.0\n",
            "  latest version: 4.12.0\n",
            "\n",
            "Please update conda by running\n",
            "\n",
            "    $ conda update -n base -c defaults conda\n",
            "\n",
            "\n",
            "\n",
            "## Package Plan ##\n",
            "\n",
            "  environment location: /root/conda/envs/lab\n",
            "\n",
            "  added / updated specs:\n",
            "    - bedtools\n",
            "    - biopython\n",
            "    - bwa\n",
            "    - cython\n",
            "    - matplotlib\n",
            "    - numpy\n",
            "    - pandas\n",
            "    - pip\n",
            "    - pysam\n",
            "    - samtools\n",
            "    - scipy\n",
            "    - star\n",
            "\n",
            "\n",
            "The following packages will be downloaded:\n",
            "\n",
            "    package                    |            build\n",
            "    ---------------------------|-----------------\n",
            "    _libgcc_mutex-0.1          |      conda_forge           3 KB  conda-forge\n",
            "    _openmp_mutex-4.5          |            2_gnu          23 KB  conda-forge\n",
            "    alsa-lib-1.2.3.2           |       h166bdaf_0         554 KB  conda-forge\n",
            "    attr-2.5.1                 |       h166bdaf_0          69 KB  conda-forge\n",
            "    bedtools-2.30.0            |       h468198e_3        15.5 MB  bioconda\n",
            "    biopython-1.79             |   py39h3811e60_1         2.6 MB  conda-forge\n",
            "    brotli-1.0.9               |       h166bdaf_7          18 KB  conda-forge\n",
            "    brotli-bin-1.0.9           |       h166bdaf_7          19 KB  conda-forge\n",
            "    bwa-0.7.17                 |       h7132678_9         187 KB  bioconda\n",
            "    bzip2-1.0.8                |       h7f98852_4         484 KB  conda-forge\n",
            "    c-ares-1.18.1              |       h7f98852_0         113 KB  conda-forge\n",
            "    ca-certificates-2021.10.8  |       ha878542_0         139 KB  conda-forge\n",
            "    certifi-2021.10.8          |   py39hf3d152e_2         145 KB  conda-forge\n",
            "    cycler-0.11.0              |     pyhd8ed1ab_0          10 KB  conda-forge\n",
            "    cython-0.29.28             |   py39h5a03fae_2         2.1 MB  conda-forge\n",
            "    dbus-1.13.6                |       h5008d03_3         604 KB  conda-forge\n",
            "    expat-2.4.8                |       h27087fc_0         187 KB  conda-forge\n",
            "    fftw-3.3.10                |nompi_h77c792f_102         6.4 MB  conda-forge\n",
            "    font-ttf-dejavu-sans-mono-2.37|       hab24e00_0         388 KB  conda-forge\n",
            "    font-ttf-inconsolata-3.000 |       h77eed37_0          94 KB  conda-forge\n",
            "    font-ttf-source-code-pro-2.038|       h77eed37_0         684 KB  conda-forge\n",
            "    font-ttf-ubuntu-0.83       |       hab24e00_0         1.9 MB  conda-forge\n",
            "    fontconfig-2.14.0          |       h8e229c2_0         305 KB  conda-forge\n",
            "    fonts-conda-ecosystem-1    |                0           4 KB  conda-forge\n",
            "    fonts-conda-forge-1        |                0           4 KB  conda-forge\n",
            "    fonttools-4.33.3           |   py39hb9d737c_0         1.6 MB  conda-forge\n",
            "    freetype-2.10.4            |       h0708190_1         890 KB  conda-forge\n",
            "    gettext-0.19.8.1           |    h73d1719_1008         3.6 MB  conda-forge\n",
            "    giflib-5.2.1               |       h36c2ea0_2          77 KB  conda-forge\n",
            "    gst-plugins-base-1.20.2    |       hcf0ee16_0         2.8 MB  conda-forge\n",
            "    gstreamer-1.20.2           |       hd4edc92_0         2.0 MB  conda-forge\n",
            "    htslib-1.15.1              |       h9753748_0         2.1 MB  bioconda\n",
            "    icu-70.1                   |       h27087fc_0        13.5 MB  conda-forge\n",
            "    jack-1.9.18                |    hfd4fe87_1001         640 KB  conda-forge\n",
            "    jbig-2.1                   |    h7f98852_2003          43 KB  conda-forge\n",
            "    jpeg-9e                    |       h166bdaf_1         268 KB  conda-forge\n",
            "    json-c-0.15                |       h98cffda_0         274 KB  conda-forge\n",
            "    keyutils-1.6.1             |       h166bdaf_0         115 KB  conda-forge\n",
            "    kiwisolver-1.4.2           |   py39hf939315_1          75 KB  conda-forge\n",
            "    krb5-1.19.3                |       h3790be6_0         1.4 MB  conda-forge\n",
            "    lcms2-2.12                 |       hddcbb42_0         443 KB  conda-forge\n",
            "    ld_impl_linux-64-2.36.1    |       hea4e1c9_2         667 KB  conda-forge\n",
            "    lerc-3.0                   |       h9c3ff4c_0         216 KB  conda-forge\n",
            "    libblas-3.9.0              |14_linux64_openblas          12 KB  conda-forge\n",
            "    libbrotlicommon-1.0.9      |       h166bdaf_7          65 KB  conda-forge\n",
            "    libbrotlidec-1.0.9         |       h166bdaf_7          33 KB  conda-forge\n",
            "    libbrotlienc-1.0.9         |       h166bdaf_7         287 KB  conda-forge\n",
            "    libcap-2.51                |       h166bdaf_1          85 KB  conda-forge\n",
            "    libcblas-3.9.0             |14_linux64_openblas          12 KB  conda-forge\n",
            "    libclang-14.0.3            |default_h2e3cab8_0         127 KB  conda-forge\n",
            "    libclang13-14.0.3          |default_h3a83d3e_0        10.6 MB  conda-forge\n",
            "    libcups-2.3.3              |       hf5a7f15_1         4.6 MB  conda-forge\n",
            "    libcurl-7.83.1             |       h7bff187_0         342 KB  conda-forge\n",
            "    libdb-6.2.32               |       h9c3ff4c_0        23.3 MB  conda-forge\n",
            "    libdeflate-1.10            |       h7f98852_0          77 KB  conda-forge\n",
            "    libedit-3.1.20191231       |       he28a2e2_2         121 KB  conda-forge\n",
            "    libev-4.33                 |       h516909a_1         104 KB  conda-forge\n",
            "    libevent-2.1.10            |       h9b69904_4         1.1 MB  conda-forge\n",
            "    libffi-3.4.2               |       h7f98852_5          57 KB  conda-forge\n",
            "    libflac-1.3.4              |       h27087fc_0         474 KB  conda-forge\n",
            "    libgcc-ng-12.1.0           |      h8d9b700_16         940 KB  conda-forge\n",
            "    libgfortran-ng-12.1.0      |      h69a702a_16          23 KB  conda-forge\n",
            "    libgfortran5-12.1.0        |      hdcd56e2_16         1.8 MB  conda-forge\n",
            "    libglib-2.70.2             |       h174f98d_4         3.1 MB  conda-forge\n",
            "    libgomp-12.1.0             |      h8d9b700_16         459 KB  conda-forge\n",
            "    libiconv-1.16              |       h516909a_0         1.4 MB  conda-forge\n",
            "    liblapack-3.9.0            |14_linux64_openblas          12 KB  conda-forge\n",
            "    libllvm14-14.0.3           |       he0ac6c6_0        35.2 MB  conda-forge\n",
            "    libnghttp2-1.47.0          |       h727a467_0         808 KB  conda-forge\n",
            "    libnsl-2.0.0               |       h7f98852_0          31 KB  conda-forge\n",
            "    libogg-1.3.4               |       h7f98852_1         206 KB  conda-forge\n",
            "    libopenblas-0.3.20         |pthreads_h78a6416_0        10.1 MB  conda-forge\n",
            "    libopus-1.3.1              |       h7f98852_1         255 KB  conda-forge\n",
            "    libpng-1.6.37              |       h21135ba_2         306 KB  conda-forge\n",
            "    libpq-14.3                 |       hd77ab85_0         3.0 MB  conda-forge\n",
            "    libsndfile-1.0.31          |       h9c3ff4c_1         602 KB  conda-forge\n",
            "    libssh2-1.10.0             |       ha56f1ee_2         233 KB  conda-forge\n",
            "    libstdcxx-ng-12.1.0        |      ha89aaad_16         4.3 MB  conda-forge\n",
            "    libtiff-4.3.0              |       h542a066_3         638 KB  conda-forge\n",
            "    libtool-2.4.6              |    h9c3ff4c_1008         511 KB  conda-forge\n",
            "    libuuid-2.32.1             |    h7f98852_1000          28 KB  conda-forge\n",
            "    libvorbis-1.3.7            |       h9c3ff4c_0         280 KB  conda-forge\n",
            "    libwebp-1.2.2              |       h3452ae3_0          85 KB  conda-forge\n",
            "    libwebp-base-1.2.2         |       h7f98852_1         824 KB  conda-forge\n",
            "    libxcb-1.13                |    h7f98852_1004         391 KB  conda-forge\n",
            "    libxkbcommon-1.0.3         |       he3ba5ed_0         581 KB  conda-forge\n",
            "    libxml2-2.9.14             |       h22db469_0         770 KB  conda-forge\n",
            "    libzlib-1.2.11             |    h166bdaf_1014          60 KB  conda-forge\n",
            "    lz4-c-1.9.3                |       h9c3ff4c_1         179 KB  conda-forge\n",
            "    matplotlib-3.5.2           |   py39hf3d152e_0           6 KB  conda-forge\n",
            "    matplotlib-base-3.5.2      |   py39h700656a_0         7.3 MB  conda-forge\n",
            "    munkres-1.1.4              |     pyh9f0ad1d_0          12 KB  conda-forge\n",
            "    mysql-common-8.0.29        |       haf5c9bc_0         1.8 MB  conda-forge\n",
            "    mysql-libs-8.0.29          |       h28c427c_0         1.9 MB  conda-forge\n",
            "    ncurses-6.3                |       h27087fc_1        1002 KB  conda-forge\n",
            "    nspr-4.32                  |       h9c3ff4c_1         233 KB  conda-forge\n",
            "    nss-3.77                   |       h2350873_0         2.1 MB  conda-forge\n",
            "    numpy-1.22.3               |   py39hc58783e_2         6.8 MB  conda-forge\n",
            "    openjpeg-2.4.0             |       hb52868f_1         444 KB  conda-forge\n",
            "    openssl-1.1.1o             |       h166bdaf_0         2.1 MB  conda-forge\n",
            "    packaging-21.3             |     pyhd8ed1ab_0          36 KB  conda-forge\n",
            "    pandas-1.4.2               |   py39h1832856_1        12.5 MB  conda-forge\n",
            "    pcre-8.45                  |       h9c3ff4c_0         253 KB  conda-forge\n",
            "    perl-5.32.1                | 2_h7f98852_perl5        14.4 MB  conda-forge\n",
            "    pillow-9.1.0               |   py39hae2aec6_2        45.0 MB  conda-forge\n",
            "    pip-22.1                   |     pyhd8ed1ab_0         1.6 MB  conda-forge\n",
            "    pthread-stubs-0.4          |    h36c2ea0_1001           5 KB  conda-forge\n",
            "    pulseaudio-14.0            |       hb166930_4         1.6 MB  conda-forge\n",
            "    pyparsing-3.0.9            |     pyhd8ed1ab_0          79 KB  conda-forge\n",
            "    pyqt-5.15.4                |   py39h5a03fae_0         6.2 MB  conda-forge\n",
            "    pyqt5-sip-12.9.0           |   py39h5a03fae_0          84 KB  conda-forge\n",
            "    pysam-0.19.0               |   py39h5030a8b_0         2.7 MB  bioconda\n",
            "    python-3.9.12              |h9a8a25e_1_cpython        26.7 MB  conda-forge\n",
            "    python-dateutil-2.8.2      |     pyhd8ed1ab_0         240 KB  conda-forge\n",
            "    python_abi-3.9             |           2_cp39           4 KB  conda-forge\n",
            "    pytz-2022.1                |     pyhd8ed1ab_0         242 KB  conda-forge\n",
            "    qt-main-5.15.3             |       hf97cb25_1        62.2 MB  conda-forge\n",
            "    readline-8.1               |       h46c0cb4_0         295 KB  conda-forge\n",
            "    samtools-1.15.1            |       h1170115_0         393 KB  bioconda\n",
            "    scipy-1.8.0                |   py39hee8e79c_1        25.4 MB  conda-forge\n",
            "    setuptools-62.2.0          |   py39hf3d152e_0         1.2 MB  conda-forge\n",
            "    sip-6.5.1                  |   py39he80948d_2         389 KB  conda-forge\n",
            "    six-1.16.0                 |     pyh6c4a22f_0          14 KB  conda-forge\n",
            "    sqlite-3.38.5              |       h4ff8645_0         1.5 MB  conda-forge\n",
            "    star-2.7.10a               |       h9ee0642_0         4.9 MB  bioconda\n",
            "    tk-8.6.12                  |       h27826a3_0         3.3 MB  conda-forge\n",
            "    toml-0.10.2                |     pyhd8ed1ab_0          18 KB  conda-forge\n",
            "    tornado-6.1                |   py39hb9d737c_3         649 KB  conda-forge\n",
            "    tzdata-2022a               |       h191b570_0         121 KB  conda-forge\n",
            "    unicodedata2-14.0.0        |   py39hb9d737c_1         498 KB  conda-forge\n",
            "    wheel-0.37.1               |     pyhd8ed1ab_0          31 KB  conda-forge\n",
            "    xorg-libxau-1.0.9          |       h7f98852_0          13 KB  conda-forge\n",
            "    xorg-libxdmcp-1.1.3        |       h7f98852_0          19 KB  conda-forge\n",
            "    xz-5.2.5                   |       h516909a_1         343 KB  conda-forge\n",
            "    zlib-1.2.11                |    h166bdaf_1014          88 KB  conda-forge\n",
            "    zstd-1.5.2                 |       ha95c52a_0         458 KB  conda-forge\n",
            "    ------------------------------------------------------------\n",
            "                                           Total:       408.3 MB\n",
            "\n",
            "The following NEW packages will be INSTALLED:\n",
            "\n",
            "  _libgcc_mutex      conda-forge/linux-64::_libgcc_mutex-0.1-conda_forge\n",
            "  _openmp_mutex      conda-forge/linux-64::_openmp_mutex-4.5-2_gnu\n",
            "  alsa-lib           conda-forge/linux-64::alsa-lib-1.2.3.2-h166bdaf_0\n",
            "  attr               conda-forge/linux-64::attr-2.5.1-h166bdaf_0\n",
            "  bedtools           bioconda/linux-64::bedtools-2.30.0-h468198e_3\n",
            "  biopython          conda-forge/linux-64::biopython-1.79-py39h3811e60_1\n",
            "  brotli             conda-forge/linux-64::brotli-1.0.9-h166bdaf_7\n",
            "  brotli-bin         conda-forge/linux-64::brotli-bin-1.0.9-h166bdaf_7\n",
            "  bwa                bioconda/linux-64::bwa-0.7.17-h7132678_9\n",
            "  bzip2              conda-forge/linux-64::bzip2-1.0.8-h7f98852_4\n",
            "  c-ares             conda-forge/linux-64::c-ares-1.18.1-h7f98852_0\n",
            "  ca-certificates    conda-forge/linux-64::ca-certificates-2021.10.8-ha878542_0\n",
            "  certifi            conda-forge/linux-64::certifi-2021.10.8-py39hf3d152e_2\n",
            "  cycler             conda-forge/noarch::cycler-0.11.0-pyhd8ed1ab_0\n",
            "  cython             conda-forge/linux-64::cython-0.29.28-py39h5a03fae_2\n",
            "  dbus               conda-forge/linux-64::dbus-1.13.6-h5008d03_3\n",
            "  expat              conda-forge/linux-64::expat-2.4.8-h27087fc_0\n",
            "  fftw               conda-forge/linux-64::fftw-3.3.10-nompi_h77c792f_102\n",
            "  font-ttf-dejavu-s~ conda-forge/noarch::font-ttf-dejavu-sans-mono-2.37-hab24e00_0\n",
            "  font-ttf-inconsol~ conda-forge/noarch::font-ttf-inconsolata-3.000-h77eed37_0\n",
            "  font-ttf-source-c~ conda-forge/noarch::font-ttf-source-code-pro-2.038-h77eed37_0\n",
            "  font-ttf-ubuntu    conda-forge/noarch::font-ttf-ubuntu-0.83-hab24e00_0\n",
            "  fontconfig         conda-forge/linux-64::fontconfig-2.14.0-h8e229c2_0\n",
            "  fonts-conda-ecosy~ conda-forge/noarch::fonts-conda-ecosystem-1-0\n",
            "  fonts-conda-forge  conda-forge/noarch::fonts-conda-forge-1-0\n",
            "  fonttools          conda-forge/linux-64::fonttools-4.33.3-py39hb9d737c_0\n",
            "  freetype           conda-forge/linux-64::freetype-2.10.4-h0708190_1\n",
            "  gettext            conda-forge/linux-64::gettext-0.19.8.1-h73d1719_1008\n",
            "  giflib             conda-forge/linux-64::giflib-5.2.1-h36c2ea0_2\n",
            "  gst-plugins-base   conda-forge/linux-64::gst-plugins-base-1.20.2-hcf0ee16_0\n",
            "  gstreamer          conda-forge/linux-64::gstreamer-1.20.2-hd4edc92_0\n",
            "  htslib             bioconda/linux-64::htslib-1.15.1-h9753748_0\n",
            "  icu                conda-forge/linux-64::icu-70.1-h27087fc_0\n",
            "  jack               conda-forge/linux-64::jack-1.9.18-hfd4fe87_1001\n",
            "  jbig               conda-forge/linux-64::jbig-2.1-h7f98852_2003\n",
            "  jpeg               conda-forge/linux-64::jpeg-9e-h166bdaf_1\n",
            "  json-c             conda-forge/linux-64::json-c-0.15-h98cffda_0\n",
            "  keyutils           conda-forge/linux-64::keyutils-1.6.1-h166bdaf_0\n",
            "  kiwisolver         conda-forge/linux-64::kiwisolver-1.4.2-py39hf939315_1\n",
            "  krb5               conda-forge/linux-64::krb5-1.19.3-h3790be6_0\n",
            "  lcms2              conda-forge/linux-64::lcms2-2.12-hddcbb42_0\n",
            "  ld_impl_linux-64   conda-forge/linux-64::ld_impl_linux-64-2.36.1-hea4e1c9_2\n",
            "  lerc               conda-forge/linux-64::lerc-3.0-h9c3ff4c_0\n",
            "  libblas            conda-forge/linux-64::libblas-3.9.0-14_linux64_openblas\n",
            "  libbrotlicommon    conda-forge/linux-64::libbrotlicommon-1.0.9-h166bdaf_7\n",
            "  libbrotlidec       conda-forge/linux-64::libbrotlidec-1.0.9-h166bdaf_7\n",
            "  libbrotlienc       conda-forge/linux-64::libbrotlienc-1.0.9-h166bdaf_7\n",
            "  libcap             conda-forge/linux-64::libcap-2.51-h166bdaf_1\n",
            "  libcblas           conda-forge/linux-64::libcblas-3.9.0-14_linux64_openblas\n",
            "  libclang           conda-forge/linux-64::libclang-14.0.3-default_h2e3cab8_0\n",
            "  libclang13         conda-forge/linux-64::libclang13-14.0.3-default_h3a83d3e_0\n",
            "  libcups            conda-forge/linux-64::libcups-2.3.3-hf5a7f15_1\n",
            "  libcurl            conda-forge/linux-64::libcurl-7.83.1-h7bff187_0\n",
            "  libdb              conda-forge/linux-64::libdb-6.2.32-h9c3ff4c_0\n",
            "  libdeflate         conda-forge/linux-64::libdeflate-1.10-h7f98852_0\n",
            "  libedit            conda-forge/linux-64::libedit-3.1.20191231-he28a2e2_2\n",
            "  libev              conda-forge/linux-64::libev-4.33-h516909a_1\n",
            "  libevent           conda-forge/linux-64::libevent-2.1.10-h9b69904_4\n",
            "  libffi             conda-forge/linux-64::libffi-3.4.2-h7f98852_5\n",
            "  libflac            conda-forge/linux-64::libflac-1.3.4-h27087fc_0\n",
            "  libgcc-ng          conda-forge/linux-64::libgcc-ng-12.1.0-h8d9b700_16\n",
            "  libgfortran-ng     conda-forge/linux-64::libgfortran-ng-12.1.0-h69a702a_16\n",
            "  libgfortran5       conda-forge/linux-64::libgfortran5-12.1.0-hdcd56e2_16\n",
            "  libglib            conda-forge/linux-64::libglib-2.70.2-h174f98d_4\n",
            "  libgomp            conda-forge/linux-64::libgomp-12.1.0-h8d9b700_16\n",
            "  libiconv           conda-forge/linux-64::libiconv-1.16-h516909a_0\n",
            "  liblapack          conda-forge/linux-64::liblapack-3.9.0-14_linux64_openblas\n",
            "  libllvm14          conda-forge/linux-64::libllvm14-14.0.3-he0ac6c6_0\n",
            "  libnghttp2         conda-forge/linux-64::libnghttp2-1.47.0-h727a467_0\n",
            "  libnsl             conda-forge/linux-64::libnsl-2.0.0-h7f98852_0\n",
            "  libogg             conda-forge/linux-64::libogg-1.3.4-h7f98852_1\n",
            "  libopenblas        conda-forge/linux-64::libopenblas-0.3.20-pthreads_h78a6416_0\n",
            "  libopus            conda-forge/linux-64::libopus-1.3.1-h7f98852_1\n",
            "  libpng             conda-forge/linux-64::libpng-1.6.37-h21135ba_2\n",
            "  libpq              conda-forge/linux-64::libpq-14.3-hd77ab85_0\n",
            "  libsndfile         conda-forge/linux-64::libsndfile-1.0.31-h9c3ff4c_1\n",
            "  libssh2            conda-forge/linux-64::libssh2-1.10.0-ha56f1ee_2\n",
            "  libstdcxx-ng       conda-forge/linux-64::libstdcxx-ng-12.1.0-ha89aaad_16\n",
            "  libtiff            conda-forge/linux-64::libtiff-4.3.0-h542a066_3\n",
            "  libtool            conda-forge/linux-64::libtool-2.4.6-h9c3ff4c_1008\n",
            "  libuuid            conda-forge/linux-64::libuuid-2.32.1-h7f98852_1000\n",
            "  libvorbis          conda-forge/linux-64::libvorbis-1.3.7-h9c3ff4c_0\n",
            "  libwebp            conda-forge/linux-64::libwebp-1.2.2-h3452ae3_0\n",
            "  libwebp-base       conda-forge/linux-64::libwebp-base-1.2.2-h7f98852_1\n",
            "  libxcb             conda-forge/linux-64::libxcb-1.13-h7f98852_1004\n",
            "  libxkbcommon       conda-forge/linux-64::libxkbcommon-1.0.3-he3ba5ed_0\n",
            "  libxml2            conda-forge/linux-64::libxml2-2.9.14-h22db469_0\n",
            "  libzlib            conda-forge/linux-64::libzlib-1.2.11-h166bdaf_1014\n",
            "  lz4-c              conda-forge/linux-64::lz4-c-1.9.3-h9c3ff4c_1\n",
            "  matplotlib         conda-forge/linux-64::matplotlib-3.5.2-py39hf3d152e_0\n",
            "  matplotlib-base    conda-forge/linux-64::matplotlib-base-3.5.2-py39h700656a_0\n",
            "  munkres            conda-forge/noarch::munkres-1.1.4-pyh9f0ad1d_0\n",
            "  mysql-common       conda-forge/linux-64::mysql-common-8.0.29-haf5c9bc_0\n",
            "  mysql-libs         conda-forge/linux-64::mysql-libs-8.0.29-h28c427c_0\n",
            "  ncurses            conda-forge/linux-64::ncurses-6.3-h27087fc_1\n",
            "  nspr               conda-forge/linux-64::nspr-4.32-h9c3ff4c_1\n",
            "  nss                conda-forge/linux-64::nss-3.77-h2350873_0\n",
            "  numpy              conda-forge/linux-64::numpy-1.22.3-py39hc58783e_2\n",
            "  openjpeg           conda-forge/linux-64::openjpeg-2.4.0-hb52868f_1\n",
            "  openssl            conda-forge/linux-64::openssl-1.1.1o-h166bdaf_0\n",
            "  packaging          conda-forge/noarch::packaging-21.3-pyhd8ed1ab_0\n",
            "  pandas             conda-forge/linux-64::pandas-1.4.2-py39h1832856_1\n",
            "  pcre               conda-forge/linux-64::pcre-8.45-h9c3ff4c_0\n",
            "  perl               conda-forge/linux-64::perl-5.32.1-2_h7f98852_perl5\n",
            "  pillow             conda-forge/linux-64::pillow-9.1.0-py39hae2aec6_2\n",
            "  pip                conda-forge/noarch::pip-22.1-pyhd8ed1ab_0\n",
            "  pthread-stubs      conda-forge/linux-64::pthread-stubs-0.4-h36c2ea0_1001\n",
            "  pulseaudio         conda-forge/linux-64::pulseaudio-14.0-hb166930_4\n",
            "  pyparsing          conda-forge/noarch::pyparsing-3.0.9-pyhd8ed1ab_0\n",
            "  pyqt               conda-forge/linux-64::pyqt-5.15.4-py39h5a03fae_0\n",
            "  pyqt5-sip          conda-forge/linux-64::pyqt5-sip-12.9.0-py39h5a03fae_0\n",
            "  pysam              bioconda/linux-64::pysam-0.19.0-py39h5030a8b_0\n",
            "  python             conda-forge/linux-64::python-3.9.12-h9a8a25e_1_cpython\n",
            "  python-dateutil    conda-forge/noarch::python-dateutil-2.8.2-pyhd8ed1ab_0\n",
            "  python_abi         conda-forge/linux-64::python_abi-3.9-2_cp39\n",
            "  pytz               conda-forge/noarch::pytz-2022.1-pyhd8ed1ab_0\n",
            "  qt-main            conda-forge/linux-64::qt-main-5.15.3-hf97cb25_1\n",
            "  readline           conda-forge/linux-64::readline-8.1-h46c0cb4_0\n",
            "  samtools           bioconda/linux-64::samtools-1.15.1-h1170115_0\n",
            "  scipy              conda-forge/linux-64::scipy-1.8.0-py39hee8e79c_1\n",
            "  setuptools         conda-forge/linux-64::setuptools-62.2.0-py39hf3d152e_0\n",
            "  sip                conda-forge/linux-64::sip-6.5.1-py39he80948d_2\n",
            "  six                conda-forge/noarch::six-1.16.0-pyh6c4a22f_0\n",
            "  sqlite             conda-forge/linux-64::sqlite-3.38.5-h4ff8645_0\n",
            "  star               bioconda/linux-64::star-2.7.10a-h9ee0642_0\n",
            "  tk                 conda-forge/linux-64::tk-8.6.12-h27826a3_0\n",
            "  toml               conda-forge/noarch::toml-0.10.2-pyhd8ed1ab_0\n",
            "  tornado            conda-forge/linux-64::tornado-6.1-py39hb9d737c_3\n",
            "  tzdata             conda-forge/noarch::tzdata-2022a-h191b570_0\n",
            "  unicodedata2       conda-forge/linux-64::unicodedata2-14.0.0-py39hb9d737c_1\n",
            "  wheel              conda-forge/noarch::wheel-0.37.1-pyhd8ed1ab_0\n",
            "  xorg-libxau        conda-forge/linux-64::xorg-libxau-1.0.9-h7f98852_0\n",
            "  xorg-libxdmcp      conda-forge/linux-64::xorg-libxdmcp-1.1.3-h7f98852_0\n",
            "  xz                 conda-forge/linux-64::xz-5.2.5-h516909a_1\n",
            "  zlib               conda-forge/linux-64::zlib-1.2.11-h166bdaf_1014\n",
            "  zstd               conda-forge/linux-64::zstd-1.5.2-ha95c52a_0\n",
            "\n",
            "\n",
            "\n",
            "Downloading and Extracting Packages\n",
            "lerc-3.0             | 216 KB    | : 100% 1.0/1 [00:00<00:00,  6.52it/s]               \n",
            "libclang-14.0.3      | 127 KB    | : 100% 1.0/1 [00:00<00:00, 14.56it/s]\n",
            "libpq-14.3           | 3.0 MB    | : 100% 1.0/1 [00:00<00:00,  1.42it/s]\n",
            "nss-3.77             | 2.1 MB    | : 100% 1.0/1 [00:00<00:00,  2.33it/s]\n",
            "libxcb-1.13          | 391 KB    | : 100% 1.0/1 [00:00<00:00,  5.87it/s]\n",
            "fftw-3.3.10          | 6.4 MB    | : 100% 1.0/1 [00:01<00:00,  1.29s/it]\n",
            "_openmp_mutex-4.5    | 23 KB     | : 100% 1.0/1 [00:00<00:00, 11.19it/s]\n",
            "pcre-8.45            | 253 KB    | : 100% 1.0/1 [00:00<00:00, 11.25it/s]\n",
            "libpng-1.6.37        | 306 KB    | : 100% 1.0/1 [00:00<00:00,  9.84it/s]\n",
            "libtool-2.4.6        | 511 KB    | : 100% 1.0/1 [00:00<00:00,  6.13it/s]\n",
            "ca-certificates-2021 | 139 KB    | : 100% 1.0/1 [00:00<00:00, 18.09it/s]\n",
            "openjpeg-2.4.0       | 444 KB    | : 100% 1.0/1 [00:00<00:00,  7.66it/s]\n",
            "libnghttp2-1.47.0    | 808 KB    | : 100% 1.0/1 [00:00<00:00,  5.45it/s]\n",
            "xorg-libxau-1.0.9    | 13 KB     | : 100% 1.0/1 [00:00<00:00, 19.29it/s]\n",
            "gstreamer-1.20.2     | 2.0 MB    | : 100% 1.0/1 [00:00<00:00,  1.65it/s]\n",
            "libflac-1.3.4        | 474 KB    | : 100% 1.0/1 [00:00<00:00,  8.73it/s]\n",
            "font-ttf-ubuntu-0.83 | 1.9 MB    | : 100% 1.0/1 [00:00<00:00,  2.88it/s]\n",
            "jbig-2.1             | 43 KB     | : 100% 1.0/1 [00:00<00:00, 23.03it/s]\n",
            "libxkbcommon-1.0.3   | 581 KB    | : 100% 1.0/1 [00:00<00:00,  6.83it/s]\n",
            "unicodedata2-14.0.0  | 498 KB    | : 100% 1.0/1 [00:00<00:00,  8.57it/s]\n",
            "tzdata-2022a         | 121 KB    | : 100% 1.0/1 [00:00<00:00,  7.79it/s]\n",
            "libgomp-12.1.0       | 459 KB    | : 100% 1.0/1 [00:00<00:00,  8.93it/s]\n",
            "dbus-1.13.6          | 604 KB    | : 100% 1.0/1 [00:00<00:00,  6.67it/s]\n",
            "pthread-stubs-0.4    | 5 KB      | : 100% 1.0/1 [00:00<00:00, 20.86it/s]\n",
            "libwebp-base-1.2.2   | 824 KB    | : 100% 1.0/1 [00:00<00:00,  5.61it/s]\n",
            "fonts-conda-forge-1  | 4 KB      | : 100% 1.0/1 [00:00<00:00, 27.25it/s]\n",
            "liblapack-3.9.0      | 12 KB     | : 100% 1.0/1 [00:00<00:00, 29.37it/s]\n",
            "pyqt5-sip-12.9.0     | 84 KB     | : 100% 1.0/1 [00:00<00:00, 16.48it/s]\n",
            "libsndfile-1.0.31    | 602 KB    | : 100% 1.0/1 [00:00<00:00,  7.24it/s]\n",
            "mysql-common-8.0.29  | 1.8 MB    | : 100% 1.0/1 [00:00<00:00,  1.90it/s]\n",
            "expat-2.4.8          | 187 KB    | : 100% 1.0/1 [00:00<00:00, 13.77it/s]\n",
            "json-c-0.15          | 274 KB    | : 100% 1.0/1 [00:00<00:00, 11.00it/s]\n",
            "packaging-21.3       | 36 KB     | : 100% 1.0/1 [00:00<00:00, 23.28it/s]\n",
            "setuptools-62.2.0    | 1.2 MB    | : 100% 1.0/1 [00:00<00:00,  2.67it/s]\n",
            "alsa-lib-1.2.3.2     | 554 KB    | : 100% 1.0/1 [00:00<00:00,  6.91it/s]\n",
            "libdb-6.2.32         | 23.3 MB   | : 100% 1.0/1 [00:05<00:00,  5.65s/it]               \n",
            "libffi-3.4.2         | 57 KB     | : 100% 1.0/1 [00:00<00:00, 19.72it/s]\n",
            "gst-plugins-base-1.2 | 2.8 MB    | : 100% 1.0/1 [00:00<00:00,  1.53it/s]\n",
            "python-dateutil-2.8. | 240 KB    | : 100% 1.0/1 [00:00<00:00, 11.57it/s]\n",
            "gettext-0.19.8.1     | 3.6 MB    | : 100% 1.0/1 [00:01<00:00,  1.07s/it]\n",
            "xorg-libxdmcp-1.1.3  | 19 KB     | : 100% 1.0/1 [00:00<00:00, 21.64it/s]\n",
            "lz4-c-1.9.3          | 179 KB    | : 100% 1.0/1 [00:00<00:00, 12.30it/s]\n",
            "libedit-3.1.20191231 | 121 KB    | : 100% 1.0/1 [00:00<00:00, 14.51it/s]\n",
            "libllvm14-14.0.3     | 35.2 MB   | : 100% 1.0/1 [00:06<00:00,  6.90s/it]               \n",
            "wheel-0.37.1         | 31 KB     | : 100% 1.0/1 [00:00<00:00, 22.17it/s]\n",
            "libclang13-14.0.3    | 10.6 MB   | : 100% 1.0/1 [00:02<00:00,  2.44s/it]               \n",
            "scipy-1.8.0          | 25.4 MB   | : 100% 1.0/1 [00:05<00:00,  5.38s/it]               \n",
            "cython-0.29.28       | 2.1 MB    | : 100% 1.0/1 [00:00<00:00,  1.67it/s]\n",
            "fonttools-4.33.3     | 1.6 MB    | : 100% 1.0/1 [00:00<00:00,  1.07it/s]\n",
            "font-ttf-dejavu-sans | 388 KB    | : 100% 1.0/1 [00:00<00:00, 11.24it/s]\n",
            "libwebp-1.2.2        | 85 KB     | : 100% 1.0/1 [00:00<00:00, 21.04it/s]\n",
            "matplotlib-3.5.2     | 6 KB      | : 100% 1.0/1 [00:00<00:00, 28.67it/s]\n",
            "zlib-1.2.11          | 88 KB     | : 100% 1.0/1 [00:00<00:00, 20.25it/s]\n",
            "pip-22.1             | 1.6 MB    | : 100% 1.0/1 [00:00<00:00,  1.16it/s]               \n",
            "libcap-2.51          | 85 KB     | : 100% 1.0/1 [00:00<00:00, 14.53it/s]\n",
            "pillow-9.1.0         | 45.0 MB   | : 100% 1.0/1 [00:05<00:00,  5.86s/it]               \n",
            "libstdcxx-ng-12.1.0  | 4.3 MB    | : 100% 1.0/1 [00:00<00:00,  1.31it/s]\n",
            "libcurl-7.83.1       | 342 KB    | : 100% 1.0/1 [00:00<00:00,  8.65it/s]\n",
            "c-ares-1.18.1        | 113 KB    | : 100% 1.0/1 [00:00<00:00, 15.55it/s]\n",
            "pyparsing-3.0.9      | 79 KB     | : 100% 1.0/1 [00:00<00:00, 15.14it/s]\n",
            "libdeflate-1.10      | 77 KB     | : 100% 1.0/1 [00:00<00:00, 16.23it/s]\n",
            "kiwisolver-1.4.2     | 75 KB     | : 100% 1.0/1 [00:00<00:00, 21.54it/s]\n",
            "tk-8.6.12            | 3.3 MB    | : 100% 1.0/1 [00:00<00:00,  1.20it/s]\n",
            "libglib-2.70.2       | 3.1 MB    | : 100% 1.0/1 [00:00<00:00,  1.20it/s]\n",
            "libuuid-2.32.1       | 28 KB     | : 100% 1.0/1 [00:00<00:00, 22.52it/s]\n",
            "pytz-2022.1          | 242 KB    | : 100% 1.0/1 [00:00<00:00,  5.04it/s]\n",
            "biopython-1.79       | 2.6 MB    | : 100% 1.0/1 [00:01<00:00,  1.14s/it]               \n",
            "pyqt-5.15.4          | 6.2 MB    | : 100% 1.0/1 [00:01<00:00,  1.77s/it]\n",
            "libev-4.33           | 104 KB    | : 100% 1.0/1 [00:00<00:00, 19.76it/s]\n",
            "libvorbis-1.3.7      | 280 KB    | : 100% 1.0/1 [00:00<00:00, 11.97it/s]\n",
            "font-ttf-inconsolata | 94 KB     | : 100% 1.0/1 [00:00<00:00, 19.37it/s]\n",
            "libgfortran5-12.1.0  | 1.8 MB    | : 100% 1.0/1 [00:00<00:00,  2.32it/s]\n",
            "mysql-libs-8.0.29    | 1.9 MB    | : 100% 1.0/1 [00:00<00:00,  2.56it/s]\n",
            "numpy-1.22.3         | 6.8 MB    | : 100% 1.0/1 [00:01<00:00,  1.76s/it]\n",
            "freetype-2.10.4      | 890 KB    | : 100% 1.0/1 [00:00<00:00,  4.79it/s]\n",
            "six-1.16.0           | 14 KB     | : 100% 1.0/1 [00:00<00:00, 24.35it/s]\n",
            "fonts-conda-ecosyste | 4 KB      | : 100% 1.0/1 [00:00<00:00, 26.86it/s]\n",
            "readline-8.1         | 295 KB    | : 100% 1.0/1 [00:00<00:00, 10.82it/s]\n",
            "_libgcc_mutex-0.1    | 3 KB      | : 100% 1.0/1 [00:00<00:00, 18.87it/s]\n",
            "libopus-1.3.1        | 255 KB    | : 100% 1.0/1 [00:00<00:00, 14.37it/s]\n",
            "sip-6.5.1            | 389 KB    | : 100% 1.0/1 [00:00<00:00,  6.42it/s]\n",
            "libzlib-1.2.11       | 60 KB     | : 100% 1.0/1 [00:00<00:00, 16.19it/s]\n",
            "zstd-1.5.2           | 458 KB    | : 100% 1.0/1 [00:00<00:00,  7.75it/s]\n",
            "brotli-bin-1.0.9     | 19 KB     | : 100% 1.0/1 [00:00<00:00, 27.60it/s]\n",
            "brotli-1.0.9         | 18 KB     | : 100% 1.0/1 [00:00<00:00, 25.35it/s]\n",
            "pulseaudio-14.0      | 1.6 MB    | : 100% 1.0/1 [00:00<00:00,  2.07it/s]\n",
            "fontconfig-2.14.0    | 305 KB    | : 100% 1.0/1 [00:00<00:00,  7.72it/s]\n",
            "libgfortran-ng-12.1. | 23 KB     | : 100% 1.0/1 [00:00<00:00, 24.44it/s]\n",
            "openssl-1.1.1o       | 2.1 MB    | : 100% 1.0/1 [00:00<00:00,  2.05it/s]               \n",
            "krb5-1.19.3          | 1.4 MB    | : 100% 1.0/1 [00:00<00:00,  2.84it/s]\n",
            "libblas-3.9.0        | 12 KB     | : 100% 1.0/1 [00:00<00:00, 24.75it/s]\n",
            "libcblas-3.9.0       | 12 KB     | : 100% 1.0/1 [00:00<00:00, 25.37it/s]\n",
            "toml-0.10.2          | 18 KB     | : 100% 1.0/1 [00:00<00:00, 28.82it/s]\n",
            "libcups-2.3.3        | 4.6 MB    | : 100% 1.0/1 [00:00<00:00,  1.34it/s]              \n",
            "samtools-1.15.1      | 393 KB    | : 100% 1.0/1 [00:00<00:00,  8.53it/s]\n",
            "libssh2-1.10.0       | 233 KB    | : 100% 1.0/1 [00:00<00:00, 10.41it/s]\n",
            "cycler-0.11.0        | 10 KB     | : 100% 1.0/1 [00:00<00:00, 23.97it/s]\n",
            "python_abi-3.9       | 4 KB      | : 100% 1.0/1 [00:00<00:00, 28.06it/s]\n",
            "tornado-6.1          | 649 KB    | : 100% 1.0/1 [00:00<00:00,  4.62it/s]\n",
            "ld_impl_linux-64-2.3 | 667 KB    | : 100% 1.0/1 [00:00<00:00,  5.04it/s]\n",
            "matplotlib-base-3.5. | 7.3 MB    | : 100% 1.0/1 [00:01<00:00,  1.54s/it]               \n",
            "keyutils-1.6.1       | 115 KB    | : 100% 1.0/1 [00:00<00:00, 16.91it/s]\n",
            "libopenblas-0.3.20   | 10.1 MB   | : 100% 1.0/1 [00:01<00:00,  1.96s/it]               \n",
            "sqlite-3.38.5        | 1.5 MB    | : 100% 1.0/1 [00:00<00:00,  3.54it/s]\n",
            "pysam-0.19.0         | 2.7 MB    | : 100% 1.0/1 [00:00<00:00,  1.88it/s]\n",
            "libbrotlicommon-1.0. | 65 KB     | : 100% 1.0/1 [00:00<00:00, 19.84it/s]\n",
            "libnsl-2.0.0         | 31 KB     | : 100% 1.0/1 [00:00<00:00, 27.10it/s]\n",
            "attr-2.5.1           | 69 KB     | : 100% 1.0/1 [00:00<00:00, 20.65it/s]\n",
            "libiconv-1.16        | 1.4 MB    | : 100% 1.0/1 [00:00<00:00,  4.31it/s]\n",
            "htslib-1.15.1        | 2.1 MB    | : 100% 1.0/1 [00:00<00:00,  2.48it/s]\n",
            "qt-main-5.15.3       | 62.2 MB   | : 100% 1.0/1 [00:14<00:00, 14.58s/it]               \n",
            "munkres-1.1.4        | 12 KB     | : 100% 1.0/1 [00:00<00:00, 16.04it/s]\n",
            "python-3.9.12        | 26.7 MB   | : 100% 1.0/1 [00:05<00:00,  5.36s/it]               \n",
            "ncurses-6.3          | 1002 KB   | : 100% 1.0/1 [00:00<00:00,  1.97it/s]\n",
            "libogg-1.3.4         | 206 KB    | : 100% 1.0/1 [00:00<00:00, 13.94it/s]\n",
            "libgcc-ng-12.1.0     | 940 KB    | : 100% 1.0/1 [00:00<00:00,  5.64it/s]\n",
            "bwa-0.7.17           | 187 KB    | : 100% 1.0/1 [00:00<00:00, 13.86it/s]\n",
            "bedtools-2.30.0      | 15.5 MB   | : 100% 1.0/1 [00:03<00:00,  3.06s/it]\n",
            "jpeg-9e              | 268 KB    | : 100% 1.0/1 [00:00<00:00,  9.30it/s]\n",
            "libxml2-2.9.14       | 770 KB    | : 100% 1.0/1 [00:00<00:00,  5.32it/s]\n",
            "star-2.7.10a         | 4.9 MB    | : 100% 1.0/1 [00:00<00:00,  1.02it/s]\n",
            "perl-5.32.1          | 14.4 MB   | : 100% 1.0/1 [00:03<00:00,  3.78s/it]\n",
            "lcms2-2.12           | 443 KB    | : 100% 1.0/1 [00:00<00:00,  8.41it/s]\n",
            "nspr-4.32            | 233 KB    | : 100% 1.0/1 [00:00<00:00, 11.83it/s]\n",
            "jack-1.9.18          | 640 KB    | : 100% 1.0/1 [00:00<00:00,  5.81it/s]\n",
            "libbrotlienc-1.0.9   | 287 KB    | : 100% 1.0/1 [00:00<00:00, 12.38it/s]\n",
            "bzip2-1.0.8          | 484 KB    | : 100% 1.0/1 [00:00<00:00,  7.48it/s]\n",
            "xz-5.2.5             | 343 KB    | : 100% 1.0/1 [00:00<00:00,  9.54it/s]\n",
            "icu-70.1             | 13.5 MB   | : 100% 1.0/1 [00:02<00:00,  2.32s/it]\n",
            "font-ttf-source-code | 684 KB    | : 100% 1.0/1 [00:00<00:00,  6.51it/s]\n",
            "giflib-5.2.1         | 77 KB     | : 100% 1.0/1 [00:00<00:00, 20.32it/s]\n",
            "pandas-1.4.2         | 12.5 MB   | : 100% 1.0/1 [00:03<00:00,  3.31s/it]              \n",
            "libtiff-4.3.0        | 638 KB    | : 100% 1.0/1 [00:00<00:00,  6.73it/s]\n",
            "certifi-2021.10.8    | 145 KB    | : 100% 1.0/1 [00:00<00:00, 16.80it/s]\n",
            "libevent-2.1.10      | 1.1 MB    | : 100% 1.0/1 [00:00<00:00,  3.03it/s]\n",
            "libbrotlidec-1.0.9   | 33 KB     | : 100% 1.0/1 [00:00<00:00, 24.51it/s]\n",
            "Preparing transaction: \\ \b\b| \b\b/ \b\b- \b\b\\ \b\b| \b\b/ \b\b- \b\b\\ \b\b| \b\b/ \b\b- \b\b\\ \b\b| \b\b/ \b\b- \b\b\\ \b\bdone\n",
            "Verifying transaction: / \b\b- \b\b\\ \b\b| \b\b/ \b\b- \b\b\\ \b\b| \b\b/ \b\b- \b\b\\ \b\b| \b\b/ \b\b- \b\b\\ \b\b| \b\b/ \b\b- \b\b\\ \b\b| \b\b/ \b\b- \b\b\\ \b\b| \b\b/ \b\b- \b\b\\ \b\b| \b\b/ \b\b- \b\b\\ \b\b| \b\b/ \b\b- \b\b\\ \b\b| \b\b/ \b\b- \b\b\\ \b\b| \b\b/ \b\b- \b\b\\ \b\b| \b\b/ \b\b- \b\b\\ \b\b| \b\b/ \b\b- \b\b\\ \b\b| \b\b/ \b\b- \b\b\\ \b\b| \b\b/ \b\b- \b\b\\ \b\b| \b\b/ \b\b- \b\b\\ \b\b| \b\b/ \b\b- \b\b\\ \b\b| \b\b/ \b\b- \b\b\\ \b\b| \b\b/ \b\b- \b\b\\ \b\b| \b\b/ \b\b- \b\b\\ \b\bdone\n",
            "Executing transaction: / \b\b- \b\b\\ \b\b| \b\b/ \b\b- \b\b\\ \b\b| \b\b/ \b\b- \b\b\\ \b\b| \b\b/ \b\b- \b\b\\ \b\b| \b\b/ \b\b- \b\b\\ \b\b| \b\b/ \b\b- \b\b\\ \b\b| \b\b/ \b\b- \b\b\\ \b\b| \b\b/ \b\b- \b\b\\ \b\b| \b\b/ \b\b- \b\b\\ \b\b| \b\b/ \b\b- \b\b\\ \b\b| \b\b/ \b\b- \b\b\\ \b\b| \b\b/ \b\b- \b\b\\ \b\b| \b\b/ \b\b- \b\b\\ \b\b| \b\b/ \b\b- \b\b\\ \b\b| \b\b/ \b\b- \b\b\\ \b\b| \b\b/ \b\b- \b\b\\ \b\bdone\n",
            "#\n",
            "# To activate this environment, use\n",
            "#\n",
            "#     $ conda activate lab\n",
            "#\n",
            "# To deactivate an active environment, use\n",
            "#\n",
            "#     $ conda deactivate\n",
            "\n",
            "Activated conda environment `lab'!\n"
          ]
        }
      ],
      "source": [
        "!git clone https://github.com/hyeshik/colab-biolab.git\n",
        "!cd colab-biolab && bash tools/setup.sh\n",
        "exec(open('colab-biolab/tools/activate_conda.py').read())"
      ]
    },
    {
      "cell_type": "markdown",
      "metadata": {
        "id": "3Sabp7OAMuHb"
      },
      "source": [
        "설정이 끝났으면, 이제 콘솔을 열어서 터미널로 접속할 수 있는 통로를 열어줍니다."
      ]
    },
    {
      "cell_type": "markdown",
      "metadata": {
        "id": "z6RiPiSRMuHb"
      },
      "source": [
        "## 시퀀싱 데이터 다운로드: 해당 부분은 1강 참고.\n",
        "\n"
      ]
    },
    {
      "cell_type": "markdown",
      "metadata": {
        "id": "LRmsio_KMuHc"
      },
      "source": [
        "### 파일 체크섬 확인만 다시 해 보기.\n",
        "\n",
        "받은 데이터의 MD5 체크섬을 확인합니다. 한참 걸립니다. 각 파일들의 원래 체크섬은 다음과 같습니다. 한 번 비교해 보세요.\n",
        "\n",
        "```\n",
        "140aaf30bcb9276cc716f8699f04ddd6  CLIP-35L33G.bam\n",
        "f1b3336ed7e2f97d562dcc71641251bd  CLIP-35L33G.bam.bai\n",
        "328883a73d507eafbf5b60bd6b906201  RNA-control.bam\n",
        "02073818e2f398a73c3b76e5169de1ca  RNA-control.bam.bai\n",
        "b09550d09d6c2a4ce27f0226f426fdb1  RNA-siLin28a.bam\n",
        "fef112c727244060ea62d3f2564a07f6  RNA-siLin28a.bam.bai\n",
        "28bbd0c47d725669340c784f1b772c01  RNA-siLuc.bam\n",
        "43590fdc4d81905c0432e0d1cb8cfd5b  RNA-siLuc.bam.bai\n",
        "5c08a9297307bc83259e658c4474f0cc  RPF-siLin28a.bam\n",
        "a1bb3e29be412dfd7fd8d16b1b1acc4c  RPF-siLin28a.bam.bai\n",
        "f2eebf50943024d0116c9cd3e744c707  RPF-siLuc.bam\n",
        "dc24f69e8f571fc8be30f28ce5b84fcd  RPF-siLuc.bam.bai\n",
        "```"
      ]
    },
    {
      "cell_type": "code",
      "execution_count": null,
      "metadata": {
        "colab": {
          "background_save": true
        },
        "id": "PVXzIs5FE3Q4"
      },
      "outputs": [],
      "source": [
        "!ls -al drive/MyDrive/binfo*"
      ]
    },
    {
      "cell_type": "markdown",
      "metadata": {
        "id": "ecEA1PPQUlIK"
      },
      "source": [
        "실습에 필요한 프로그램들 몇 가지를 추가로 설치합니다."
      ]
    },
    {
      "cell_type": "code",
      "execution_count": 3,
      "metadata": {
        "colab": {
          "base_uri": "https://localhost:8080/"
        },
        "id": "neteyWsWEKBy",
        "outputId": "32c9dd32-9a5a-4c90-b5a1-76bd50f2a1f1"
      },
      "outputs": [
        {
          "output_type": "stream",
          "name": "stdout",
          "text": [
            "Collecting package metadata (current_repodata.json): - \b\b\\ \b\b| \b\b/ \b\b- \b\b\\ \b\b| \b\b/ \b\b- \b\b\\ \b\b| \b\b/ \b\b- \b\b\\ \b\b| \b\b/ \b\b- \b\b\\ \b\b| \b\b/ \b\b- \b\b\\ \b\b| \b\b/ \b\b- \b\b\\ \b\b| \b\b/ \b\b- \b\b\\ \b\bdone\n",
            "Solving environment: / \b\b- \b\b\\ \b\b| \b\b/ \b\b- \b\b\\ \b\b| \b\b/ \b\b- \b\b\\ \b\b| \b\b/ \b\b- \b\b\\ \b\b| \b\b/ \b\b- \b\b\\ \b\b| \b\b/ \b\b- \b\b\\ \b\b| \b\b/ \b\b- \b\b\\ \b\b| \b\bdone\n",
            "\n",
            "\n",
            "==> WARNING: A newer version of conda exists. <==\n",
            "  current version: 4.11.0\n",
            "  latest version: 4.12.0\n",
            "\n",
            "Please update conda by running\n",
            "\n",
            "    $ conda update -n base -c defaults conda\n",
            "\n",
            "\n",
            "\n",
            "## Package Plan ##\n",
            "\n",
            "  environment location: /root/conda/envs/lab\n",
            "\n",
            "  added / updated specs:\n",
            "    - bedtools\n",
            "    - bioawk\n",
            "\n",
            "\n",
            "The following packages will be downloaded:\n",
            "\n",
            "    package                    |            build\n",
            "    ---------------------------|-----------------\n",
            "    bioawk-1.0                 |       h7132678_7         196 KB  bioconda\n",
            "    ------------------------------------------------------------\n",
            "                                           Total:         196 KB\n",
            "\n",
            "The following NEW packages will be INSTALLED:\n",
            "\n",
            "  bioawk             bioconda/linux-64::bioawk-1.0-h7132678_7\n",
            "\n",
            "\n",
            "\n",
            "Downloading and Extracting Packages\n",
            "bioawk-1.0           | 196 KB    | : 100% 1.0/1 [00:00<00:00,  3.35it/s]                \n",
            "Preparing transaction: - \b\bdone\n",
            "Verifying transaction: | \b\bdone\n",
            "Executing transaction: - \b\bdone\n"
          ]
        }
      ],
      "source": [
        "!conda install -y bedtools bioawk"
      ]
    },
    {
      "cell_type": "markdown",
      "source": [
        "# github 관련"
      ],
      "metadata": {
        "id": "iX-qAtSNtUGC"
      }
    },
    {
      "cell_type": "code",
      "execution_count": null,
      "metadata": {
        "id": "rMf2h4x0nUmM"
      },
      "outputs": [],
      "source": [
        "# Generating ssh key for access\n",
        "!ssh-keygen"
      ]
    },
    {
      "cell_type": "code",
      "execution_count": 4,
      "metadata": {
        "id": "ikFCWZQTnJdy",
        "colab": {
          "base_uri": "https://localhost:8080/"
        },
        "outputId": "c1be1a23-0d90-427b-d240-5b5ccdba3c36"
      },
      "outputs": [
        {
          "output_type": "stream",
          "name": "stdout",
          "text": [
            "cat: /root/.ssh/id_rsa.pub: No such file or directory\n"
          ]
        }
      ],
      "source": [
        "!cat ~/.ssh/id_rsa.pub"
      ]
    },
    {
      "cell_type": "code",
      "execution_count": null,
      "metadata": {
        "id": "yxrMs0zQqXJL"
      },
      "outputs": [],
      "source": [
        "!cd ~/.ssh\n",
        "!ls"
      ]
    },
    {
      "cell_type": "code",
      "execution_count": null,
      "metadata": {
        "id": "jhZ7b0Pfq-P2"
      },
      "outputs": [],
      "source": [
        "!ssh -T hydrangea4514@github.com"
      ]
    },
    {
      "cell_type": "markdown",
      "metadata": {
        "id": "Oe_54MZrEi4y"
      },
      "source": [
        "## Mission 2\n",
        "\n",
        "이번 미션에서는 start codon 주변에서 ribosome-protected fragment의 분포를 한 번 살펴보겠습니다. 보통은 RPF의 5'-end 분포가 start codon 앞 15nt 정도에서부터 본격적으로 많이 나오고, 거기서부터 CDS를 걸쳐서 3nt 주기로 올록볼록한 패턴이 나타납니다.\n",
        "\n",
        "이 그림을 제대로 그리려면 genome coordinate를 start codon을 기준으로 변환해서 작업해야 하지만, 이번 미션에서는 난이도를 적절히 내리기 위해서 start codon이 포함된 exon에 존재하는 5' end만 추려서 작업하도록 합시다. (여유가 좀 있어서 난이도를 적당히 올리고 싶은 분들은 negative strand를 포함할 수도 있고, start codon과 다른 exon에 있는 경우를 포함할 수도 있습니다. 또한 APPRIS 등을 기반으로 해서 transcript 중에 가장 )"
      ]
    },
    {
      "cell_type": "code",
      "execution_count": 9,
      "metadata": {
        "id": "IANz6DmLUkA6",
        "colab": {
          "base_uri": "https://localhost:8080/"
        },
        "outputId": "e072eeff-31a6-4286-949c-5606d58bbf0e"
      },
      "outputs": [
        {
          "output_type": "stream",
          "name": "stdout",
          "text": [
            "/content/drive/MyDrive/binfo1-datapack1\n"
          ]
        }
      ],
      "source": [
        "%cd /content/drive/MyDrive/binfo1-datapack1/"
      ]
    },
    {
      "cell_type": "markdown",
      "metadata": {
        "id": "68uh7WVkUjhr"
      },
      "source": [
        "### 1. Start Codon from Gene Annotation file(gencode.gtf)\n",
        "\n",
        "우선 annotation에서 start codon이 포함된 exon만 추립니다. Gene 한 개에 isoform이 여러 개 있는 경우 모두 쓰면 read가 너무 부풀려질 수 있기 때문에 우선 transcript support level이 1인 것만 추려서 사용합니다. 여전히 TSL 1만 쓰더라도 부풀려질 가능성은 있기 때문에 제대로 하자면 APPRIS나 RNA-seq 데이터 기준으로 하나만 선정하는 것이 좋습니다만, 일단 여기서는 간단히..\n",
        "\n",
        "그리고, - strand가 들어가면 좀 계산이 복잡해지니까 또 간단하게 하기 위해서 + strand만 고릅니다. 이번엔 일단 무조건 간단하게 해 봅시다~"
      ]
    },
    {
      "cell_type": "code",
      "execution_count": null,
      "metadata": {
        "id": "V-uFFDkWq9Qv",
        "colab": {
          "base_uri": "https://localhost:8080/"
        },
        "outputId": "6882bba0-ce0d-42bf-d2f8-1c0f2b0a5848"
      },
      "outputs": [
        {
          "output_type": "stream",
          "name": "stdout",
          "text": [
            "##description: evidence-based annotation of the mouse genome (GRCm39), version M27 (Ensembl 104)\n",
            "##provider: GENCODE\n",
            "##contact: gencode-help@ebi.ac.uk\n",
            "##format: gtf\n",
            "##date: 2021-03-04\n",
            "chr1\tHAVANA\tgene\t3143476\t3144545\t.\t+\t.\tgene_id \"ENSMUSG00000102693.2\"; gene_type \"TEC\"; gene_name \"4933401J01Rik\"; level 2; mgi_id \"MGI:1918292\"; havana_gene \"OTTMUSG00000049935.1\";\n",
            "chr1\tHAVANA\ttranscript\t3143476\t3144545\t.\t+\t.\tgene_id \"ENSMUSG00000102693.2\"; transcript_id \"ENSMUST00000193812.2\"; gene_type \"TEC\"; gene_name \"4933401J01Rik\"; transcript_type \"TEC\"; transcript_name \"4933401J01Rik-201\"; level 2; transcript_support_level \"NA\"; mgi_id \"MGI:1918292\"; tag \"basic\"; havana_gene \"OTTMUSG00000049935.1\"; havana_transcript \"OTTMUST00000127109.1\";\n",
            "chr1\tHAVANA\texon\t3143476\t3144545\t.\t+\t.\tgene_id \"ENSMUSG00000102693.2\"; transcript_id \"ENSMUST00000193812.2\"; gene_type \"TEC\"; gene_name \"4933401J01Rik\"; transcript_type \"TEC\"; transcript_name \"4933401J01Rik-201\"; exon_number 1; exon_id \"ENSMUSE00001343744.2\"; level 2; transcript_support_level \"NA\"; mgi_id \"MGI:1918292\"; tag \"basic\"; havana_gene \"OTTMUSG00000049935.1\"; havana_transcript \"OTTMUST00000127109.1\";\n",
            "chr1\tENSEMBL\tgene\t3172239\t3172348\t.\t+\t.\tgene_id \"ENSMUSG00000064842.3\"; gene_type \"snRNA\"; gene_name \"Gm26206\"; level 3; mgi_id \"MGI:5455983\";\n",
            "chr1\tENSEMBL\ttranscript\t3172239\t3172348\t.\t+\t.\tgene_id \"ENSMUSG00000064842.3\"; transcript_id \"ENSMUST00000082908.3\"; gene_type \"snRNA\"; gene_name \"Gm26206\"; transcript_type \"snRNA\"; transcript_name \"Gm26206-201\"; level 3; transcript_support_level \"NA\"; mgi_id \"MGI:5455983\"; tag \"basic\";\n"
          ]
        }
      ],
      "source": [
        "# 기존 gencode.gtf 확인용\n",
        "# gtf file 형식 관련 항목: https://asia.ensembl.org/info/website/upload/gff.html\n",
        "!head gencode.gtf"
      ]
    },
    {
      "cell_type": "code",
      "execution_count": null,
      "metadata": {
        "id": "vvFgM8hJUzDx",
        "colab": {
          "base_uri": "https://localhost:8080/"
        },
        "outputId": "bbea7129-9176-41f5-9a21-e61c7927fa71"
      },
      "outputs": [
        {
          "output_type": "stream",
          "name": "stdout",
          "text": [
            "chr1\tHAVANA\tstart_codon\t4878137\t4878139\t.\t+\t0\tENSMUST00000134384.8\n",
            "chr1\tHAVANA\tstart_codon\t4878137\t4878139\t.\t+\t0\tENSMUST00000027036.11\n",
            "chr1\tHAVANA\tstart_codon\t4878137\t4878139\t.\t+\t0\tENSMUST00000150971.8\n",
            "chr1\tHAVANA\tstart_codon\t4928137\t4928139\t.\t+\t0\tENSMUST00000081551.14\n",
            "chr1\tHAVANA\tstart_codon\t5154674\t5154676\t.\t+\t0\tENSMUST00000044369.13\n",
            "chr1\tHAVANA\tstart_codon\t5659272\t5659274\t.\t+\t0\tENSMUST00000160777.8\n",
            "chr1\tHAVANA\tstart_codon\t5659272\t5659274\t.\t+\t0\tENSMUST00000027038.11\n",
            "chr1\tHAVANA\tstart_codon\t6300227\t6300229\t.\t+\t0\tENSMUST00000027040.13\n",
            "chr1\tHAVANA\tstart_codon\t6429555\t6429557\t.\t+\t0\tENSMUST00000133144.4\n",
            "chr1\tHAVANA\tstart_codon\t6839122\t6839124\t.\t+\t0\tENSMUST00000140079.8\n"
          ]
        }
      ],
      "source": [
        "!grep '\tstart_codon\t.*\t+\t.*transcript_support_level \"1\"' gencode.gtf | \\\n",
        " sed -e 's/\t[^\t]*transcript_id \"\\([^\"]*\\)\".*$/\t\\1/g' > gencode-start.gtf\n",
        "!head gencode-start.gtf"
      ]
    },
    {
      "cell_type": "markdown",
      "source": [
        "sed 명령어: https://jhnyang.tistory.com/287\n",
        "\n",
        "\n",
        "정규식: https://inpa.tistory.com/entry/LINUX-%F0%9F%93%9A-%EC%A0%95%EA%B7%9C%ED%91%9C%ED%98%84%EC%8B%9D-%EA%B3%BC-grep-%EB%AA%85%EB%A0%B9%EC%96%B4-%EC%A0%95%EB%B3%B5%ED%95%98%EA%B8%B0-%ED%8C%A8%ED%84%B4-%EA%B2%80%EC%83%89-%ED%99%95%EC%9E%A5%EB%B8%8C%EB%9E%98%ED%82%B7"
      ],
      "metadata": {
        "id": "n-jrOHgEx5qF"
      }
    },
    {
      "cell_type": "markdown",
      "metadata": {
        "id": "iWvIeTYOWsR6"
      },
      "source": [
        "start codon가 들어가 있는 exon들을 고르기 위해서 미리 + strand에 있는 exon를 추립니다.. start codon 쪽에서 TSL 기준으로 골랐기 때문에 여기서는 고르지 않아도 됩니다. 물론 좀 느려지기는 하지만..."
      ]
    },
    {
      "cell_type": "code",
      "execution_count": null,
      "metadata": {
        "id": "yCqK2wyYWitn",
        "colab": {
          "base_uri": "https://localhost:8080/"
        },
        "outputId": "6167f53d-fbf7-40a0-8a24-d14ecfcca156"
      },
      "outputs": [
        {
          "output_type": "stream",
          "name": "stdout",
          "text": [
            "chr1\tHAVANA\texon\t3143476\t3144545\t.\t+\t.\tENSMUST00000193812.2\n",
            "chr1\tENSEMBL\texon\t3172239\t3172348\t.\t+\t.\tENSMUST00000082908.3\n",
            "chr1\tHAVANA\texon\t3322980\t3323459\t.\t+\t.\tENSMUST00000192857.2\n",
            "chr1\tHAVANA\texon\t3536810\t3536910\t.\t+\t.\tENSMUST00000161581.2\n",
            "chr1\tHAVANA\texon\t3583628\t3583776\t.\t+\t.\tENSMUST00000161581.2\n",
            "chr1\tHAVANA\texon\t3602018\t3602943\t.\t+\t.\tENSMUST00000192183.2\n",
            "chr1\tHAVANA\texon\t3750378\t3752011\t.\t+\t.\tENSMUST00000193244.2\n",
            "chr1\tHAVANA\texon\t3822233\t3824583\t.\t+\t.\tENSMUST00000194454.2\n",
            "chr1\tHAVANA\texon\t4566774\t4569601\t.\t+\t.\tENSMUST00000193450.2\n",
            "chr1\tHAVANA\texon\t4567697\t4567877\t.\t+\t.\tENSMUST00000194935.2\n"
          ]
        }
      ],
      "source": [
        "!grep '\texon\t.*\t+\t' gencode.gtf | \\\n",
        " sed -e 's/\t[^\t]*transcript_id \"\\([^\"]*\\)\".*$/\t\\1/g' > gencode-plusexon.gtf\n",
        "!head gencode-plusexon.gtf"
      ]
    },
    {
      "cell_type": "markdown",
      "metadata": {
        "id": "suULe5k6Yelf"
      },
      "source": [
        "그 다음엔 exon 리스트와 start codon 리스트를 겹치고, transcript가 같은 것만 살려둡니다. -> transcript id가 같은 것만 포함하는 걸까요?\n",
        "\n",
        "기왕 좀 다루기 쉽도록 출력은 bed로 하면서 좌표계를 바꿉니다. 결과는 bedtools에서 빠르게 다룰 수 있게 sort해 둡니다.\n",
        "\n",
        "아래 코드 bedtools intersect: https://bedtools.readthedocs.io/en/latest/content/tools/intersect.html"
      ]
    },
    {
      "cell_type": "code",
      "execution_count": null,
      "metadata": {
        "id": "Zsv2_w5OXU9c",
        "colab": {
          "base_uri": "https://localhost:8080/"
        },
        "outputId": "86d29c2b-a934-45a6-eb64-3922ecd4a2c2"
      },
      "outputs": [
        {
          "output_type": "stream",
          "name": "stdout",
          "text": [
            "chr1\t4878010\t4878205\tENSMUST00000134384.8\t4878136\t+\n",
            "chr1\t4878045\t4878205\tENSMUST00000027036.11\t4878136\t+\n",
            "chr1\t4878052\t4878205\tENSMUST00000150971.8\t4878136\t+\n",
            "chr1\t4928036\t4928199\tENSMUST00000081551.14\t4928136\t+\n",
            "chr1\t5154639\t5154786\tENSMUST00000044369.13\t5154673\t+\n",
            "chr1\t5659227\t5659528\tENSMUST00000027038.11\t5659271\t+\n",
            "chr1\t5659257\t5659528\tENSMUST00000160777.8\t5659271\t+\n",
            "chr1\t6300182\t6300297\tENSMUST00000027040.13\t6300226\t+\n",
            "chr1\t6429441\t6429738\tENSMUST00000133144.4\t6429554\t+\n",
            "chr1\t6839121\t6839176\tENSMUST00000043578.13\t6839121\t+\n",
            "chrY\t80939672\t80939804\tENSMUST00000185340.2\t80939686\t+\n",
            "chrY\t81470683\t81470815\tENSMUST00000187135.2\t81470697\t+\n",
            "chrY\t82237903\t82238035\tENSMUST00000185636.2\t82237917\t+\n",
            "chrY\t83043623\t83043755\tENSMUST00000187165.2\t83043637\t+\n",
            "chrY\t84109956\t84110088\tENSMUST00000185776.7\t84109970\t+\n",
            "chrY\t84759361\t84759493\tENSMUST00000186110.2\t84759375\t+\n",
            "chrY\t86074448\t86074580\tENSMUST00000188754.2\t86074462\t+\n",
            "chrY\t87129500\t87129632\tENSMUST00000189543.7\t87129514\t+\n",
            "chrY\t87563647\t87563779\tENSMUST00000186493.2\t87563661\t+\n",
            "chrY\t88065992\t88066124\tENSMUST00000187146.2\t88066006\t+\n"
          ]
        }
      ],
      "source": [
        "!bedtools intersect -a gencode-start.gtf -b gencode-plusexon.gtf -wa -wb | \\\n",
        " awk -F'\t' -v OFS='\t' '$9 == $18 { print $10, $13-1, $14, $18, $4-1, $16; }' | \\\n",
        " sort -k1,1 -k2,3n -k4,4 > gencode-exons-containing-startcodon.bed\n",
        "!head gencode-exons-containing-startcodon.bed; tail gencode-exons-containing-startcodon.bed"
      ]
    },
    {
      "cell_type": "markdown",
      "metadata": {
        "id": "KvPNCpbtaYnC"
      },
      "source": [
        "컬럼 4번에 transcript id, 5번에 start codon 위치를 넣었는데, start codon이 같은 것들이 여러개 눈에 띕니다. 아주 찝찝하지만, 우선 이번은 간단하게 할 것이기 때문에 눈을 질끈 감고 넘어가 봅시다.\n",
        "\n",
        "### Alignment 준비\n",
        "#### 기존 코드 시작\n",
        "이제 alignment를 준비합니다. + strand alignment에서 read length가 짧은 것도 미리 필터링 합니다. RPF는 보통 25nt 이상이기 때문에 그 이하는 거의 확실히 rRNA, tRNA 등에서 오염된 것들입니다. SAM 파일 전체를 필터링해서 다시 인코딩하기 때문에 시간이 좀 걸립니다.\n",
        "\n",
        "* 작업노트: 필터링하지 않은 결과와 한 결과 비교하면 재밌을 듯.\n",
        "* samtools: http://www.htslib.org/doc/samtools-view.html\n",
        "* samtools view -F20 (~~).bam : 특정 flag 제외. 4 + 16 = 20"
      ]
    },
    {
      "cell_type": "code",
      "execution_count": null,
      "metadata": {
        "id": "ZZaOeHo1alCB"
      },
      "outputs": [],
      "source": [
        "!(samtools view -H RPF-siLuc.bam; \\\n",
        "  samtools view -F20 RPF-siLuc.bam | \\\n",
        "  bioawk -c sam '{ if (length($seq) >= 25) print $0; }') | \\\n",
        " samtools view -b -o filtered-RPF-siLuc.bam"
      ]
    },
    {
      "cell_type": "markdown",
      "metadata": {
        "id": "U1JDNb8ndTdk"
      },
      "source": [
        "큰 일을 했으니 용량을 한 번 봅니다."
      ]
    },
    {
      "cell_type": "code",
      "source": [
        "# bam 파일 원본 보기 위해 추가\n",
        "!samtools view -F20 filtered-RPF-siLuc.bam | head -5"
      ],
      "metadata": {
        "colab": {
          "base_uri": "https://localhost:8080/"
        },
        "id": "kbaeV2SjBCxk",
        "outputId": "8c4a75f6-7871-4662-dd7a-81d8e6452641"
      },
      "execution_count": null,
      "outputs": [
        {
          "output_type": "stream",
          "name": "stdout",
          "text": [
            "SRR458756.15904977\t0\tchr1\t3176535\t1\t15S15M\t*\t0\t0\tGGCGGTCGCGCGCACCCTCCCCCGCACTCC\t##############################\tMD:Z:15\tNH:i:8\tHI:i:1\tNM:i:0\tSM:i:1\tXQ:i:40\tX2:i:40\tXO:Z:UM\tXS:A:-\n",
            "SRR458756.9653884\t0\tchr1\t3196257\t3\t8M43061N17M2S\t*\t0\t0\tGGGTTCAGCATGAGGGGATTGTCTGGC\tGGGEGHHHHEHHHHHHHHHHGHHHHHH\tMD:Z:8G16\tNH:i:2\tHI:i:1\tNM:i:1\tSM:i:3\tXQ:i:40\tX2:i:40\tXO:Z:UM\tXS:A:+\n",
            "SRR458756.19028477\t0\tchr1\t3221527\t0\t31M\t*\t0\t0\tAAAGGTCCCAAAAAGCAGAGAGAAATATCTC\t@=@)=B?BBBBGGGEHHDHHDGBDDF@FEFH\tMD:Z:3T27\tNH:i:28\tHI:i:1\tNM:i:1\tSM:i:0\tXQ:i:40\tX2:i:40\tXO:Z:UM\n",
            "SRR458756.6443120\t0\tchr1\t3221543\t0\t30M\t*\t0\t0\tAGAGAGAAATATCTCTCTGGGCCTTATAGC\tGGGGGECECFDGGGGIIIIGDIIIIIIIII\tMD:Z:30\tNH:i:102\tHI:i:1\tNM:i:0\tSM:i:0\tXQ:i:40\tX2:i:40\tXO:Z:UM\tXS:A:-\n",
            "SRR458756.19417846\t0\tchr1\t3221543\t0\t31M\t*\t0\t0\tAGAGAGAAATATCTCTCTGGGCCTTATAGCA\tIIIIIGFFEGBGDGGIIIIIIIIIIHIHIII\tMD:Z:31\tNH:i:102\tHI:i:1\tNM:i:0\tSM:i:0\tXQ:i:40\tX2:i:40\tXO:Z:UM\tXS:A:-\n"
          ]
        }
      ]
    },
    {
      "cell_type": "code",
      "execution_count": null,
      "metadata": {
        "id": "5OrnDxegFAip",
        "colab": {
          "base_uri": "https://localhost:8080/"
        },
        "outputId": "2ab71382-2685-4e9b-ca98-055e9926cf7e"
      },
      "outputs": [
        {
          "output_type": "stream",
          "name": "stdout",
          "text": [
            "-rw------- 1 root root  567739792 May 10 16:51 filtered-RPF-siLuc.bam\n",
            "-rw------- 1 root root 1055123479 May  6  2021 RPF-siLuc.bam\n"
          ]
        }
      ],
      "source": [
        "!ls -al *RPF-siLuc.bam"
      ]
    },
    {
      "cell_type": "markdown",
      "metadata": {
        "id": "pr9zpKFmdi2e"
      },
      "source": [
        "자 이제 read의 5' end 위치를 셉니다. bedtools의 `genomecov`를 쓰면 아주 편리합니다.\n",
        "* bedtools genomecov: https://bedtools.readthedocs.io/en/latest/content/tools/genomecov.html\n",
        "* bedtools는 전반적으로 홈페이지 설명이 아주 깔끔함! 헷갈릴 땐 반드시 참고."
      ]
    },
    {
      "cell_type": "code",
      "execution_count": null,
      "metadata": {
        "id": "IZjHau7zftoU",
        "colab": {
          "base_uri": "https://localhost:8080/"
        },
        "outputId": "38d586f7-7ce5-4d73-e3d3-f801e40a3c3a"
      },
      "outputs": [
        {
          "output_type": "stream",
          "name": "stdout",
          "text": [
            "tcmalloc: large alloc 1561239552 bytes == 0x56207cfc6000 @  0x7ffbc1060887 0x56207b448a26 0x56207b44bb7b 0x56207b44cb1e 0x56207b445132 0x56207b3fc68d 0x7ffbc04f3c87 0x56207b403ee9\n",
            "tcmalloc: large alloc 1454047232 bytes == 0x56207cfc6000 @  0x7ffbc1060887 0x56207b448a26 0x56207b44bb7b 0x56207b44cb1e 0x56207b445132 0x56207b3fc68d 0x7ffbc04f3c87 0x56207b403ee9\n",
            "chr1\t3176534\t3176535\t1\n",
            "chr1\t3196256\t3196257\t1\n",
            "chr1\t3221526\t3221527\t1\n",
            "chr1\t3221542\t3221543\t2\n",
            "chr1\t3221545\t3221546\t3\n",
            "chr1\t3221546\t3221547\t2\n",
            "chr1\t3221548\t3221550\t1\n",
            "chr1\t3221571\t3221572\t1\n",
            "chr1\t3221897\t3221898\t1\n",
            "chr1\t3221994\t3221995\t1\n"
          ]
        }
      ],
      "source": [
        "!bedtools genomecov -ibam filtered-RPF-siLuc.bam -bg -5 > fivepcounts-RPF-siLuc.bed\n",
        "!head fivepcounts-RPF-siLuc.bed"
      ]
    },
    {
      "cell_type": "markdown",
      "metadata": {
        "id": "y_AHnHnZmYJu"
      },
      "source": [
        "그렇게 match 된 것들 중에 앞에서 찾은 start codon을 포함한 exon과 겹치는 것만 골라냅니다."
      ]
    },
    {
      "cell_type": "code",
      "execution_count": null,
      "metadata": {
        "id": "k1cOiX2Hftlx",
        "colab": {
          "base_uri": "https://localhost:8080/"
        },
        "outputId": "3d66752a-5890-4595-b268-e5925b0f872a"
      },
      "outputs": [
        {
          "output_type": "stream",
          "name": "stdout",
          "text": [
            "chr1\t4878048\t4878049\t1\tchr1\t4878010\t4878205\tENSMUST00000134384.8\t4878136\t+\n",
            "chr1\t4878048\t4878049\t1\tchr1\t4878045\t4878205\tENSMUST00000027036.11\t4878136\t+\n",
            "chr1\t4878077\t4878078\t1\tchr1\t4878010\t4878205\tENSMUST00000134384.8\t4878136\t+\n",
            "chr1\t4878077\t4878078\t1\tchr1\t4878045\t4878205\tENSMUST00000027036.11\t4878136\t+\n",
            "chr1\t4878077\t4878078\t1\tchr1\t4878052\t4878205\tENSMUST00000150971.8\t4878136\t+\n",
            "chr1\t4878101\t4878102\t4\tchr1\t4878010\t4878205\tENSMUST00000134384.8\t4878136\t+\n",
            "chr1\t4878101\t4878102\t4\tchr1\t4878045\t4878205\tENSMUST00000027036.11\t4878136\t+\n",
            "chr1\t4878101\t4878102\t4\tchr1\t4878052\t4878205\tENSMUST00000150971.8\t4878136\t+\n",
            "chr1\t4878103\t4878104\t1\tchr1\t4878010\t4878205\tENSMUST00000134384.8\t4878136\t+\n",
            "chr1\t4878103\t4878104\t1\tchr1\t4878045\t4878205\tENSMUST00000027036.11\t4878136\t+\n"
          ]
        }
      ],
      "source": [
        "!bedtools intersect -a fivepcounts-RPF-siLuc.bed -b gencode-exons-containing-startcodon.bed \\\n",
        " -wa -wb -nonamecheck > fivepcounts-filtered-RPF-siLuc.txt\n",
        "!head fivepcounts-filtered-RPF-siLuc.txt"
      ]
    },
    {
      "cell_type": "markdown",
      "source": [
        "#### 기존 코드 끝. 이제 siLin28a로 해보자."
      ],
      "metadata": {
        "id": "P4wRXHhw2p3r"
      }
    },
    {
      "cell_type": "code",
      "source": [
        "!ls"
      ],
      "metadata": {
        "colab": {
          "base_uri": "https://localhost:8080/"
        },
        "id": "MW998tQA2_AX",
        "outputId": "f028075b-e004-4e48-8857-194eef5e7e1f"
      },
      "execution_count": null,
      "outputs": [
        {
          "output_type": "stream",
          "name": "stdout",
          "text": [
            "CLIP-35L33G.bam\t\t\t\t result_RPF_siLuc.txt\n",
            "CLIP-35L33G.bam.bai\t\t\t RNA-control.bam\n",
            "colab-biolab\t\t\t\t RNA-control.bam.bai\n",
            "filtered-RPF-siLuc.bam\t\t\t RNA-siLin28a.bam\n",
            "fivepcounts-filtered-RPF-siLuc.txt\t RNA-siLin28a.bam.bai\n",
            "fivepcounts-RPF-siLuc.bed\t\t RNA-siLuc.bam\n",
            "gencode-exons-containing-startcodon.bed  RNA-siLuc.bam.bai\n",
            "gencode.gtf\t\t\t\t RPF_drop.txt\n",
            "gencode.gtf.gz\t\t\t\t RPF-siLin28a.bam\n",
            "gencode-plusexon.gtf\t\t\t RPF-siLin28a.bam.bai\n",
            "gencode-start.gtf\t\t\t RPF-siLuc.bam\n",
            "read-counts.txt\t\t\t\t RPF-siLuc.bam.bai\n",
            "read-counts.txt.summary\n"
          ]
        }
      ]
    },
    {
      "cell_type": "code",
      "source": [
        "!(samtools view -H RPF-siLin28a.bam; \\\n",
        "  samtools view -F20 RPF-siLin28a.bam | \\\n",
        "  bioawk -c sam '{ if (length($seq) >= 25) print $0; }') | \\\n",
        " samtools view -b -o filtered-RPF-siLin28a.bam"
      ],
      "metadata": {
        "id": "ZomOci0f2ns5"
      },
      "execution_count": null,
      "outputs": []
    },
    {
      "cell_type": "code",
      "source": [
        "# bam 파일 원본 보기 위해 추가\n",
        "!samtools view -F20 filtered-RPF-siLuc.bam | head -5"
      ],
      "metadata": {
        "colab": {
          "base_uri": "https://localhost:8080/"
        },
        "id": "mVTRn_pZ3OO9",
        "outputId": "74ad0cdc-6cd2-440c-d521-d71183c8b9bb"
      },
      "execution_count": null,
      "outputs": [
        {
          "output_type": "stream",
          "name": "stdout",
          "text": [
            "SRR458756.15904977\t0\tchr1\t3176535\t1\t15S15M\t*\t0\t0\tGGCGGTCGCGCGCACCCTCCCCCGCACTCC\t##############################\tMD:Z:15\tNH:i:8\tHI:i:1\tNM:i:0\tSM:i:1\tXQ:i:40\tX2:i:40\tXO:Z:UM\tXS:A:-\n",
            "SRR458756.9653884\t0\tchr1\t3196257\t3\t8M43061N17M2S\t*\t0\t0\tGGGTTCAGCATGAGGGGATTGTCTGGC\tGGGEGHHHHEHHHHHHHHHHGHHHHHH\tMD:Z:8G16\tNH:i:2\tHI:i:1\tNM:i:1\tSM:i:3\tXQ:i:40\tX2:i:40\tXO:Z:UM\tXS:A:+\n",
            "SRR458756.19028477\t0\tchr1\t3221527\t0\t31M\t*\t0\t0\tAAAGGTCCCAAAAAGCAGAGAGAAATATCTC\t@=@)=B?BBBBGGGEHHDHHDGBDDF@FEFH\tMD:Z:3T27\tNH:i:28\tHI:i:1\tNM:i:1\tSM:i:0\tXQ:i:40\tX2:i:40\tXO:Z:UM\n",
            "SRR458756.6443120\t0\tchr1\t3221543\t0\t30M\t*\t0\t0\tAGAGAGAAATATCTCTCTGGGCCTTATAGC\tGGGGGECECFDGGGGIIIIGDIIIIIIIII\tMD:Z:30\tNH:i:102\tHI:i:1\tNM:i:0\tSM:i:0\tXQ:i:40\tX2:i:40\tXO:Z:UM\tXS:A:-\n",
            "SRR458756.19417846\t0\tchr1\t3221543\t0\t31M\t*\t0\t0\tAGAGAGAAATATCTCTCTGGGCCTTATAGCA\tIIIIIGFFEGBGDGGIIIIIIIIIIHIHIII\tMD:Z:31\tNH:i:102\tHI:i:1\tNM:i:0\tSM:i:0\tXQ:i:40\tX2:i:40\tXO:Z:UM\tXS:A:-\n"
          ]
        }
      ]
    },
    {
      "cell_type": "code",
      "source": [
        "!bedtools genomecov -ibam filtered-RPF-siLin28a.bam -bg -5 > fivepcounts-RPF-siLin28a.bed\n",
        "!head fivepcounts-RPF-siLin28a.bed"
      ],
      "metadata": {
        "colab": {
          "base_uri": "https://localhost:8080/"
        },
        "id": "9pSnoQ0b3SBr",
        "outputId": "291924c8-6ff8-4448-ec3c-a55dbf1fc58e"
      },
      "execution_count": null,
      "outputs": [
        {
          "output_type": "stream",
          "name": "stdout",
          "text": [
            "tcmalloc: large alloc 1561239552 bytes == 0x55580aa34000 @  0x7fc6fb90f887 0x555808157a26 0x55580815ab7b 0x55580815bb1e 0x555808154132 0x55580810b68d 0x7fc6fad99c87 0x555808112ee9\n",
            "tcmalloc: large alloc 1454047232 bytes == 0x55580aa34000 @  0x7fc6fb90f887 0x555808157a26 0x55580815ab7b 0x55580815bb1e 0x555808154132 0x55580810b68d 0x7fc6fad99c87 0x555808112ee9\n",
            "chr1\t3123359\t3123360\t1\n",
            "chr1\t3124284\t3124285\t1\n",
            "chr1\t3188296\t3188297\t1\n",
            "chr1\t3221546\t3221547\t1\n",
            "chr1\t3221549\t3221550\t2\n",
            "chr1\t3221868\t3221869\t1\n",
            "chr1\t3222153\t3222154\t1\n",
            "chr1\t3222413\t3222415\t1\n",
            "chr1\t3222638\t3222639\t1\n",
            "chr1\t3224556\t3224557\t1\n"
          ]
        }
      ]
    },
    {
      "cell_type": "code",
      "source": [
        "!bedtools intersect -a fivepcounts-RPF-siLin28a.bed -b gencode-exons-containing-startcodon.bed \\\n",
        " -wa -wb -nonamecheck > fivepcounts-filtered-RPF-siLin28a.txt\n",
        "!head fivepcounts-filtered-RPF-siLin28a.txt"
      ],
      "metadata": {
        "colab": {
          "base_uri": "https://localhost:8080/"
        },
        "id": "sETgknOf3bnU",
        "outputId": "037f7356-97c6-4f81-ff88-d8d2048d4835"
      },
      "execution_count": null,
      "outputs": [
        {
          "output_type": "stream",
          "name": "stdout",
          "text": [
            "chr1\t4878043\t4878044\t1\tchr1\t4878010\t4878205\tENSMUST00000134384.8\t4878136\t+\n",
            "chr1\t4878056\t4878057\t3\tchr1\t4878010\t4878205\tENSMUST00000134384.8\t4878136\t+\n",
            "chr1\t4878056\t4878057\t3\tchr1\t4878045\t4878205\tENSMUST00000027036.11\t4878136\t+\n",
            "chr1\t4878056\t4878057\t3\tchr1\t4878052\t4878205\tENSMUST00000150971.8\t4878136\t+\n",
            "chr1\t4878074\t4878075\t1\tchr1\t4878010\t4878205\tENSMUST00000134384.8\t4878136\t+\n",
            "chr1\t4878074\t4878075\t1\tchr1\t4878045\t4878205\tENSMUST00000027036.11\t4878136\t+\n",
            "chr1\t4878074\t4878075\t1\tchr1\t4878052\t4878205\tENSMUST00000150971.8\t4878136\t+\n",
            "chr1\t4878089\t4878090\t1\tchr1\t4878010\t4878205\tENSMUST00000134384.8\t4878136\t+\n",
            "chr1\t4878089\t4878090\t1\tchr1\t4878045\t4878205\tENSMUST00000027036.11\t4878136\t+\n",
            "chr1\t4878089\t4878090\t1\tchr1\t4878052\t4878205\tENSMUST00000150971.8\t4878136\t+\n"
          ]
        }
      ]
    },
    {
      "cell_type": "markdown",
      "metadata": {
        "id": "0OcjYZ9bnL_6"
      },
      "source": [
        "모든 준비가 끝났습니다. 이제 Figure S5A 도전해 보세요!\n",
        "\n",
        "* stop codon은 빼고 start codon 만입니다.\n",
        "* 논문에서는 처리가 어려운 부분까지 모두 포함됐고, read를 중첩해서 세지 않았기 때문에, 여기서 세는 것과는 수치는 다를 수 있습니다.\n",
        "* `pandas`로 한꺼번에 데이터를 모두 불러들이면 메모리가 부족할 수도 있습니다. 그런 경우에는 chunk를 쓰거나, 줄 단위로 처리해 보세요.\n",
        "\n",
        "* fivepcounts-filtered-RPF-siLuc.txt 사용하면 됩니당"
      ]
    },
    {
      "cell_type": "code",
      "source": [
        "%cd /content/drive/MyDrive/binfo1-datapack1/"
      ],
      "metadata": {
        "colab": {
          "base_uri": "https://localhost:8080/"
        },
        "id": "jGdD_cI6_3sc",
        "outputId": "53590ba3-54e3-4259-e039-3e8e433ad20d"
      },
      "execution_count": null,
      "outputs": [
        {
          "output_type": "stream",
          "name": "stdout",
          "text": [
            "/content/drive/MyDrive/binfo1-datapack1\n"
          ]
        }
      ]
    },
    {
      "cell_type": "markdown",
      "source": [
        "# 이후 Pandas 이용한 figS5A 재현 과정. \n",
        "## 세부 목표\n",
        "1. RPF의 column 구조 확인하기 ㅇ\n",
        "2. bar graph 그리는 듯. figS5A 재현하기.\n",
        "지금 column이 추가적으로 필요함. \n",
        "* start codon position(sc_pos)과 coverage 간 간극.\n",
        "\n",
        "밑에는 시간 남으면.\n",
        "3. siLuc 파일로 했는데, 이걸 siLin28a 파일로도 할 수 있지 않을까? 같은 과정 모두 밟아보기."
      ],
      "metadata": {
        "id": "9K9ZsH2FCdHz"
      }
    },
    {
      "cell_type": "markdown",
      "source": [
        "### FigS5A for RPF-siLuc.txt"
      ],
      "metadata": {
        "id": "uvS8cFf83z69"
      }
    },
    {
      "cell_type": "code",
      "execution_count": 7,
      "metadata": {
        "id": "aPPW73t4X3pp"
      },
      "outputs": [],
      "source": [
        "import pandas as pd\n",
        "import numpy as np\n",
        "from matplotlib import pyplot as plt"
      ]
    },
    {
      "cell_type": "code",
      "source": [
        "RPF = pd.read_csv('fivepcounts-filtered-RPF-siLuc.txt', sep = '\\t', header = None)\n"
      ],
      "metadata": {
        "id": "PwCfr5djlQ1T"
      },
      "execution_count": 82,
      "outputs": []
    },
    {
      "cell_type": "code",
      "source": [
        "#csv_chunk = pd.read_csv(\"fivepcounts-filtered-RPF-siLuc.txt\",sep = '\\t', header=None, chunksize=1000)\n",
        "RPF_drop = RPF.drop([4,9], axis = 1)\n",
        "RPF_drop.columns = ['chr','cov_start', 'cov_end', 'cov_no','exon_start', 'exon_end', 'trs_id', 'sc_pos']"
      ],
      "metadata": {
        "id": "vHHn1ZCglcAr"
      },
      "execution_count": 83,
      "outputs": []
    },
    {
      "cell_type": "code",
      "source": [
        "RPF_drop.tail()\n"
      ],
      "metadata": {
        "colab": {
          "base_uri": "https://localhost:8080/",
          "height": 206
        },
        "id": "0PcaT0_qxO72",
        "outputId": "69fb2a7f-ff9a-43b8-aa23-c0ab5dc7afa8"
      },
      "execution_count": 84,
      "outputs": [
        {
          "output_type": "execute_result",
          "data": {
            "text/plain": [
              "         chr  cov_start   cov_end  cov_no  exon_start  exon_end  \\\n",
              "340494  chrY   87129502  87129503       1    87129500  87129632   \n",
              "340495  chrY   87129574  87129575       1    87129500  87129632   \n",
              "340496  chrY   87563721  87563722       1    87563647  87563779   \n",
              "340497  chrY   88065994  88065995       1    88065992  88066124   \n",
              "340498  chrY   88066066  88066067       1    88065992  88066124   \n",
              "\n",
              "                      trs_id    sc_pos  \n",
              "340494  ENSMUST00000189543.7  87129514  \n",
              "340495  ENSMUST00000189543.7  87129514  \n",
              "340496  ENSMUST00000186493.2  87563661  \n",
              "340497  ENSMUST00000187146.2  88066006  \n",
              "340498  ENSMUST00000187146.2  88066006  "
            ],
            "text/html": [
              "\n",
              "  <div id=\"df-758c9a09-1568-4d38-8cbc-dedb57ac8ea2\">\n",
              "    <div class=\"colab-df-container\">\n",
              "      <div>\n",
              "<style scoped>\n",
              "    .dataframe tbody tr th:only-of-type {\n",
              "        vertical-align: middle;\n",
              "    }\n",
              "\n",
              "    .dataframe tbody tr th {\n",
              "        vertical-align: top;\n",
              "    }\n",
              "\n",
              "    .dataframe thead th {\n",
              "        text-align: right;\n",
              "    }\n",
              "</style>\n",
              "<table border=\"1\" class=\"dataframe\">\n",
              "  <thead>\n",
              "    <tr style=\"text-align: right;\">\n",
              "      <th></th>\n",
              "      <th>chr</th>\n",
              "      <th>cov_start</th>\n",
              "      <th>cov_end</th>\n",
              "      <th>cov_no</th>\n",
              "      <th>exon_start</th>\n",
              "      <th>exon_end</th>\n",
              "      <th>trs_id</th>\n",
              "      <th>sc_pos</th>\n",
              "    </tr>\n",
              "  </thead>\n",
              "  <tbody>\n",
              "    <tr>\n",
              "      <th>340494</th>\n",
              "      <td>chrY</td>\n",
              "      <td>87129502</td>\n",
              "      <td>87129503</td>\n",
              "      <td>1</td>\n",
              "      <td>87129500</td>\n",
              "      <td>87129632</td>\n",
              "      <td>ENSMUST00000189543.7</td>\n",
              "      <td>87129514</td>\n",
              "    </tr>\n",
              "    <tr>\n",
              "      <th>340495</th>\n",
              "      <td>chrY</td>\n",
              "      <td>87129574</td>\n",
              "      <td>87129575</td>\n",
              "      <td>1</td>\n",
              "      <td>87129500</td>\n",
              "      <td>87129632</td>\n",
              "      <td>ENSMUST00000189543.7</td>\n",
              "      <td>87129514</td>\n",
              "    </tr>\n",
              "    <tr>\n",
              "      <th>340496</th>\n",
              "      <td>chrY</td>\n",
              "      <td>87563721</td>\n",
              "      <td>87563722</td>\n",
              "      <td>1</td>\n",
              "      <td>87563647</td>\n",
              "      <td>87563779</td>\n",
              "      <td>ENSMUST00000186493.2</td>\n",
              "      <td>87563661</td>\n",
              "    </tr>\n",
              "    <tr>\n",
              "      <th>340497</th>\n",
              "      <td>chrY</td>\n",
              "      <td>88065994</td>\n",
              "      <td>88065995</td>\n",
              "      <td>1</td>\n",
              "      <td>88065992</td>\n",
              "      <td>88066124</td>\n",
              "      <td>ENSMUST00000187146.2</td>\n",
              "      <td>88066006</td>\n",
              "    </tr>\n",
              "    <tr>\n",
              "      <th>340498</th>\n",
              "      <td>chrY</td>\n",
              "      <td>88066066</td>\n",
              "      <td>88066067</td>\n",
              "      <td>1</td>\n",
              "      <td>88065992</td>\n",
              "      <td>88066124</td>\n",
              "      <td>ENSMUST00000187146.2</td>\n",
              "      <td>88066006</td>\n",
              "    </tr>\n",
              "  </tbody>\n",
              "</table>\n",
              "</div>\n",
              "      <button class=\"colab-df-convert\" onclick=\"convertToInteractive('df-758c9a09-1568-4d38-8cbc-dedb57ac8ea2')\"\n",
              "              title=\"Convert this dataframe to an interactive table.\"\n",
              "              style=\"display:none;\">\n",
              "        \n",
              "  <svg xmlns=\"http://www.w3.org/2000/svg\" height=\"24px\"viewBox=\"0 0 24 24\"\n",
              "       width=\"24px\">\n",
              "    <path d=\"M0 0h24v24H0V0z\" fill=\"none\"/>\n",
              "    <path d=\"M18.56 5.44l.94 2.06.94-2.06 2.06-.94-2.06-.94-.94-2.06-.94 2.06-2.06.94zm-11 1L8.5 8.5l.94-2.06 2.06-.94-2.06-.94L8.5 2.5l-.94 2.06-2.06.94zm10 10l.94 2.06.94-2.06 2.06-.94-2.06-.94-.94-2.06-.94 2.06-2.06.94z\"/><path d=\"M17.41 7.96l-1.37-1.37c-.4-.4-.92-.59-1.43-.59-.52 0-1.04.2-1.43.59L10.3 9.45l-7.72 7.72c-.78.78-.78 2.05 0 2.83L4 21.41c.39.39.9.59 1.41.59.51 0 1.02-.2 1.41-.59l7.78-7.78 2.81-2.81c.8-.78.8-2.07 0-2.86zM5.41 20L4 18.59l7.72-7.72 1.47 1.35L5.41 20z\"/>\n",
              "  </svg>\n",
              "      </button>\n",
              "      \n",
              "  <style>\n",
              "    .colab-df-container {\n",
              "      display:flex;\n",
              "      flex-wrap:wrap;\n",
              "      gap: 12px;\n",
              "    }\n",
              "\n",
              "    .colab-df-convert {\n",
              "      background-color: #E8F0FE;\n",
              "      border: none;\n",
              "      border-radius: 50%;\n",
              "      cursor: pointer;\n",
              "      display: none;\n",
              "      fill: #1967D2;\n",
              "      height: 32px;\n",
              "      padding: 0 0 0 0;\n",
              "      width: 32px;\n",
              "    }\n",
              "\n",
              "    .colab-df-convert:hover {\n",
              "      background-color: #E2EBFA;\n",
              "      box-shadow: 0px 1px 2px rgba(60, 64, 67, 0.3), 0px 1px 3px 1px rgba(60, 64, 67, 0.15);\n",
              "      fill: #174EA6;\n",
              "    }\n",
              "\n",
              "    [theme=dark] .colab-df-convert {\n",
              "      background-color: #3B4455;\n",
              "      fill: #D2E3FC;\n",
              "    }\n",
              "\n",
              "    [theme=dark] .colab-df-convert:hover {\n",
              "      background-color: #434B5C;\n",
              "      box-shadow: 0px 1px 3px 1px rgba(0, 0, 0, 0.15);\n",
              "      filter: drop-shadow(0px 1px 2px rgba(0, 0, 0, 0.3));\n",
              "      fill: #FFFFFF;\n",
              "    }\n",
              "  </style>\n",
              "\n",
              "      <script>\n",
              "        const buttonEl =\n",
              "          document.querySelector('#df-758c9a09-1568-4d38-8cbc-dedb57ac8ea2 button.colab-df-convert');\n",
              "        buttonEl.style.display =\n",
              "          google.colab.kernel.accessAllowed ? 'block' : 'none';\n",
              "\n",
              "        async function convertToInteractive(key) {\n",
              "          const element = document.querySelector('#df-758c9a09-1568-4d38-8cbc-dedb57ac8ea2');\n",
              "          const dataTable =\n",
              "            await google.colab.kernel.invokeFunction('convertToInteractive',\n",
              "                                                     [key], {});\n",
              "          if (!dataTable) return;\n",
              "\n",
              "          const docLinkHtml = 'Like what you see? Visit the ' +\n",
              "            '<a target=\"_blank\" href=https://colab.research.google.com/notebooks/data_table.ipynb>data table notebook</a>'\n",
              "            + ' to learn more about interactive tables.';\n",
              "          element.innerHTML = '';\n",
              "          dataTable['output_type'] = 'display_data';\n",
              "          await google.colab.output.renderOutput(dataTable, element);\n",
              "          const docLink = document.createElement('div');\n",
              "          docLink.innerHTML = docLinkHtml;\n",
              "          element.appendChild(docLink);\n",
              "        }\n",
              "      </script>\n",
              "    </div>\n",
              "  </div>\n",
              "  "
            ]
          },
          "metadata": {},
          "execution_count": 84
        }
      ]
    },
    {
      "cell_type": "markdown",
      "source": [
        "# pd 정리한 결과\n",
        "fivepcounts-filtered-RPF-siLuc.txt를 pd에 불러와서 정리한 결과. \n",
        "- chr: 염색체 정보\n",
        "- cov_start: genomecov 결과 시작 부분. \n",
        "- cov_end: genomecov 결과 끝부분\n",
        "- cov_no: genomecov 결과 exon과 겹치는 횟수\n",
        "- exon_start & exon_end: exon 위치 정보\n",
        "- trs_id: transcript id\n",
        "- sc_pos: start-codon position\n",
        "\n",
        "이후 나오는 diff라는 column: 대략 sc_pos - (cov_start or cov_end)의 결과. 즉, start codon에서 coverage transcript 간의 거리."
      ],
      "metadata": {
        "id": "NVTCCGXo7srB"
      }
    },
    {
      "cell_type": "code",
      "source": [
        "# test function for diff cell\n",
        "for i in range(1,5):\n",
        "  a = RPF_drop.iloc[i,1] - RPF_drop.iloc[i,7]\n",
        "  print(a)"
      ],
      "metadata": {
        "colab": {
          "base_uri": "https://localhost:8080/"
        },
        "id": "Etj_OWOZ1V7Z",
        "outputId": "ce54f193-0945-46dc-a524-cffa05936aca"
      },
      "execution_count": 85,
      "outputs": [
        {
          "output_type": "stream",
          "name": "stdout",
          "text": [
            "-88\n",
            "-59\n",
            "-59\n",
            "-59\n"
          ]
        }
      ]
    },
    {
      "cell_type": "code",
      "source": [
        "RPF_drop['diff'] = 0"
      ],
      "metadata": {
        "id": "i0u9flH22V8w"
      },
      "execution_count": 86,
      "outputs": []
    },
    {
      "cell_type": "markdown",
      "source": [
        "- diff column: to get distance btwn start codon and cov_start(or cov_end)"
      ],
      "metadata": {
        "id": "hbV_CS5Z4_ef"
      }
    },
    {
      "cell_type": "code",
      "source": [
        "RPF_drop.head()"
      ],
      "metadata": {
        "colab": {
          "base_uri": "https://localhost:8080/",
          "height": 206
        },
        "id": "xqZHCLXO2cYC",
        "outputId": "bb34afa7-a6b5-482e-ade5-2e5a75d0986c"
      },
      "execution_count": 78,
      "outputs": [
        {
          "output_type": "execute_result",
          "data": {
            "text/plain": [
              "    chr  cov_start  cov_end  cov_no  exon_start  exon_end  \\\n",
              "0  chr1    4878048  4878049       1     4878010   4878205   \n",
              "1  chr1    4878048  4878049       1     4878045   4878205   \n",
              "2  chr1    4878077  4878078       1     4878010   4878205   \n",
              "3  chr1    4878077  4878078       1     4878045   4878205   \n",
              "4  chr1    4878077  4878078       1     4878052   4878205   \n",
              "\n",
              "                  trs_id   sc_pos  diff  \n",
              "0   ENSMUST00000134384.8  4878136     0  \n",
              "1  ENSMUST00000027036.11  4878136     0  \n",
              "2   ENSMUST00000134384.8  4878136     0  \n",
              "3  ENSMUST00000027036.11  4878136     0  \n",
              "4   ENSMUST00000150971.8  4878136     0  "
            ],
            "text/html": [
              "\n",
              "  <div id=\"df-0319dcc9-5420-46da-b305-c5805223af35\">\n",
              "    <div class=\"colab-df-container\">\n",
              "      <div>\n",
              "<style scoped>\n",
              "    .dataframe tbody tr th:only-of-type {\n",
              "        vertical-align: middle;\n",
              "    }\n",
              "\n",
              "    .dataframe tbody tr th {\n",
              "        vertical-align: top;\n",
              "    }\n",
              "\n",
              "    .dataframe thead th {\n",
              "        text-align: right;\n",
              "    }\n",
              "</style>\n",
              "<table border=\"1\" class=\"dataframe\">\n",
              "  <thead>\n",
              "    <tr style=\"text-align: right;\">\n",
              "      <th></th>\n",
              "      <th>chr</th>\n",
              "      <th>cov_start</th>\n",
              "      <th>cov_end</th>\n",
              "      <th>cov_no</th>\n",
              "      <th>exon_start</th>\n",
              "      <th>exon_end</th>\n",
              "      <th>trs_id</th>\n",
              "      <th>sc_pos</th>\n",
              "      <th>diff</th>\n",
              "    </tr>\n",
              "  </thead>\n",
              "  <tbody>\n",
              "    <tr>\n",
              "      <th>0</th>\n",
              "      <td>chr1</td>\n",
              "      <td>4878048</td>\n",
              "      <td>4878049</td>\n",
              "      <td>1</td>\n",
              "      <td>4878010</td>\n",
              "      <td>4878205</td>\n",
              "      <td>ENSMUST00000134384.8</td>\n",
              "      <td>4878136</td>\n",
              "      <td>0</td>\n",
              "    </tr>\n",
              "    <tr>\n",
              "      <th>1</th>\n",
              "      <td>chr1</td>\n",
              "      <td>4878048</td>\n",
              "      <td>4878049</td>\n",
              "      <td>1</td>\n",
              "      <td>4878045</td>\n",
              "      <td>4878205</td>\n",
              "      <td>ENSMUST00000027036.11</td>\n",
              "      <td>4878136</td>\n",
              "      <td>0</td>\n",
              "    </tr>\n",
              "    <tr>\n",
              "      <th>2</th>\n",
              "      <td>chr1</td>\n",
              "      <td>4878077</td>\n",
              "      <td>4878078</td>\n",
              "      <td>1</td>\n",
              "      <td>4878010</td>\n",
              "      <td>4878205</td>\n",
              "      <td>ENSMUST00000134384.8</td>\n",
              "      <td>4878136</td>\n",
              "      <td>0</td>\n",
              "    </tr>\n",
              "    <tr>\n",
              "      <th>3</th>\n",
              "      <td>chr1</td>\n",
              "      <td>4878077</td>\n",
              "      <td>4878078</td>\n",
              "      <td>1</td>\n",
              "      <td>4878045</td>\n",
              "      <td>4878205</td>\n",
              "      <td>ENSMUST00000027036.11</td>\n",
              "      <td>4878136</td>\n",
              "      <td>0</td>\n",
              "    </tr>\n",
              "    <tr>\n",
              "      <th>4</th>\n",
              "      <td>chr1</td>\n",
              "      <td>4878077</td>\n",
              "      <td>4878078</td>\n",
              "      <td>1</td>\n",
              "      <td>4878052</td>\n",
              "      <td>4878205</td>\n",
              "      <td>ENSMUST00000150971.8</td>\n",
              "      <td>4878136</td>\n",
              "      <td>0</td>\n",
              "    </tr>\n",
              "  </tbody>\n",
              "</table>\n",
              "</div>\n",
              "      <button class=\"colab-df-convert\" onclick=\"convertToInteractive('df-0319dcc9-5420-46da-b305-c5805223af35')\"\n",
              "              title=\"Convert this dataframe to an interactive table.\"\n",
              "              style=\"display:none;\">\n",
              "        \n",
              "  <svg xmlns=\"http://www.w3.org/2000/svg\" height=\"24px\"viewBox=\"0 0 24 24\"\n",
              "       width=\"24px\">\n",
              "    <path d=\"M0 0h24v24H0V0z\" fill=\"none\"/>\n",
              "    <path d=\"M18.56 5.44l.94 2.06.94-2.06 2.06-.94-2.06-.94-.94-2.06-.94 2.06-2.06.94zm-11 1L8.5 8.5l.94-2.06 2.06-.94-2.06-.94L8.5 2.5l-.94 2.06-2.06.94zm10 10l.94 2.06.94-2.06 2.06-.94-2.06-.94-.94-2.06-.94 2.06-2.06.94z\"/><path d=\"M17.41 7.96l-1.37-1.37c-.4-.4-.92-.59-1.43-.59-.52 0-1.04.2-1.43.59L10.3 9.45l-7.72 7.72c-.78.78-.78 2.05 0 2.83L4 21.41c.39.39.9.59 1.41.59.51 0 1.02-.2 1.41-.59l7.78-7.78 2.81-2.81c.8-.78.8-2.07 0-2.86zM5.41 20L4 18.59l7.72-7.72 1.47 1.35L5.41 20z\"/>\n",
              "  </svg>\n",
              "      </button>\n",
              "      \n",
              "  <style>\n",
              "    .colab-df-container {\n",
              "      display:flex;\n",
              "      flex-wrap:wrap;\n",
              "      gap: 12px;\n",
              "    }\n",
              "\n",
              "    .colab-df-convert {\n",
              "      background-color: #E8F0FE;\n",
              "      border: none;\n",
              "      border-radius: 50%;\n",
              "      cursor: pointer;\n",
              "      display: none;\n",
              "      fill: #1967D2;\n",
              "      height: 32px;\n",
              "      padding: 0 0 0 0;\n",
              "      width: 32px;\n",
              "    }\n",
              "\n",
              "    .colab-df-convert:hover {\n",
              "      background-color: #E2EBFA;\n",
              "      box-shadow: 0px 1px 2px rgba(60, 64, 67, 0.3), 0px 1px 3px 1px rgba(60, 64, 67, 0.15);\n",
              "      fill: #174EA6;\n",
              "    }\n",
              "\n",
              "    [theme=dark] .colab-df-convert {\n",
              "      background-color: #3B4455;\n",
              "      fill: #D2E3FC;\n",
              "    }\n",
              "\n",
              "    [theme=dark] .colab-df-convert:hover {\n",
              "      background-color: #434B5C;\n",
              "      box-shadow: 0px 1px 3px 1px rgba(0, 0, 0, 0.15);\n",
              "      filter: drop-shadow(0px 1px 2px rgba(0, 0, 0, 0.3));\n",
              "      fill: #FFFFFF;\n",
              "    }\n",
              "  </style>\n",
              "\n",
              "      <script>\n",
              "        const buttonEl =\n",
              "          document.querySelector('#df-0319dcc9-5420-46da-b305-c5805223af35 button.colab-df-convert');\n",
              "        buttonEl.style.display =\n",
              "          google.colab.kernel.accessAllowed ? 'block' : 'none';\n",
              "\n",
              "        async function convertToInteractive(key) {\n",
              "          const element = document.querySelector('#df-0319dcc9-5420-46da-b305-c5805223af35');\n",
              "          const dataTable =\n",
              "            await google.colab.kernel.invokeFunction('convertToInteractive',\n",
              "                                                     [key], {});\n",
              "          if (!dataTable) return;\n",
              "\n",
              "          const docLinkHtml = 'Like what you see? Visit the ' +\n",
              "            '<a target=\"_blank\" href=https://colab.research.google.com/notebooks/data_table.ipynb>data table notebook</a>'\n",
              "            + ' to learn more about interactive tables.';\n",
              "          element.innerHTML = '';\n",
              "          dataTable['output_type'] = 'display_data';\n",
              "          await google.colab.output.renderOutput(dataTable, element);\n",
              "          const docLink = document.createElement('div');\n",
              "          docLink.innerHTML = docLinkHtml;\n",
              "          element.appendChild(docLink);\n",
              "        }\n",
              "      </script>\n",
              "    </div>\n",
              "  </div>\n",
              "  "
            ]
          },
          "metadata": {},
          "execution_count": 78
        }
      ]
    },
    {
      "cell_type": "markdown",
      "source": [
        "# diff 새로운 정리"
      ],
      "metadata": {
        "id": "HYD3u0FS3DtE"
      }
    },
    {
      "cell_type": "code",
      "source": [
        "RPF_drop['diff'] = RPF_drop['cov_start'] - RPF_drop['sc_pos']"
      ],
      "metadata": {
        "id": "o3EdDPRk3DNh"
      },
      "execution_count": 87,
      "outputs": []
    },
    {
      "cell_type": "code",
      "source": [
        ""
      ],
      "metadata": {
        "id": "wIMCPhtN312E"
      },
      "execution_count": null,
      "outputs": []
    },
    {
      "cell_type": "code",
      "source": [
        "RPF_drop['diff'].value_counts()"
      ],
      "metadata": {
        "colab": {
          "base_uri": "https://localhost:8080/"
        },
        "id": "Ey5ZlAWN3hGN",
        "outputId": "ef845674-767a-487b-e0c0-f223c9629f5d"
      },
      "execution_count": 89,
      "outputs": [
        {
          "output_type": "execute_result",
          "data": {
            "text/plain": [
              "-1       3006\n",
              "-12      2976\n",
              "-13      2940\n",
              "-4       2677\n",
              " 0       2648\n",
              "         ... \n",
              " 2302       1\n",
              " 2293       1\n",
              " 2290       1\n",
              " 2281       1\n",
              " 3640       1\n",
              "Name: diff, Length: 5669, dtype: int64"
            ]
          },
          "metadata": {},
          "execution_count": 89
        }
      ]
    },
    {
      "cell_type": "code",
      "source": [
        "RPF_drop.groupby('diff').agg({'cov_no': 'sum'}).reindex(np.arange(-50, 51)).plot.bar()"
      ],
      "metadata": {
        "colab": {
          "base_uri": "https://localhost:8080/",
          "height": 304
        },
        "id": "QNnNWhgn4Pi6",
        "outputId": "6dc8eb52-e27d-49b1-a868-ca5414d61cca"
      },
      "execution_count": 94,
      "outputs": [
        {
          "output_type": "execute_result",
          "data": {
            "text/plain": [
              "<matplotlib.axes._subplots.AxesSubplot at 0x7f7e313378d0>"
            ]
          },
          "metadata": {},
          "execution_count": 94
        },
        {
          "output_type": "display_data",
          "data": {
            "text/plain": [
              "<Figure size 432x288 with 1 Axes>"
            ],
            "image/png": "[encoded data removed]"
          },
          "metadata": {
            "needs_background": "light"
          }
        }
      ]
    },
    {
      "cell_type": "code",
      "source": [
        ""
      ],
      "metadata": {
        "id": "p3Js4z6a4PZb"
      },
      "execution_count": null,
      "outputs": []
    },
    {
      "cell_type": "code",
      "source": [
        "RPF_drop.to_csv(\"RPF_drop.txt\", sep = '\\t', header = True, index = False) "
      ],
      "metadata": {
        "id": "UnFfHwQt5VNm"
      },
      "execution_count": 96,
      "outputs": []
    },
    {
      "cell_type": "markdown",
      "source": [
        "### 아래는 기존 그림."
      ],
      "metadata": {
        "id": "RJGULTJS5MRv"
      }
    },
    {
      "cell_type": "code",
      "source": [
        "RPF_result = pd.read_csv('RPF_drop.txt', sep = '\\t')"
      ],
      "metadata": {
        "id": "PghLIi845uaf"
      },
      "execution_count": 34,
      "outputs": []
    },
    {
      "cell_type": "code",
      "source": [
        "RPF_result.head()"
      ],
      "metadata": {
        "colab": {
          "base_uri": "https://localhost:8080/",
          "height": 206
        },
        "id": "6eN8dsn95uVo",
        "outputId": "a0475553-5672-4f6b-a7ce-90da872bab54"
      },
      "execution_count": 35,
      "outputs": [
        {
          "output_type": "execute_result",
          "data": {
            "text/plain": [
              "    chr  cov_start  cov_end  cov_no  exon_start  exon_end  \\\n",
              "0  chr1    4878048  4878049       1     4878010   4878205   \n",
              "1  chr1    4878048  4878049       1     4878045   4878205   \n",
              "2  chr1    4878077  4878078       1     4878010   4878205   \n",
              "3  chr1    4878077  4878078       1     4878045   4878205   \n",
              "4  chr1    4878077  4878078       1     4878052   4878205   \n",
              "\n",
              "                  trs_id   sc_pos  diff  \n",
              "0   ENSMUST00000134384.8  4878136   -87  \n",
              "1  ENSMUST00000027036.11  4878136   -87  \n",
              "2   ENSMUST00000134384.8  4878136   -58  \n",
              "3  ENSMUST00000027036.11  4878136   -58  \n",
              "4   ENSMUST00000150971.8  4878136   -58  "
            ],
            "text/html": [
              "\n",
              "  <div id=\"df-244a9671-a5fe-4bd3-ba72-d6b99ff1fd2d\">\n",
              "    <div class=\"colab-df-container\">\n",
              "      <div>\n",
              "<style scoped>\n",
              "    .dataframe tbody tr th:only-of-type {\n",
              "        vertical-align: middle;\n",
              "    }\n",
              "\n",
              "    .dataframe tbody tr th {\n",
              "        vertical-align: top;\n",
              "    }\n",
              "\n",
              "    .dataframe thead th {\n",
              "        text-align: right;\n",
              "    }\n",
              "</style>\n",
              "<table border=\"1\" class=\"dataframe\">\n",
              "  <thead>\n",
              "    <tr style=\"text-align: right;\">\n",
              "      <th></th>\n",
              "      <th>chr</th>\n",
              "      <th>cov_start</th>\n",
              "      <th>cov_end</th>\n",
              "      <th>cov_no</th>\n",
              "      <th>exon_start</th>\n",
              "      <th>exon_end</th>\n",
              "      <th>trs_id</th>\n",
              "      <th>sc_pos</th>\n",
              "      <th>diff</th>\n",
              "    </tr>\n",
              "  </thead>\n",
              "  <tbody>\n",
              "    <tr>\n",
              "      <th>0</th>\n",
              "      <td>chr1</td>\n",
              "      <td>4878048</td>\n",
              "      <td>4878049</td>\n",
              "      <td>1</td>\n",
              "      <td>4878010</td>\n",
              "      <td>4878205</td>\n",
              "      <td>ENSMUST00000134384.8</td>\n",
              "      <td>4878136</td>\n",
              "      <td>-87</td>\n",
              "    </tr>\n",
              "    <tr>\n",
              "      <th>1</th>\n",
              "      <td>chr1</td>\n",
              "      <td>4878048</td>\n",
              "      <td>4878049</td>\n",
              "      <td>1</td>\n",
              "      <td>4878045</td>\n",
              "      <td>4878205</td>\n",
              "      <td>ENSMUST00000027036.11</td>\n",
              "      <td>4878136</td>\n",
              "      <td>-87</td>\n",
              "    </tr>\n",
              "    <tr>\n",
              "      <th>2</th>\n",
              "      <td>chr1</td>\n",
              "      <td>4878077</td>\n",
              "      <td>4878078</td>\n",
              "      <td>1</td>\n",
              "      <td>4878010</td>\n",
              "      <td>4878205</td>\n",
              "      <td>ENSMUST00000134384.8</td>\n",
              "      <td>4878136</td>\n",
              "      <td>-58</td>\n",
              "    </tr>\n",
              "    <tr>\n",
              "      <th>3</th>\n",
              "      <td>chr1</td>\n",
              "      <td>4878077</td>\n",
              "      <td>4878078</td>\n",
              "      <td>1</td>\n",
              "      <td>4878045</td>\n",
              "      <td>4878205</td>\n",
              "      <td>ENSMUST00000027036.11</td>\n",
              "      <td>4878136</td>\n",
              "      <td>-58</td>\n",
              "    </tr>\n",
              "    <tr>\n",
              "      <th>4</th>\n",
              "      <td>chr1</td>\n",
              "      <td>4878077</td>\n",
              "      <td>4878078</td>\n",
              "      <td>1</td>\n",
              "      <td>4878052</td>\n",
              "      <td>4878205</td>\n",
              "      <td>ENSMUST00000150971.8</td>\n",
              "      <td>4878136</td>\n",
              "      <td>-58</td>\n",
              "    </tr>\n",
              "  </tbody>\n",
              "</table>\n",
              "</div>\n",
              "      <button class=\"colab-df-convert\" onclick=\"convertToInteractive('df-244a9671-a5fe-4bd3-ba72-d6b99ff1fd2d')\"\n",
              "              title=\"Convert this dataframe to an interactive table.\"\n",
              "              style=\"display:none;\">\n",
              "        \n",
              "  <svg xmlns=\"http://www.w3.org/2000/svg\" height=\"24px\"viewBox=\"0 0 24 24\"\n",
              "       width=\"24px\">\n",
              "    <path d=\"M0 0h24v24H0V0z\" fill=\"none\"/>\n",
              "    <path d=\"M18.56 5.44l.94 2.06.94-2.06 2.06-.94-2.06-.94-.94-2.06-.94 2.06-2.06.94zm-11 1L8.5 8.5l.94-2.06 2.06-.94-2.06-.94L8.5 2.5l-.94 2.06-2.06.94zm10 10l.94 2.06.94-2.06 2.06-.94-2.06-.94-.94-2.06-.94 2.06-2.06.94z\"/><path d=\"M17.41 7.96l-1.37-1.37c-.4-.4-.92-.59-1.43-.59-.52 0-1.04.2-1.43.59L10.3 9.45l-7.72 7.72c-.78.78-.78 2.05 0 2.83L4 21.41c.39.39.9.59 1.41.59.51 0 1.02-.2 1.41-.59l7.78-7.78 2.81-2.81c.8-.78.8-2.07 0-2.86zM5.41 20L4 18.59l7.72-7.72 1.47 1.35L5.41 20z\"/>\n",
              "  </svg>\n",
              "      </button>\n",
              "      \n",
              "  <style>\n",
              "    .colab-df-container {\n",
              "      display:flex;\n",
              "      flex-wrap:wrap;\n",
              "      gap: 12px;\n",
              "    }\n",
              "\n",
              "    .colab-df-convert {\n",
              "      background-color: #E8F0FE;\n",
              "      border: none;\n",
              "      border-radius: 50%;\n",
              "      cursor: pointer;\n",
              "      display: none;\n",
              "      fill: #1967D2;\n",
              "      height: 32px;\n",
              "      padding: 0 0 0 0;\n",
              "      width: 32px;\n",
              "    }\n",
              "\n",
              "    .colab-df-convert:hover {\n",
              "      background-color: #E2EBFA;\n",
              "      box-shadow: 0px 1px 2px rgba(60, 64, 67, 0.3), 0px 1px 3px 1px rgba(60, 64, 67, 0.15);\n",
              "      fill: #174EA6;\n",
              "    }\n",
              "\n",
              "    [theme=dark] .colab-df-convert {\n",
              "      background-color: #3B4455;\n",
              "      fill: #D2E3FC;\n",
              "    }\n",
              "\n",
              "    [theme=dark] .colab-df-convert:hover {\n",
              "      background-color: #434B5C;\n",
              "      box-shadow: 0px 1px 3px 1px rgba(0, 0, 0, 0.15);\n",
              "      filter: drop-shadow(0px 1px 2px rgba(0, 0, 0, 0.3));\n",
              "      fill: #FFFFFF;\n",
              "    }\n",
              "  </style>\n",
              "\n",
              "      <script>\n",
              "        const buttonEl =\n",
              "          document.querySelector('#df-244a9671-a5fe-4bd3-ba72-d6b99ff1fd2d button.colab-df-convert');\n",
              "        buttonEl.style.display =\n",
              "          google.colab.kernel.accessAllowed ? 'block' : 'none';\n",
              "\n",
              "        async function convertToInteractive(key) {\n",
              "          const element = document.querySelector('#df-244a9671-a5fe-4bd3-ba72-d6b99ff1fd2d');\n",
              "          const dataTable =\n",
              "            await google.colab.kernel.invokeFunction('convertToInteractive',\n",
              "                                                     [key], {});\n",
              "          if (!dataTable) return;\n",
              "\n",
              "          const docLinkHtml = 'Like what you see? Visit the ' +\n",
              "            '<a target=\"_blank\" href=https://colab.research.google.com/notebooks/data_table.ipynb>data table notebook</a>'\n",
              "            + ' to learn more about interactive tables.';\n",
              "          element.innerHTML = '';\n",
              "          dataTable['output_type'] = 'display_data';\n",
              "          await google.colab.output.renderOutput(dataTable, element);\n",
              "          const docLink = document.createElement('div');\n",
              "          docLink.innerHTML = docLinkHtml;\n",
              "          element.appendChild(docLink);\n",
              "        }\n",
              "      </script>\n",
              "    </div>\n",
              "  </div>\n",
              "  "
            ]
          },
          "metadata": {},
          "execution_count": 35
        }
      ]
    },
    {
      "cell_type": "markdown",
      "source": [
        "여기까지 방향은 맞는데 0이 이상하게 많이 나옴. \n",
        "논문: 12~15 upstream이라고 나와 있는데\n",
        "위 value_counts()에서도 -11, -12가 가장 빈번함. \n",
        "(1) 0이 왜 저렇게 많이 나오는지(알고리즘 문제 가능성 높음)\n",
        "(2) cov_no는 어떻게 써야 하는지."
      ],
      "metadata": {
        "id": "8YtFm8Dg7KXm"
      }
    },
    {
      "cell_type": "code",
      "source": [
        "fig = plt.figure(figsize=(10, 5))\n",
        "plt.xlim(-50,50)\n",
        "plt.ylim(0,5000)\n",
        "plt.bar(RPF_result['diff'], )\n",
        "plt.xticks(x, years)"
      ],
      "metadata": {
        "id": "3-5zNjqi7IaE"
      },
      "execution_count": null,
      "outputs": []
    },
    {
      "cell_type": "code",
      "source": [
        "RPF_siLuc_sc = RPF_result['diff'].value_counts()"
      ],
      "metadata": {
        "id": "MX7OzaGt7IX8"
      },
      "execution_count": 37,
      "outputs": []
    },
    {
      "cell_type": "code",
      "source": [
        "RPF_siLuc_sc = RPF_siLuc_sc.to_frame().reset_index()\n",
        "RPF_siLuc_sc.columns = ['distance','counts']\n",
        "RPF_siLuc_sc"
      ],
      "metadata": {
        "id": "TpeZ_4ud7IVn",
        "colab": {
          "base_uri": "https://localhost:8080/",
          "height": 480
        },
        "outputId": "f3812071-8989-42b8-97d2-e1a23736b811"
      },
      "execution_count": 38,
      "outputs": [
        {
          "output_type": "stream",
          "name": "stderr",
          "text": [
            "/usr/local/lib/python3.7/dist-packages/ipykernel_launcher.py:2: UserWarning: Pandas doesn't allow columns to be created via a new attribute name - see https://pandas.pydata.org/pandas-docs/stable/indexing.html#attribute-access\n",
            "  \n"
          ]
        },
        {
          "output_type": "execute_result",
          "data": {
            "text/plain": [
              "      index  diff\n",
              "0         0  5358\n",
              "1       -11  3196\n",
              "2       -12  2740\n",
              "3        -5  2505\n",
              "4        -3  2502\n",
              "...     ...   ...\n",
              "5667   2314     1\n",
              "5668   2303     1\n",
              "5669   2302     1\n",
              "5670   2293     1\n",
              "5671   3640     1\n",
              "\n",
              "[5672 rows x 2 columns]"
            ],
            "text/html": [
              "\n",
              "  <div id=\"df-f222aa53-0b19-4647-8d79-b90690cd4673\">\n",
              "    <div class=\"colab-df-container\">\n",
              "      <div>\n",
              "<style scoped>\n",
              "    .dataframe tbody tr th:only-of-type {\n",
              "        vertical-align: middle;\n",
              "    }\n",
              "\n",
              "    .dataframe tbody tr th {\n",
              "        vertical-align: top;\n",
              "    }\n",
              "\n",
              "    .dataframe thead th {\n",
              "        text-align: right;\n",
              "    }\n",
              "</style>\n",
              "<table border=\"1\" class=\"dataframe\">\n",
              "  <thead>\n",
              "    <tr style=\"text-align: right;\">\n",
              "      <th></th>\n",
              "      <th>index</th>\n",
              "      <th>diff</th>\n",
              "    </tr>\n",
              "  </thead>\n",
              "  <tbody>\n",
              "    <tr>\n",
              "      <th>0</th>\n",
              "      <td>0</td>\n",
              "      <td>5358</td>\n",
              "    </tr>\n",
              "    <tr>\n",
              "      <th>1</th>\n",
              "      <td>-11</td>\n",
              "      <td>3196</td>\n",
              "    </tr>\n",
              "    <tr>\n",
              "      <th>2</th>\n",
              "      <td>-12</td>\n",
              "      <td>2740</td>\n",
              "    </tr>\n",
              "    <tr>\n",
              "      <th>3</th>\n",
              "      <td>-5</td>\n",
              "      <td>2505</td>\n",
              "    </tr>\n",
              "    <tr>\n",
              "      <th>4</th>\n",
              "      <td>-3</td>\n",
              "      <td>2502</td>\n",
              "    </tr>\n",
              "    <tr>\n",
              "      <th>...</th>\n",
              "      <td>...</td>\n",
              "      <td>...</td>\n",
              "    </tr>\n",
              "    <tr>\n",
              "      <th>5667</th>\n",
              "      <td>2314</td>\n",
              "      <td>1</td>\n",
              "    </tr>\n",
              "    <tr>\n",
              "      <th>5668</th>\n",
              "      <td>2303</td>\n",
              "      <td>1</td>\n",
              "    </tr>\n",
              "    <tr>\n",
              "      <th>5669</th>\n",
              "      <td>2302</td>\n",
              "      <td>1</td>\n",
              "    </tr>\n",
              "    <tr>\n",
              "      <th>5670</th>\n",
              "      <td>2293</td>\n",
              "      <td>1</td>\n",
              "    </tr>\n",
              "    <tr>\n",
              "      <th>5671</th>\n",
              "      <td>3640</td>\n",
              "      <td>1</td>\n",
              "    </tr>\n",
              "  </tbody>\n",
              "</table>\n",
              "<p>5672 rows × 2 columns</p>\n",
              "</div>\n",
              "      <button class=\"colab-df-convert\" onclick=\"convertToInteractive('df-f222aa53-0b19-4647-8d79-b90690cd4673')\"\n",
              "              title=\"Convert this dataframe to an interactive table.\"\n",
              "              style=\"display:none;\">\n",
              "        \n",
              "  <svg xmlns=\"http://www.w3.org/2000/svg\" height=\"24px\"viewBox=\"0 0 24 24\"\n",
              "       width=\"24px\">\n",
              "    <path d=\"M0 0h24v24H0V0z\" fill=\"none\"/>\n",
              "    <path d=\"M18.56 5.44l.94 2.06.94-2.06 2.06-.94-2.06-.94-.94-2.06-.94 2.06-2.06.94zm-11 1L8.5 8.5l.94-2.06 2.06-.94-2.06-.94L8.5 2.5l-.94 2.06-2.06.94zm10 10l.94 2.06.94-2.06 2.06-.94-2.06-.94-.94-2.06-.94 2.06-2.06.94z\"/><path d=\"M17.41 7.96l-1.37-1.37c-.4-.4-.92-.59-1.43-.59-.52 0-1.04.2-1.43.59L10.3 9.45l-7.72 7.72c-.78.78-.78 2.05 0 2.83L4 21.41c.39.39.9.59 1.41.59.51 0 1.02-.2 1.41-.59l7.78-7.78 2.81-2.81c.8-.78.8-2.07 0-2.86zM5.41 20L4 18.59l7.72-7.72 1.47 1.35L5.41 20z\"/>\n",
              "  </svg>\n",
              "      </button>\n",
              "      \n",
              "  <style>\n",
              "    .colab-df-container {\n",
              "      display:flex;\n",
              "      flex-wrap:wrap;\n",
              "      gap: 12px;\n",
              "    }\n",
              "\n",
              "    .colab-df-convert {\n",
              "      background-color: #E8F0FE;\n",
              "      border: none;\n",
              "      border-radius: 50%;\n",
              "      cursor: pointer;\n",
              "      display: none;\n",
              "      fill: #1967D2;\n",
              "      height: 32px;\n",
              "      padding: 0 0 0 0;\n",
              "      width: 32px;\n",
              "    }\n",
              "\n",
              "    .colab-df-convert:hover {\n",
              "      background-color: #E2EBFA;\n",
              "      box-shadow: 0px 1px 2px rgba(60, 64, 67, 0.3), 0px 1px 3px 1px rgba(60, 64, 67, 0.15);\n",
              "      fill: #174EA6;\n",
              "    }\n",
              "\n",
              "    [theme=dark] .colab-df-convert {\n",
              "      background-color: #3B4455;\n",
              "      fill: #D2E3FC;\n",
              "    }\n",
              "\n",
              "    [theme=dark] .colab-df-convert:hover {\n",
              "      background-color: #434B5C;\n",
              "      box-shadow: 0px 1px 3px 1px rgba(0, 0, 0, 0.15);\n",
              "      filter: drop-shadow(0px 1px 2px rgba(0, 0, 0, 0.3));\n",
              "      fill: #FFFFFF;\n",
              "    }\n",
              "  </style>\n",
              "\n",
              "      <script>\n",
              "        const buttonEl =\n",
              "          document.querySelector('#df-f222aa53-0b19-4647-8d79-b90690cd4673 button.colab-df-convert');\n",
              "        buttonEl.style.display =\n",
              "          google.colab.kernel.accessAllowed ? 'block' : 'none';\n",
              "\n",
              "        async function convertToInteractive(key) {\n",
              "          const element = document.querySelector('#df-f222aa53-0b19-4647-8d79-b90690cd4673');\n",
              "          const dataTable =\n",
              "            await google.colab.kernel.invokeFunction('convertToInteractive',\n",
              "                                                     [key], {});\n",
              "          if (!dataTable) return;\n",
              "\n",
              "          const docLinkHtml = 'Like what you see? Visit the ' +\n",
              "            '<a target=\"_blank\" href=https://colab.research.google.com/notebooks/data_table.ipynb>data table notebook</a>'\n",
              "            + ' to learn more about interactive tables.';\n",
              "          element.innerHTML = '';\n",
              "          dataTable['output_type'] = 'display_data';\n",
              "          await google.colab.output.renderOutput(dataTable, element);\n",
              "          const docLink = document.createElement('div');\n",
              "          docLink.innerHTML = docLinkHtml;\n",
              "          element.appendChild(docLink);\n",
              "        }\n",
              "      </script>\n",
              "    </div>\n",
              "  </div>\n",
              "  "
            ]
          },
          "metadata": {},
          "execution_count": 38
        }
      ]
    },
    {
      "cell_type": "code",
      "source": [
        "RPF_siLuc_sc.columns = ['distance','counts']"
      ],
      "metadata": {
        "id": "eZO9tGrtovNQ"
      },
      "execution_count": 42,
      "outputs": []
    },
    {
      "cell_type": "code",
      "source": [
        "plt.bar(RPF_siLuc_sc['distance'],RPF_siLuc_sc['counts'], color = 'black')\n",
        "plt.xlim(-50,50)\n",
        "plt.xlabel('distance from start codon')\n",
        "plt.ylabel('siLuc:Raw read count')\n",
        "plt.vlines(0,0,6000,color=\"red\")"
      ],
      "metadata": {
        "id": "afnNF7Cw7ITc",
        "colab": {
          "base_uri": "https://localhost:8080/",
          "height": 297
        },
        "outputId": "bf3dcdcc-a91c-43a7-d03a-abb2e52b3327"
      },
      "execution_count": 46,
      "outputs": [
        {
          "output_type": "execute_result",
          "data": {
            "text/plain": [
              "<matplotlib.collections.LineCollection at 0x7f7e39ff3710>"
            ]
          },
          "metadata": {},
          "execution_count": 46
        },
        {
          "output_type": "display_data",
          "data": {
            "text/plain": [
              "<Figure size 432x288 with 1 Axes>"
            ],
            "image/png": "[encoded data removed]"
          },
          "metadata": {
            "needs_background": "light"
          }
        }
      ]
    },
    {
      "cell_type": "code",
      "source": [
        ""
      ],
      "metadata": {
        "id": "jDLA4QQR7ILR"
      },
      "execution_count": null,
      "outputs": []
    },
    {
      "cell_type": "markdown",
      "source": [
        "### FigS5A for RPF-siLin28a.txt"
      ],
      "metadata": {
        "id": "D4L1sp9t38U4"
      }
    },
    {
      "cell_type": "code",
      "source": [
        "RPF = pd.read_csv('fivepcounts-filtered-RPF-siLin28a.txt', sep = '\\t', header = None)"
      ],
      "metadata": {
        "id": "mCzSHllD4FDf"
      },
      "execution_count": 97,
      "outputs": []
    },
    {
      "cell_type": "code",
      "source": [
        "RPF_drop = RPF.drop([4,9], axis = 1)\n",
        "RPF_drop.columns = ['chr','cov_start', 'cov_end', 'cov_no','exon_start', 'exon_end', 'trs_id', 'sc_pos']"
      ],
      "metadata": {
        "id": "DsVu5wn24FBk"
      },
      "execution_count": 98,
      "outputs": []
    },
    {
      "cell_type": "code",
      "source": [
        "RPF_drop.head()"
      ],
      "metadata": {
        "colab": {
          "base_uri": "https://localhost:8080/",
          "height": 206
        },
        "id": "-JH-AmAl4E_b",
        "outputId": "1bdbd260-aa16-4ed0-a641-46b521a1f62b"
      },
      "execution_count": 99,
      "outputs": [
        {
          "output_type": "execute_result",
          "data": {
            "text/plain": [
              "    chr  cov_start  cov_end  cov_no  exon_start  exon_end  \\\n",
              "0  chr1    4878043  4878044       1     4878010   4878205   \n",
              "1  chr1    4878056  4878057       3     4878010   4878205   \n",
              "2  chr1    4878056  4878057       3     4878045   4878205   \n",
              "3  chr1    4878056  4878057       3     4878052   4878205   \n",
              "4  chr1    4878074  4878075       1     4878010   4878205   \n",
              "\n",
              "                  trs_id   sc_pos  \n",
              "0   ENSMUST00000134384.8  4878136  \n",
              "1   ENSMUST00000134384.8  4878136  \n",
              "2  ENSMUST00000027036.11  4878136  \n",
              "3   ENSMUST00000150971.8  4878136  \n",
              "4   ENSMUST00000134384.8  4878136  "
            ],
            "text/html": [
              "\n",
              "  <div id=\"df-996f5aea-baea-4020-88ca-33a2c44ab6c3\">\n",
              "    <div class=\"colab-df-container\">\n",
              "      <div>\n",
              "<style scoped>\n",
              "    .dataframe tbody tr th:only-of-type {\n",
              "        vertical-align: middle;\n",
              "    }\n",
              "\n",
              "    .dataframe tbody tr th {\n",
              "        vertical-align: top;\n",
              "    }\n",
              "\n",
              "    .dataframe thead th {\n",
              "        text-align: right;\n",
              "    }\n",
              "</style>\n",
              "<table border=\"1\" class=\"dataframe\">\n",
              "  <thead>\n",
              "    <tr style=\"text-align: right;\">\n",
              "      <th></th>\n",
              "      <th>chr</th>\n",
              "      <th>cov_start</th>\n",
              "      <th>cov_end</th>\n",
              "      <th>cov_no</th>\n",
              "      <th>exon_start</th>\n",
              "      <th>exon_end</th>\n",
              "      <th>trs_id</th>\n",
              "      <th>sc_pos</th>\n",
              "    </tr>\n",
              "  </thead>\n",
              "  <tbody>\n",
              "    <tr>\n",
              "      <th>0</th>\n",
              "      <td>chr1</td>\n",
              "      <td>4878043</td>\n",
              "      <td>4878044</td>\n",
              "      <td>1</td>\n",
              "      <td>4878010</td>\n",
              "      <td>4878205</td>\n",
              "      <td>ENSMUST00000134384.8</td>\n",
              "      <td>4878136</td>\n",
              "    </tr>\n",
              "    <tr>\n",
              "      <th>1</th>\n",
              "      <td>chr1</td>\n",
              "      <td>4878056</td>\n",
              "      <td>4878057</td>\n",
              "      <td>3</td>\n",
              "      <td>4878010</td>\n",
              "      <td>4878205</td>\n",
              "      <td>ENSMUST00000134384.8</td>\n",
              "      <td>4878136</td>\n",
              "    </tr>\n",
              "    <tr>\n",
              "      <th>2</th>\n",
              "      <td>chr1</td>\n",
              "      <td>4878056</td>\n",
              "      <td>4878057</td>\n",
              "      <td>3</td>\n",
              "      <td>4878045</td>\n",
              "      <td>4878205</td>\n",
              "      <td>ENSMUST00000027036.11</td>\n",
              "      <td>4878136</td>\n",
              "    </tr>\n",
              "    <tr>\n",
              "      <th>3</th>\n",
              "      <td>chr1</td>\n",
              "      <td>4878056</td>\n",
              "      <td>4878057</td>\n",
              "      <td>3</td>\n",
              "      <td>4878052</td>\n",
              "      <td>4878205</td>\n",
              "      <td>ENSMUST00000150971.8</td>\n",
              "      <td>4878136</td>\n",
              "    </tr>\n",
              "    <tr>\n",
              "      <th>4</th>\n",
              "      <td>chr1</td>\n",
              "      <td>4878074</td>\n",
              "      <td>4878075</td>\n",
              "      <td>1</td>\n",
              "      <td>4878010</td>\n",
              "      <td>4878205</td>\n",
              "      <td>ENSMUST00000134384.8</td>\n",
              "      <td>4878136</td>\n",
              "    </tr>\n",
              "  </tbody>\n",
              "</table>\n",
              "</div>\n",
              "      <button class=\"colab-df-convert\" onclick=\"convertToInteractive('df-996f5aea-baea-4020-88ca-33a2c44ab6c3')\"\n",
              "              title=\"Convert this dataframe to an interactive table.\"\n",
              "              style=\"display:none;\">\n",
              "        \n",
              "  <svg xmlns=\"http://www.w3.org/2000/svg\" height=\"24px\"viewBox=\"0 0 24 24\"\n",
              "       width=\"24px\">\n",
              "    <path d=\"M0 0h24v24H0V0z\" fill=\"none\"/>\n",
              "    <path d=\"M18.56 5.44l.94 2.06.94-2.06 2.06-.94-2.06-.94-.94-2.06-.94 2.06-2.06.94zm-11 1L8.5 8.5l.94-2.06 2.06-.94-2.06-.94L8.5 2.5l-.94 2.06-2.06.94zm10 10l.94 2.06.94-2.06 2.06-.94-2.06-.94-.94-2.06-.94 2.06-2.06.94z\"/><path d=\"M17.41 7.96l-1.37-1.37c-.4-.4-.92-.59-1.43-.59-.52 0-1.04.2-1.43.59L10.3 9.45l-7.72 7.72c-.78.78-.78 2.05 0 2.83L4 21.41c.39.39.9.59 1.41.59.51 0 1.02-.2 1.41-.59l7.78-7.78 2.81-2.81c.8-.78.8-2.07 0-2.86zM5.41 20L4 18.59l7.72-7.72 1.47 1.35L5.41 20z\"/>\n",
              "  </svg>\n",
              "      </button>\n",
              "      \n",
              "  <style>\n",
              "    .colab-df-container {\n",
              "      display:flex;\n",
              "      flex-wrap:wrap;\n",
              "      gap: 12px;\n",
              "    }\n",
              "\n",
              "    .colab-df-convert {\n",
              "      background-color: #E8F0FE;\n",
              "      border: none;\n",
              "      border-radius: 50%;\n",
              "      cursor: pointer;\n",
              "      display: none;\n",
              "      fill: #1967D2;\n",
              "      height: 32px;\n",
              "      padding: 0 0 0 0;\n",
              "      width: 32px;\n",
              "    }\n",
              "\n",
              "    .colab-df-convert:hover {\n",
              "      background-color: #E2EBFA;\n",
              "      box-shadow: 0px 1px 2px rgba(60, 64, 67, 0.3), 0px 1px 3px 1px rgba(60, 64, 67, 0.15);\n",
              "      fill: #174EA6;\n",
              "    }\n",
              "\n",
              "    [theme=dark] .colab-df-convert {\n",
              "      background-color: #3B4455;\n",
              "      fill: #D2E3FC;\n",
              "    }\n",
              "\n",
              "    [theme=dark] .colab-df-convert:hover {\n",
              "      background-color: #434B5C;\n",
              "      box-shadow: 0px 1px 3px 1px rgba(0, 0, 0, 0.15);\n",
              "      filter: drop-shadow(0px 1px 2px rgba(0, 0, 0, 0.3));\n",
              "      fill: #FFFFFF;\n",
              "    }\n",
              "  </style>\n",
              "\n",
              "      <script>\n",
              "        const buttonEl =\n",
              "          document.querySelector('#df-996f5aea-baea-4020-88ca-33a2c44ab6c3 button.colab-df-convert');\n",
              "        buttonEl.style.display =\n",
              "          google.colab.kernel.accessAllowed ? 'block' : 'none';\n",
              "\n",
              "        async function convertToInteractive(key) {\n",
              "          const element = document.querySelector('#df-996f5aea-baea-4020-88ca-33a2c44ab6c3');\n",
              "          const dataTable =\n",
              "            await google.colab.kernel.invokeFunction('convertToInteractive',\n",
              "                                                     [key], {});\n",
              "          if (!dataTable) return;\n",
              "\n",
              "          const docLinkHtml = 'Like what you see? Visit the ' +\n",
              "            '<a target=\"_blank\" href=https://colab.research.google.com/notebooks/data_table.ipynb>data table notebook</a>'\n",
              "            + ' to learn more about interactive tables.';\n",
              "          element.innerHTML = '';\n",
              "          dataTable['output_type'] = 'display_data';\n",
              "          await google.colab.output.renderOutput(dataTable, element);\n",
              "          const docLink = document.createElement('div');\n",
              "          docLink.innerHTML = docLinkHtml;\n",
              "          element.appendChild(docLink);\n",
              "        }\n",
              "      </script>\n",
              "    </div>\n",
              "  </div>\n",
              "  "
            ]
          },
          "metadata": {},
          "execution_count": 99
        }
      ]
    },
    {
      "cell_type": "code",
      "source": [
        "RPF_drop['diff'] = 0"
      ],
      "metadata": {
        "id": "gOJcgyZj4E7L"
      },
      "execution_count": 100,
      "outputs": []
    },
    {
      "cell_type": "code",
      "source": [
        "RPF_drop['diff'] = RPF_drop['cov_start'] - RPF_drop['sc_pos']"
      ],
      "metadata": {
        "id": "d0nRc86c4E5U"
      },
      "execution_count": 101,
      "outputs": []
    },
    {
      "cell_type": "code",
      "source": [
        "RPF_drop.head(10)"
      ],
      "metadata": {
        "colab": {
          "base_uri": "https://localhost:8080/",
          "height": 363
        },
        "id": "mHvFkIFP4E3T",
        "outputId": "6b9b0152-c315-4433-abbd-588ff847b5a0"
      },
      "execution_count": 102,
      "outputs": [
        {
          "output_type": "execute_result",
          "data": {
            "text/plain": [
              "    chr  cov_start  cov_end  cov_no  exon_start  exon_end  \\\n",
              "0  chr1    4878043  4878044       1     4878010   4878205   \n",
              "1  chr1    4878056  4878057       3     4878010   4878205   \n",
              "2  chr1    4878056  4878057       3     4878045   4878205   \n",
              "3  chr1    4878056  4878057       3     4878052   4878205   \n",
              "4  chr1    4878074  4878075       1     4878010   4878205   \n",
              "5  chr1    4878074  4878075       1     4878045   4878205   \n",
              "6  chr1    4878074  4878075       1     4878052   4878205   \n",
              "7  chr1    4878089  4878090       1     4878010   4878205   \n",
              "8  chr1    4878089  4878090       1     4878045   4878205   \n",
              "9  chr1    4878089  4878090       1     4878052   4878205   \n",
              "\n",
              "                  trs_id   sc_pos  diff  \n",
              "0   ENSMUST00000134384.8  4878136   -93  \n",
              "1   ENSMUST00000134384.8  4878136   -80  \n",
              "2  ENSMUST00000027036.11  4878136   -80  \n",
              "3   ENSMUST00000150971.8  4878136   -80  \n",
              "4   ENSMUST00000134384.8  4878136   -62  \n",
              "5  ENSMUST00000027036.11  4878136   -62  \n",
              "6   ENSMUST00000150971.8  4878136   -62  \n",
              "7   ENSMUST00000134384.8  4878136   -47  \n",
              "8  ENSMUST00000027036.11  4878136   -47  \n",
              "9   ENSMUST00000150971.8  4878136   -47  "
            ],
            "text/html": [
              "\n",
              "  <div id=\"df-84f80d75-8101-4d74-bd5b-23f55c3d3ebf\">\n",
              "    <div class=\"colab-df-container\">\n",
              "      <div>\n",
              "<style scoped>\n",
              "    .dataframe tbody tr th:only-of-type {\n",
              "        vertical-align: middle;\n",
              "    }\n",
              "\n",
              "    .dataframe tbody tr th {\n",
              "        vertical-align: top;\n",
              "    }\n",
              "\n",
              "    .dataframe thead th {\n",
              "        text-align: right;\n",
              "    }\n",
              "</style>\n",
              "<table border=\"1\" class=\"dataframe\">\n",
              "  <thead>\n",
              "    <tr style=\"text-align: right;\">\n",
              "      <th></th>\n",
              "      <th>chr</th>\n",
              "      <th>cov_start</th>\n",
              "      <th>cov_end</th>\n",
              "      <th>cov_no</th>\n",
              "      <th>exon_start</th>\n",
              "      <th>exon_end</th>\n",
              "      <th>trs_id</th>\n",
              "      <th>sc_pos</th>\n",
              "      <th>diff</th>\n",
              "    </tr>\n",
              "  </thead>\n",
              "  <tbody>\n",
              "    <tr>\n",
              "      <th>0</th>\n",
              "      <td>chr1</td>\n",
              "      <td>4878043</td>\n",
              "      <td>4878044</td>\n",
              "      <td>1</td>\n",
              "      <td>4878010</td>\n",
              "      <td>4878205</td>\n",
              "      <td>ENSMUST00000134384.8</td>\n",
              "      <td>4878136</td>\n",
              "      <td>-93</td>\n",
              "    </tr>\n",
              "    <tr>\n",
              "      <th>1</th>\n",
              "      <td>chr1</td>\n",
              "      <td>4878056</td>\n",
              "      <td>4878057</td>\n",
              "      <td>3</td>\n",
              "      <td>4878010</td>\n",
              "      <td>4878205</td>\n",
              "      <td>ENSMUST00000134384.8</td>\n",
              "      <td>4878136</td>\n",
              "      <td>-80</td>\n",
              "    </tr>\n",
              "    <tr>\n",
              "      <th>2</th>\n",
              "      <td>chr1</td>\n",
              "      <td>4878056</td>\n",
              "      <td>4878057</td>\n",
              "      <td>3</td>\n",
              "      <td>4878045</td>\n",
              "      <td>4878205</td>\n",
              "      <td>ENSMUST00000027036.11</td>\n",
              "      <td>4878136</td>\n",
              "      <td>-80</td>\n",
              "    </tr>\n",
              "    <tr>\n",
              "      <th>3</th>\n",
              "      <td>chr1</td>\n",
              "      <td>4878056</td>\n",
              "      <td>4878057</td>\n",
              "      <td>3</td>\n",
              "      <td>4878052</td>\n",
              "      <td>4878205</td>\n",
              "      <td>ENSMUST00000150971.8</td>\n",
              "      <td>4878136</td>\n",
              "      <td>-80</td>\n",
              "    </tr>\n",
              "    <tr>\n",
              "      <th>4</th>\n",
              "      <td>chr1</td>\n",
              "      <td>4878074</td>\n",
              "      <td>4878075</td>\n",
              "      <td>1</td>\n",
              "      <td>4878010</td>\n",
              "      <td>4878205</td>\n",
              "      <td>ENSMUST00000134384.8</td>\n",
              "      <td>4878136</td>\n",
              "      <td>-62</td>\n",
              "    </tr>\n",
              "    <tr>\n",
              "      <th>5</th>\n",
              "      <td>chr1</td>\n",
              "      <td>4878074</td>\n",
              "      <td>4878075</td>\n",
              "      <td>1</td>\n",
              "      <td>4878045</td>\n",
              "      <td>4878205</td>\n",
              "      <td>ENSMUST00000027036.11</td>\n",
              "      <td>4878136</td>\n",
              "      <td>-62</td>\n",
              "    </tr>\n",
              "    <tr>\n",
              "      <th>6</th>\n",
              "      <td>chr1</td>\n",
              "      <td>4878074</td>\n",
              "      <td>4878075</td>\n",
              "      <td>1</td>\n",
              "      <td>4878052</td>\n",
              "      <td>4878205</td>\n",
              "      <td>ENSMUST00000150971.8</td>\n",
              "      <td>4878136</td>\n",
              "      <td>-62</td>\n",
              "    </tr>\n",
              "    <tr>\n",
              "      <th>7</th>\n",
              "      <td>chr1</td>\n",
              "      <td>4878089</td>\n",
              "      <td>4878090</td>\n",
              "      <td>1</td>\n",
              "      <td>4878010</td>\n",
              "      <td>4878205</td>\n",
              "      <td>ENSMUST00000134384.8</td>\n",
              "      <td>4878136</td>\n",
              "      <td>-47</td>\n",
              "    </tr>\n",
              "    <tr>\n",
              "      <th>8</th>\n",
              "      <td>chr1</td>\n",
              "      <td>4878089</td>\n",
              "      <td>4878090</td>\n",
              "      <td>1</td>\n",
              "      <td>4878045</td>\n",
              "      <td>4878205</td>\n",
              "      <td>ENSMUST00000027036.11</td>\n",
              "      <td>4878136</td>\n",
              "      <td>-47</td>\n",
              "    </tr>\n",
              "    <tr>\n",
              "      <th>9</th>\n",
              "      <td>chr1</td>\n",
              "      <td>4878089</td>\n",
              "      <td>4878090</td>\n",
              "      <td>1</td>\n",
              "      <td>4878052</td>\n",
              "      <td>4878205</td>\n",
              "      <td>ENSMUST00000150971.8</td>\n",
              "      <td>4878136</td>\n",
              "      <td>-47</td>\n",
              "    </tr>\n",
              "  </tbody>\n",
              "</table>\n",
              "</div>\n",
              "      <button class=\"colab-df-convert\" onclick=\"convertToInteractive('df-84f80d75-8101-4d74-bd5b-23f55c3d3ebf')\"\n",
              "              title=\"Convert this dataframe to an interactive table.\"\n",
              "              style=\"display:none;\">\n",
              "        \n",
              "  <svg xmlns=\"http://www.w3.org/2000/svg\" height=\"24px\"viewBox=\"0 0 24 24\"\n",
              "       width=\"24px\">\n",
              "    <path d=\"M0 0h24v24H0V0z\" fill=\"none\"/>\n",
              "    <path d=\"M18.56 5.44l.94 2.06.94-2.06 2.06-.94-2.06-.94-.94-2.06-.94 2.06-2.06.94zm-11 1L8.5 8.5l.94-2.06 2.06-.94-2.06-.94L8.5 2.5l-.94 2.06-2.06.94zm10 10l.94 2.06.94-2.06 2.06-.94-2.06-.94-.94-2.06-.94 2.06-2.06.94z\"/><path d=\"M17.41 7.96l-1.37-1.37c-.4-.4-.92-.59-1.43-.59-.52 0-1.04.2-1.43.59L10.3 9.45l-7.72 7.72c-.78.78-.78 2.05 0 2.83L4 21.41c.39.39.9.59 1.41.59.51 0 1.02-.2 1.41-.59l7.78-7.78 2.81-2.81c.8-.78.8-2.07 0-2.86zM5.41 20L4 18.59l7.72-7.72 1.47 1.35L5.41 20z\"/>\n",
              "  </svg>\n",
              "      </button>\n",
              "      \n",
              "  <style>\n",
              "    .colab-df-container {\n",
              "      display:flex;\n",
              "      flex-wrap:wrap;\n",
              "      gap: 12px;\n",
              "    }\n",
              "\n",
              "    .colab-df-convert {\n",
              "      background-color: #E8F0FE;\n",
              "      border: none;\n",
              "      border-radius: 50%;\n",
              "      cursor: pointer;\n",
              "      display: none;\n",
              "      fill: #1967D2;\n",
              "      height: 32px;\n",
              "      padding: 0 0 0 0;\n",
              "      width: 32px;\n",
              "    }\n",
              "\n",
              "    .colab-df-convert:hover {\n",
              "      background-color: #E2EBFA;\n",
              "      box-shadow: 0px 1px 2px rgba(60, 64, 67, 0.3), 0px 1px 3px 1px rgba(60, 64, 67, 0.15);\n",
              "      fill: #174EA6;\n",
              "    }\n",
              "\n",
              "    [theme=dark] .colab-df-convert {\n",
              "      background-color: #3B4455;\n",
              "      fill: #D2E3FC;\n",
              "    }\n",
              "\n",
              "    [theme=dark] .colab-df-convert:hover {\n",
              "      background-color: #434B5C;\n",
              "      box-shadow: 0px 1px 3px 1px rgba(0, 0, 0, 0.15);\n",
              "      filter: drop-shadow(0px 1px 2px rgba(0, 0, 0, 0.3));\n",
              "      fill: #FFFFFF;\n",
              "    }\n",
              "  </style>\n",
              "\n",
              "      <script>\n",
              "        const buttonEl =\n",
              "          document.querySelector('#df-84f80d75-8101-4d74-bd5b-23f55c3d3ebf button.colab-df-convert');\n",
              "        buttonEl.style.display =\n",
              "          google.colab.kernel.accessAllowed ? 'block' : 'none';\n",
              "\n",
              "        async function convertToInteractive(key) {\n",
              "          const element = document.querySelector('#df-84f80d75-8101-4d74-bd5b-23f55c3d3ebf');\n",
              "          const dataTable =\n",
              "            await google.colab.kernel.invokeFunction('convertToInteractive',\n",
              "                                                     [key], {});\n",
              "          if (!dataTable) return;\n",
              "\n",
              "          const docLinkHtml = 'Like what you see? Visit the ' +\n",
              "            '<a target=\"_blank\" href=https://colab.research.google.com/notebooks/data_table.ipynb>data table notebook</a>'\n",
              "            + ' to learn more about interactive tables.';\n",
              "          element.innerHTML = '';\n",
              "          dataTable['output_type'] = 'display_data';\n",
              "          await google.colab.output.renderOutput(dataTable, element);\n",
              "          const docLink = document.createElement('div');\n",
              "          docLink.innerHTML = docLinkHtml;\n",
              "          element.appendChild(docLink);\n",
              "        }\n",
              "      </script>\n",
              "    </div>\n",
              "  </div>\n",
              "  "
            ]
          },
          "metadata": {},
          "execution_count": 102
        }
      ]
    },
    {
      "cell_type": "code",
      "source": [
        "RPF_drop.groupby('diff').agg({'cov_no': 'sum'}).reindex(np.arange(-50, 51)).plot.bar()"
      ],
      "metadata": {
        "colab": {
          "base_uri": "https://localhost:8080/",
          "height": 304
        },
        "id": "iCEoh7vf6cTi",
        "outputId": "5c64295f-8a26-4489-e363-0419c5a53c52"
      },
      "execution_count": 104,
      "outputs": [
        {
          "output_type": "execute_result",
          "data": {
            "text/plain": [
              "<matplotlib.axes._subplots.AxesSubplot at 0x7f7e3131a650>"
            ]
          },
          "metadata": {},
          "execution_count": 104
        },
        {
          "output_type": "display_data",
          "data": {
            "text/plain": [
              "<Figure size 432x288 with 1 Axes>"
            ],
            "image/png": "[encoded data removed]"
          },
          "metadata": {
            "needs_background": "light"
          }
        }
      ]
    },
    {
      "cell_type": "code",
      "source": [
        "RPF_drop.to_csv(\"RPF_siLin28a_drop_.txt\", sep = '\\t', header = True, index = False) "
      ],
      "metadata": {
        "id": "7G4YjTXA4Ez8"
      },
      "execution_count": 103,
      "outputs": []
    },
    {
      "cell_type": "markdown",
      "source": [
        "# 교수님 조언\n",
        "- pd.groupby, pd.agg, pd.reindex(arange) 등 사용\n",
        "- cov_no 만큼 weight가 추가되는 방식. \n",
        "- 0이 생기는 현상에 대해: diff가 0인 값들을 역추적하기."
      ],
      "metadata": {
        "id": "P4ogwHudtFbQ"
      }
    },
    {
      "cell_type": "code",
      "source": [
        "RPF_result = pd.read_csv('RPF_siLin28a_drop_.txt', sep = '\\t')"
      ],
      "metadata": {
        "id": "XZM542Uu4Ers"
      },
      "execution_count": 10,
      "outputs": []
    },
    {
      "cell_type": "code",
      "source": [
        "RPF_result.head()"
      ],
      "metadata": {
        "colab": {
          "base_uri": "https://localhost:8080/",
          "height": 206
        },
        "id": "LPoCnODn5eCA",
        "outputId": "691c1b6a-f345-4822-d545-7fffeb426186"
      },
      "execution_count": 11,
      "outputs": [
        {
          "output_type": "execute_result",
          "data": {
            "text/plain": [
              "    chr  cov_start  cov_end  cov_no  exon_start  exon_end  \\\n",
              "0  chr1    4878043  4878044       1     4878010   4878205   \n",
              "1  chr1    4878056  4878057       3     4878010   4878205   \n",
              "2  chr1    4878056  4878057       3     4878045   4878205   \n",
              "3  chr1    4878056  4878057       3     4878052   4878205   \n",
              "4  chr1    4878074  4878075       1     4878010   4878205   \n",
              "\n",
              "                  trs_id   sc_pos  diff  \n",
              "0   ENSMUST00000134384.8  4878136   -92  \n",
              "1   ENSMUST00000134384.8  4878136   -79  \n",
              "2  ENSMUST00000027036.11  4878136   -79  \n",
              "3   ENSMUST00000150971.8  4878136   -79  \n",
              "4   ENSMUST00000134384.8  4878136   -61  "
            ],
            "text/html": [
              "\n",
              "  <div id=\"df-e27200ce-92f7-47ac-a1db-e3004f6d4a77\">\n",
              "    <div class=\"colab-df-container\">\n",
              "      <div>\n",
              "<style scoped>\n",
              "    .dataframe tbody tr th:only-of-type {\n",
              "        vertical-align: middle;\n",
              "    }\n",
              "\n",
              "    .dataframe tbody tr th {\n",
              "        vertical-align: top;\n",
              "    }\n",
              "\n",
              "    .dataframe thead th {\n",
              "        text-align: right;\n",
              "    }\n",
              "</style>\n",
              "<table border=\"1\" class=\"dataframe\">\n",
              "  <thead>\n",
              "    <tr style=\"text-align: right;\">\n",
              "      <th></th>\n",
              "      <th>chr</th>\n",
              "      <th>cov_start</th>\n",
              "      <th>cov_end</th>\n",
              "      <th>cov_no</th>\n",
              "      <th>exon_start</th>\n",
              "      <th>exon_end</th>\n",
              "      <th>trs_id</th>\n",
              "      <th>sc_pos</th>\n",
              "      <th>diff</th>\n",
              "    </tr>\n",
              "  </thead>\n",
              "  <tbody>\n",
              "    <tr>\n",
              "      <th>0</th>\n",
              "      <td>chr1</td>\n",
              "      <td>4878043</td>\n",
              "      <td>4878044</td>\n",
              "      <td>1</td>\n",
              "      <td>4878010</td>\n",
              "      <td>4878205</td>\n",
              "      <td>ENSMUST00000134384.8</td>\n",
              "      <td>4878136</td>\n",
              "      <td>-92</td>\n",
              "    </tr>\n",
              "    <tr>\n",
              "      <th>1</th>\n",
              "      <td>chr1</td>\n",
              "      <td>4878056</td>\n",
              "      <td>4878057</td>\n",
              "      <td>3</td>\n",
              "      <td>4878010</td>\n",
              "      <td>4878205</td>\n",
              "      <td>ENSMUST00000134384.8</td>\n",
              "      <td>4878136</td>\n",
              "      <td>-79</td>\n",
              "    </tr>\n",
              "    <tr>\n",
              "      <th>2</th>\n",
              "      <td>chr1</td>\n",
              "      <td>4878056</td>\n",
              "      <td>4878057</td>\n",
              "      <td>3</td>\n",
              "      <td>4878045</td>\n",
              "      <td>4878205</td>\n",
              "      <td>ENSMUST00000027036.11</td>\n",
              "      <td>4878136</td>\n",
              "      <td>-79</td>\n",
              "    </tr>\n",
              "    <tr>\n",
              "      <th>3</th>\n",
              "      <td>chr1</td>\n",
              "      <td>4878056</td>\n",
              "      <td>4878057</td>\n",
              "      <td>3</td>\n",
              "      <td>4878052</td>\n",
              "      <td>4878205</td>\n",
              "      <td>ENSMUST00000150971.8</td>\n",
              "      <td>4878136</td>\n",
              "      <td>-79</td>\n",
              "    </tr>\n",
              "    <tr>\n",
              "      <th>4</th>\n",
              "      <td>chr1</td>\n",
              "      <td>4878074</td>\n",
              "      <td>4878075</td>\n",
              "      <td>1</td>\n",
              "      <td>4878010</td>\n",
              "      <td>4878205</td>\n",
              "      <td>ENSMUST00000134384.8</td>\n",
              "      <td>4878136</td>\n",
              "      <td>-61</td>\n",
              "    </tr>\n",
              "  </tbody>\n",
              "</table>\n",
              "</div>\n",
              "      <button class=\"colab-df-convert\" onclick=\"convertToInteractive('df-e27200ce-92f7-47ac-a1db-e3004f6d4a77')\"\n",
              "              title=\"Convert this dataframe to an interactive table.\"\n",
              "              style=\"display:none;\">\n",
              "        \n",
              "  <svg xmlns=\"http://www.w3.org/2000/svg\" height=\"24px\"viewBox=\"0 0 24 24\"\n",
              "       width=\"24px\">\n",
              "    <path d=\"M0 0h24v24H0V0z\" fill=\"none\"/>\n",
              "    <path d=\"M18.56 5.44l.94 2.06.94-2.06 2.06-.94-2.06-.94-.94-2.06-.94 2.06-2.06.94zm-11 1L8.5 8.5l.94-2.06 2.06-.94-2.06-.94L8.5 2.5l-.94 2.06-2.06.94zm10 10l.94 2.06.94-2.06 2.06-.94-2.06-.94-.94-2.06-.94 2.06-2.06.94z\"/><path d=\"M17.41 7.96l-1.37-1.37c-.4-.4-.92-.59-1.43-.59-.52 0-1.04.2-1.43.59L10.3 9.45l-7.72 7.72c-.78.78-.78 2.05 0 2.83L4 21.41c.39.39.9.59 1.41.59.51 0 1.02-.2 1.41-.59l7.78-7.78 2.81-2.81c.8-.78.8-2.07 0-2.86zM5.41 20L4 18.59l7.72-7.72 1.47 1.35L5.41 20z\"/>\n",
              "  </svg>\n",
              "      </button>\n",
              "      \n",
              "  <style>\n",
              "    .colab-df-container {\n",
              "      display:flex;\n",
              "      flex-wrap:wrap;\n",
              "      gap: 12px;\n",
              "    }\n",
              "\n",
              "    .colab-df-convert {\n",
              "      background-color: #E8F0FE;\n",
              "      border: none;\n",
              "      border-radius: 50%;\n",
              "      cursor: pointer;\n",
              "      display: none;\n",
              "      fill: #1967D2;\n",
              "      height: 32px;\n",
              "      padding: 0 0 0 0;\n",
              "      width: 32px;\n",
              "    }\n",
              "\n",
              "    .colab-df-convert:hover {\n",
              "      background-color: #E2EBFA;\n",
              "      box-shadow: 0px 1px 2px rgba(60, 64, 67, 0.3), 0px 1px 3px 1px rgba(60, 64, 67, 0.15);\n",
              "      fill: #174EA6;\n",
              "    }\n",
              "\n",
              "    [theme=dark] .colab-df-convert {\n",
              "      background-color: #3B4455;\n",
              "      fill: #D2E3FC;\n",
              "    }\n",
              "\n",
              "    [theme=dark] .colab-df-convert:hover {\n",
              "      background-color: #434B5C;\n",
              "      box-shadow: 0px 1px 3px 1px rgba(0, 0, 0, 0.15);\n",
              "      filter: drop-shadow(0px 1px 2px rgba(0, 0, 0, 0.3));\n",
              "      fill: #FFFFFF;\n",
              "    }\n",
              "  </style>\n",
              "\n",
              "      <script>\n",
              "        const buttonEl =\n",
              "          document.querySelector('#df-e27200ce-92f7-47ac-a1db-e3004f6d4a77 button.colab-df-convert');\n",
              "        buttonEl.style.display =\n",
              "          google.colab.kernel.accessAllowed ? 'block' : 'none';\n",
              "\n",
              "        async function convertToInteractive(key) {\n",
              "          const element = document.querySelector('#df-e27200ce-92f7-47ac-a1db-e3004f6d4a77');\n",
              "          const dataTable =\n",
              "            await google.colab.kernel.invokeFunction('convertToInteractive',\n",
              "                                                     [key], {});\n",
              "          if (!dataTable) return;\n",
              "\n",
              "          const docLinkHtml = 'Like what you see? Visit the ' +\n",
              "            '<a target=\"_blank\" href=https://colab.research.google.com/notebooks/data_table.ipynb>data table notebook</a>'\n",
              "            + ' to learn more about interactive tables.';\n",
              "          element.innerHTML = '';\n",
              "          dataTable['output_type'] = 'display_data';\n",
              "          await google.colab.output.renderOutput(dataTable, element);\n",
              "          const docLink = document.createElement('div');\n",
              "          docLink.innerHTML = docLinkHtml;\n",
              "          element.appendChild(docLink);\n",
              "        }\n",
              "      </script>\n",
              "    </div>\n",
              "  </div>\n",
              "  "
            ]
          },
          "metadata": {},
          "execution_count": 11
        }
      ]
    },
    {
      "cell_type": "code",
      "source": [
        "RPF_result.groupby('diff').agg({'cov_no': 'sum'}).reindex(np.arange(-50, 51)).plot.bar()"
      ],
      "metadata": {
        "colab": {
          "base_uri": "https://localhost:8080/",
          "height": 304
        },
        "id": "amd2lEeLrM5z",
        "outputId": "bf39f8e9-b2c6-456a-8ba4-008c6a7ffa77"
      },
      "execution_count": 52,
      "outputs": [
        {
          "output_type": "execute_result",
          "data": {
            "text/plain": [
              "<matplotlib.axes._subplots.AxesSubplot at 0x7f7e318b34d0>"
            ]
          },
          "metadata": {},
          "execution_count": 52
        },
        {
          "output_type": "display_data",
          "data": {
            "text/plain": [
              "<Figure size 432x288 with 1 Axes>"
            ],
            "image/png": "[encoded data removed]"
          },
          "metadata": {
            "needs_background": "light"
          }
        }
      ]
    },
    {
      "cell_type": "markdown",
      "source": [
        "## 여기서 trs_id 중 cov_no가 높은 것 중 파악해야 함."
      ],
      "metadata": {
        "id": "XbBlhokixZpq"
      }
    },
    {
      "cell_type": "code",
      "source": [
        "RPF_result[RPF_result['diff'] == 0].sort_values(by='cov_no', ascending=False).head(5)"
      ],
      "metadata": {
        "id": "BzdNHiOxrkt0"
      },
      "execution_count": null,
      "outputs": []
    },
    {
      "cell_type": "code",
      "source": [
        ""
      ],
      "metadata": {
        "id": "gDUMmUuowOg6"
      },
      "execution_count": null,
      "outputs": []
    },
    {
      "cell_type": "code",
      "source": [
        ""
      ],
      "metadata": {
        "id": "dqbTNaunwOfJ"
      },
      "execution_count": null,
      "outputs": []
    },
    {
      "cell_type": "markdown",
      "source": [
        "아래는 내 기존 코드"
      ],
      "metadata": {
        "id": "kGEa7mjlwMfB"
      }
    },
    {
      "cell_type": "code",
      "source": [
        "RPF_result['diff'].value_counts()"
      ],
      "metadata": {
        "colab": {
          "base_uri": "https://localhost:8080/"
        },
        "id": "UnnlpzrF5eAS",
        "outputId": "b8f9fd91-e1aa-4f58-f5e6-e0dc2b10f0d3"
      },
      "execution_count": 12,
      "outputs": [
        {
          "output_type": "execute_result",
          "data": {
            "text/plain": [
              " 0       4437\n",
              "-11      3473\n",
              "-12      2576\n",
              "-8       2346\n",
              "-5       2293\n",
              "         ... \n",
              " 1493       1\n",
              " 1495       1\n",
              " 1501       1\n",
              " 1516       1\n",
              "-891        1\n",
              "Name: diff, Length: 5697, dtype: int64"
            ]
          },
          "metadata": {},
          "execution_count": 12
        }
      ]
    },
    {
      "cell_type": "code",
      "source": [
        "a = RPF_result['diff'].value_counts()"
      ],
      "metadata": {
        "id": "xy_pWu6g5d96"
      },
      "execution_count": 13,
      "outputs": []
    },
    {
      "cell_type": "code",
      "source": [
        "a2 = a1.to_frame().reset_index()"
      ],
      "metadata": {
        "id": "rmWk_1Wg5d71"
      },
      "execution_count": 26,
      "outputs": []
    },
    {
      "cell_type": "code",
      "source": [
        "a2.columns = ['distance','counts']\n",
        "a2"
      ],
      "metadata": {
        "id": "fTzXiN0u5dzj",
        "colab": {
          "base_uri": "https://localhost:8080/",
          "height": 424
        },
        "outputId": "17fe1b5f-b307-46c9-96e7-afbef0e5a06d"
      },
      "execution_count": 27,
      "outputs": [
        {
          "output_type": "execute_result",
          "data": {
            "text/plain": [
              "      distance  counts\n",
              "0            0    4437\n",
              "1          -11    3473\n",
              "2          -12    2576\n",
              "3           -8    2346\n",
              "4           -5    2293\n",
              "...        ...     ...\n",
              "5692      1493       1\n",
              "5693      1495       1\n",
              "5694      1501       1\n",
              "5695      1516       1\n",
              "5696      -891       1\n",
              "\n",
              "[5697 rows x 2 columns]"
            ],
            "text/html": [
              "\n",
              "  <div id=\"df-11d9cfb3-d19b-4c42-913d-53e1339edd0d\">\n",
              "    <div class=\"colab-df-container\">\n",
              "      <div>\n",
              "<style scoped>\n",
              "    .dataframe tbody tr th:only-of-type {\n",
              "        vertical-align: middle;\n",
              "    }\n",
              "\n",
              "    .dataframe tbody tr th {\n",
              "        vertical-align: top;\n",
              "    }\n",
              "\n",
              "    .dataframe thead th {\n",
              "        text-align: right;\n",
              "    }\n",
              "</style>\n",
              "<table border=\"1\" class=\"dataframe\">\n",
              "  <thead>\n",
              "    <tr style=\"text-align: right;\">\n",
              "      <th></th>\n",
              "      <th>distance</th>\n",
              "      <th>counts</th>\n",
              "    </tr>\n",
              "  </thead>\n",
              "  <tbody>\n",
              "    <tr>\n",
              "      <th>0</th>\n",
              "      <td>0</td>\n",
              "      <td>4437</td>\n",
              "    </tr>\n",
              "    <tr>\n",
              "      <th>1</th>\n",
              "      <td>-11</td>\n",
              "      <td>3473</td>\n",
              "    </tr>\n",
              "    <tr>\n",
              "      <th>2</th>\n",
              "      <td>-12</td>\n",
              "      <td>2576</td>\n",
              "    </tr>\n",
              "    <tr>\n",
              "      <th>3</th>\n",
              "      <td>-8</td>\n",
              "      <td>2346</td>\n",
              "    </tr>\n",
              "    <tr>\n",
              "      <th>4</th>\n",
              "      <td>-5</td>\n",
              "      <td>2293</td>\n",
              "    </tr>\n",
              "    <tr>\n",
              "      <th>...</th>\n",
              "      <td>...</td>\n",
              "      <td>...</td>\n",
              "    </tr>\n",
              "    <tr>\n",
              "      <th>5692</th>\n",
              "      <td>1493</td>\n",
              "      <td>1</td>\n",
              "    </tr>\n",
              "    <tr>\n",
              "      <th>5693</th>\n",
              "      <td>1495</td>\n",
              "      <td>1</td>\n",
              "    </tr>\n",
              "    <tr>\n",
              "      <th>5694</th>\n",
              "      <td>1501</td>\n",
              "      <td>1</td>\n",
              "    </tr>\n",
              "    <tr>\n",
              "      <th>5695</th>\n",
              "      <td>1516</td>\n",
              "      <td>1</td>\n",
              "    </tr>\n",
              "    <tr>\n",
              "      <th>5696</th>\n",
              "      <td>-891</td>\n",
              "      <td>1</td>\n",
              "    </tr>\n",
              "  </tbody>\n",
              "</table>\n",
              "<p>5697 rows × 2 columns</p>\n",
              "</div>\n",
              "      <button class=\"colab-df-convert\" onclick=\"convertToInteractive('df-11d9cfb3-d19b-4c42-913d-53e1339edd0d')\"\n",
              "              title=\"Convert this dataframe to an interactive table.\"\n",
              "              style=\"display:none;\">\n",
              "        \n",
              "  <svg xmlns=\"http://www.w3.org/2000/svg\" height=\"24px\"viewBox=\"0 0 24 24\"\n",
              "       width=\"24px\">\n",
              "    <path d=\"M0 0h24v24H0V0z\" fill=\"none\"/>\n",
              "    <path d=\"M18.56 5.44l.94 2.06.94-2.06 2.06-.94-2.06-.94-.94-2.06-.94 2.06-2.06.94zm-11 1L8.5 8.5l.94-2.06 2.06-.94-2.06-.94L8.5 2.5l-.94 2.06-2.06.94zm10 10l.94 2.06.94-2.06 2.06-.94-2.06-.94-.94-2.06-.94 2.06-2.06.94z\"/><path d=\"M17.41 7.96l-1.37-1.37c-.4-.4-.92-.59-1.43-.59-.52 0-1.04.2-1.43.59L10.3 9.45l-7.72 7.72c-.78.78-.78 2.05 0 2.83L4 21.41c.39.39.9.59 1.41.59.51 0 1.02-.2 1.41-.59l7.78-7.78 2.81-2.81c.8-.78.8-2.07 0-2.86zM5.41 20L4 18.59l7.72-7.72 1.47 1.35L5.41 20z\"/>\n",
              "  </svg>\n",
              "      </button>\n",
              "      \n",
              "  <style>\n",
              "    .colab-df-container {\n",
              "      display:flex;\n",
              "      flex-wrap:wrap;\n",
              "      gap: 12px;\n",
              "    }\n",
              "\n",
              "    .colab-df-convert {\n",
              "      background-color: #E8F0FE;\n",
              "      border: none;\n",
              "      border-radius: 50%;\n",
              "      cursor: pointer;\n",
              "      display: none;\n",
              "      fill: #1967D2;\n",
              "      height: 32px;\n",
              "      padding: 0 0 0 0;\n",
              "      width: 32px;\n",
              "    }\n",
              "\n",
              "    .colab-df-convert:hover {\n",
              "      background-color: #E2EBFA;\n",
              "      box-shadow: 0px 1px 2px rgba(60, 64, 67, 0.3), 0px 1px 3px 1px rgba(60, 64, 67, 0.15);\n",
              "      fill: #174EA6;\n",
              "    }\n",
              "\n",
              "    [theme=dark] .colab-df-convert {\n",
              "      background-color: #3B4455;\n",
              "      fill: #D2E3FC;\n",
              "    }\n",
              "\n",
              "    [theme=dark] .colab-df-convert:hover {\n",
              "      background-color: #434B5C;\n",
              "      box-shadow: 0px 1px 3px 1px rgba(0, 0, 0, 0.15);\n",
              "      filter: drop-shadow(0px 1px 2px rgba(0, 0, 0, 0.3));\n",
              "      fill: #FFFFFF;\n",
              "    }\n",
              "  </style>\n",
              "\n",
              "      <script>\n",
              "        const buttonEl =\n",
              "          document.querySelector('#df-11d9cfb3-d19b-4c42-913d-53e1339edd0d button.colab-df-convert');\n",
              "        buttonEl.style.display =\n",
              "          google.colab.kernel.accessAllowed ? 'block' : 'none';\n",
              "\n",
              "        async function convertToInteractive(key) {\n",
              "          const element = document.querySelector('#df-11d9cfb3-d19b-4c42-913d-53e1339edd0d');\n",
              "          const dataTable =\n",
              "            await google.colab.kernel.invokeFunction('convertToInteractive',\n",
              "                                                     [key], {});\n",
              "          if (!dataTable) return;\n",
              "\n",
              "          const docLinkHtml = 'Like what you see? Visit the ' +\n",
              "            '<a target=\"_blank\" href=https://colab.research.google.com/notebooks/data_table.ipynb>data table notebook</a>'\n",
              "            + ' to learn more about interactive tables.';\n",
              "          element.innerHTML = '';\n",
              "          dataTable['output_type'] = 'display_data';\n",
              "          await google.colab.output.renderOutput(dataTable, element);\n",
              "          const docLink = document.createElement('div');\n",
              "          docLink.innerHTML = docLinkHtml;\n",
              "          element.appendChild(docLink);\n",
              "        }\n",
              "      </script>\n",
              "    </div>\n",
              "  </div>\n",
              "  "
            ]
          },
          "metadata": {},
          "execution_count": 27
        }
      ]
    },
    {
      "cell_type": "code",
      "source": [
        "plt.bar(a2['distance'],a2['counts'], color = 'black')\n",
        "plt.xlim(-50,50)\n",
        "plt.xlabel('distance from start codon')\n",
        "plt.ylabel('siLin28a:Raw read count')\n",
        "plt.vlines(0,0,6000,color=\"red\")"
      ],
      "metadata": {
        "colab": {
          "base_uri": "https://localhost:8080/",
          "height": 297
        },
        "id": "rUUq8UwJmoha",
        "outputId": "325c7e59-107c-49f8-a046-a385fa7db0b4"
      },
      "execution_count": 47,
      "outputs": [
        {
          "output_type": "execute_result",
          "data": {
            "text/plain": [
              "<matplotlib.collections.LineCollection at 0x7f7e35cfb110>"
            ]
          },
          "metadata": {},
          "execution_count": 47
        },
        {
          "output_type": "display_data",
          "data": {
            "text/plain": [
              "<Figure size 432x288 with 1 Axes>"
            ],
            "image/png": "[encoded data removed]"
          },
          "metadata": {
            "needs_background": "light"
          }
        }
      ]
    },
    {
      "cell_type": "markdown",
      "source": [
        "# 결과(기존 그림):"
      ],
      "metadata": {
        "id": "DJGT-UZvppxt"
      }
    },
    {
      "cell_type": "markdown",
      "source": [
        "![image.png](data:image/png;base64,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)"
      ],
      "metadata": {
        "id": "5rDaedx7p83W"
      }
    },
    {
      "cell_type": "markdown",
      "source": [
        "# 최종 결과(수업 중 수정한 그림)"
      ],
      "metadata": {
        "id": "LMjS4LAO62Ci"
      }
    },
    {
      "cell_type": "markdown",
      "source": [
        "![image.png](data:image/png;base64,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)"
      ],
      "metadata": {
        "id": "KWEHH5-a62sO"
      }
    },
    {
      "cell_type": "code",
      "source": [
        ""
      ],
      "metadata": {
        "id": "CbYU7Cp-ppfl"
      },
      "execution_count": null,
      "outputs": []
    },
    {
      "cell_type": "code",
      "source": [
        ""
      ],
      "metadata": {
        "id": "5i4s-6iDmn9A"
      },
      "execution_count": null,
      "outputs": []
    },
    {
      "cell_type": "code",
      "source": [
        ""
      ],
      "metadata": {
        "id": "VpZ7oIQumn53"
      },
      "execution_count": null,
      "outputs": []
    },
    {
      "cell_type": "code",
      "source": [
        ""
      ],
      "metadata": {
        "id": "HysTCysImnyi"
      },
      "execution_count": null,
      "outputs": []
    },
    {
      "cell_type": "markdown",
      "source": [
        "## Trial and Errors"
      ],
      "metadata": {
        "id": "6JgRv32P4Fb5"
      }
    },
    {
      "cell_type": "markdown",
      "source": [
        "- 기존 start codon 위치 잘못 지정한 것. \n",
        "- ribosomal footprint에서는 무조건 5'-end(start codon) 기준으로 거리 구하기."
      ],
      "metadata": {
        "id": "8m7Zqlgb5aDM"
      }
    },
    {
      "cell_type": "code",
      "source": [
        "#for i in range(0,5):\n",
        "#    if RPF_drop.iloc[i,1] < RPF_drop.iloc[i,7]: \n",
        "#      RPF_drop.loc[i,'sc_dif'] = RPF_drop.iloc[i,2] - RPF_drop.iloc[i,7]\n",
        "#    elif RPF_drop.iloc[i,1] >= RPF_drop.iloc[i,7]: \n",
        "#      RPF_drop.loc[i,'sc_dif'] = RPF_drop.iloc[i,1] - RPF_drop.iloc[i,7]\n",
        "#RPF_drop\n",
        "\n",
        "\n",
        "# diff 기존 정리\n",
        "for i in range(0, len(RPF_drop)):\n",
        "  if RPF_drop.iloc[i,1] < RPF_drop.iloc[i,7]:\n",
        "    RPF_drop.iloc[i,8] = RPF_drop.iloc[i,2] - RPF_drop.iloc[i,7]\n",
        "  elif RPF_drop.iloc[i,1] >= RPF_drop.iloc[i,7]: \n",
        "    RPF_drop.iloc[i,8] = RPF_drop.iloc[i,1] - RPF_drop.iloc[i,7]\n",
        "\n",
        "\n",
        "#condition = RPF_drop[RPF_drop['cov_start'] < RPF_drop['sc_pos']]\n",
        "#RPF_drop['diff'] = np.where(condition, RPF_drop['cov_end']-RPF_drop['sc_pos'], RPF_drop['cov_start']-RPF_drop['sc_pos'])\n",
        "#RPF_drop"
      ],
      "metadata": {
        "id": "HAvml_EDxO2P"
      },
      "execution_count": null,
      "outputs": []
    },
    {
      "cell_type": "code",
      "source": [
        "for chunk in csv_chunk:\n",
        "  RPF_drop = chunk.drop([4,9], axis = 1)\n",
        "  RPF_drop.columns = ['chr','cov_start', 'cov_end', 'cov_no','exon_start', 'exon_end', 'trs_id', 'sc_pos']\n",
        "  for i in range(0,len(RPF_drop)):\n",
        "      if RPF_drop.iloc[i,1] < RPF_drop.iloc[i,7]: RPF_drop[i,'sc_dif'] = RPF_drop.iloc[i,2] - RPF_drop.iloc[i,7]\n",
        "      elif RPF_drop.iloc[i,1] >= RPF_drop.iloc[i,7]: RPF_drop[i,'sc_dif'] = RPF_drop.iloc[i,1] - RPF_drop.iloc[i,7]\n",
        "  a = RPF_drop\n",
        "  break\n",
        "a"
      ],
      "metadata": {
        "colab": {
          "base_uri": "https://localhost:8080/",
          "height": 209
        },
        "id": "y0p8Kb2QwHCD",
        "outputId": "d78b62cd-a29d-4635-efc7-9b1cc7658225"
      },
      "execution_count": null,
      "outputs": [
        {
          "output_type": "error",
          "ename": "NameError",
          "evalue": "ignored",
          "traceback": [
            "\u001b[0;31m---------------------------------------------------------------------------\u001b[0m",
            "\u001b[0;31mNameError\u001b[0m                                 Traceback (most recent call last)",
            "\u001b[0;32m<ipython-input-29-0fbfa788bede>\u001b[0m in \u001b[0;36m<module>\u001b[0;34m()\u001b[0m\n\u001b[1;32m      7\u001b[0m   \u001b[0ma\u001b[0m \u001b[0;34m=\u001b[0m \u001b[0mRPF_drop\u001b[0m\u001b[0;34m\u001b[0m\u001b[0;34m\u001b[0m\u001b[0m\n\u001b[1;32m      8\u001b[0m   \u001b[0;32mbreak\u001b[0m\u001b[0;34m\u001b[0m\u001b[0;34m\u001b[0m\u001b[0m\n\u001b[0;32m----> 9\u001b[0;31m \u001b[0ma\u001b[0m\u001b[0;34m\u001b[0m\u001b[0;34m\u001b[0m\u001b[0m\n\u001b[0m",
            "\u001b[0;31mNameError\u001b[0m: name 'a' is not defined"
          ]
        }
      ]
    },
    {
      "cell_type": "code",
      "source": [
        "def cut_calculator(in_f, out_f, size):\n",
        "    reader = pd.read_csv(in_f, sep='\\t', header = None, chunksize=size)\n",
        "    for chunk in reader:\n",
        "      RPF_drop = chunk.drop([4,9], axis = 1)\n",
        "      RPF_drop.columns = ['chr','cov_start', 'cov_end', 'cov_no','exon_start', 'exon_end', 'trs_id', 'sc_pos']\n",
        "      for i in range(0,len(RPF_drop)):\n",
        "        if RPF_drop.iloc[i,1] < RPF_drop.iloc[i,7]: RPF_drop[i,'sc_dif'] = RPF_drop.iloc[i,2] - RPF_drop.iloc[i,7]\n",
        "        elif RPF_drop.iloc[i,1] >= RPF_drop.iloc[i,7]: RPF_drop[i,'sc_dif'] = RPF_drop.iloc[i,1] - RPF_drop.iloc[i,7]\n",
        "      RPF_drop.to_csv(out_f, index=False, header=True, mode='a')"
      ],
      "metadata": {
        "id": "PZvxferDrTdI"
      },
      "execution_count": null,
      "outputs": []
    },
    {
      "cell_type": "code",
      "source": [
        "cut_calculator('fivepcounts-filtered-RPF-siLuc.txt','result_RPF_siLuc.txt', 1000)"
      ],
      "metadata": {
        "colab": {
          "base_uri": "https://localhost:8080/"
        },
        "id": "YVezMlYer_yj",
        "outputId": "82fbb192-f26c-4fb0-b7cb-c136a393bb79"
      },
      "execution_count": null,
      "outputs": [
        {
          "output_type": "stream",
          "name": "stderr",
          "text": [
            "/usr/local/lib/python3.7/dist-packages/ipykernel_launcher.py:8: PerformanceWarning: DataFrame is highly fragmented.  This is usually the result of calling `frame.insert` many times, which has poor performance.  Consider joining all columns at once using pd.concat(axis=1) instead.  To get a de-fragmented frame, use `newframe = frame.copy()`\n",
            "  \n",
            "/usr/local/lib/python3.7/dist-packages/ipykernel_launcher.py:7: PerformanceWarning: DataFrame is highly fragmented.  This is usually the result of calling `frame.insert` many times, which has poor performance.  Consider joining all columns at once using pd.concat(axis=1) instead.  To get a de-fragmented frame, use `newframe = frame.copy()`\n",
            "  import sys\n"
          ]
        }
      ]
    },
    {
      "cell_type": "code",
      "source": [
        "# RPF = pd.read_csv('fivepcounts-filtered-RPF-siLuc.txt', sep = '\\t', header = None)\n",
        "for chunk in csv_chunk :\n",
        " \tRPF_drop = chunk.drop([4,9], axis = 1)\n",
        "  for i in range(0,len(RPF_drop)):\n",
        "    if RPF_drop.iloc[i,1] < RPF_drop.iloc[i,7]: RPF_drop[i,'sc_dif'] = RPF_drop.iloc[i,2] - RPF_drop.iloc[i,7]\n",
        "    elif RPF_drop.iloc[i,1] >= RPF_drop.iloc[i,7]: RPF_drop[i,'sc_dif'] = RPF_drop.iloc[i,1] - RPF_drop.iloc[i,7]\n",
        "    \n",
        "\n",
        "RPF_drop\n",
        "#RPF.columns = ['']\n",
        "#RPF_drop.columns = ['chr','cov_start', 'cov_end', 'cov_no','exon_start', 'exon_end', 'trs_id', 'sc_pos']\n",
        "#RPF_drop.head()\n"
      ],
      "metadata": {
        "colab": {
          "base_uri": "https://localhost:8080/",
          "height": 246
        },
        "id": "wlbavgHy_PKx",
        "outputId": "bf2bfd8f-7835-43dc-b94c-a6890582b9bb"
      },
      "execution_count": null,
      "outputs": [
        {
          "output_type": "error",
          "ename": "NameError",
          "evalue": "ignored",
          "traceback": [
            "\u001b[0;31m---------------------------------------------------------------------------\u001b[0m",
            "\u001b[0;31mNameError\u001b[0m                                 Traceback (most recent call last)",
            "\u001b[0;32m<ipython-input-15-917f6c6415b2>\u001b[0m in \u001b[0;36m<module>\u001b[0;34m()\u001b[0m\n\u001b[1;32m      3\u001b[0m         \u001b[0mRPF_drop\u001b[0m \u001b[0;34m=\u001b[0m \u001b[0mchunk\u001b[0m\u001b[0;34m.\u001b[0m\u001b[0mdrop\u001b[0m\u001b[0;34m(\u001b[0m\u001b[0;34m[\u001b[0m\u001b[0;36m4\u001b[0m\u001b[0;34m,\u001b[0m\u001b[0;36m9\u001b[0m\u001b[0;34m]\u001b[0m\u001b[0;34m,\u001b[0m \u001b[0maxis\u001b[0m \u001b[0;34m=\u001b[0m \u001b[0;36m1\u001b[0m\u001b[0;34m)\u001b[0m\u001b[0;34m\u001b[0m\u001b[0;34m\u001b[0m\u001b[0m\n\u001b[1;32m      4\u001b[0m \u001b[0;34m\u001b[0m\u001b[0m\n\u001b[0;32m----> 5\u001b[0;31m \u001b[0mRPF_drop\u001b[0m\u001b[0;34m\u001b[0m\u001b[0;34m\u001b[0m\u001b[0m\n\u001b[0m\u001b[1;32m      6\u001b[0m \u001b[0;31m#RPF.columns = ['']\u001b[0m\u001b[0;34m\u001b[0m\u001b[0;34m\u001b[0m\u001b[0;34m\u001b[0m\u001b[0m\n\u001b[1;32m      7\u001b[0m \u001b[0;31m#RPF_drop.columns = ['chr','cov_start', 'cov_end', 'cov_no','exon_start', 'exon_end', 'trs_id', 'sc_pos']\u001b[0m\u001b[0;34m\u001b[0m\u001b[0;34m\u001b[0m\u001b[0;34m\u001b[0m\u001b[0m\n",
            "\u001b[0;31mNameError\u001b[0m: name 'RPF_drop' is not defined"
          ]
        }
      ]
    },
    {
      "cell_type": "code",
      "source": [
        "# 2. bar graph: sc_pos와 coverage와의 거리.\n",
        "# sc_pos보다 왼쪽에 있으면 cov_end 기준,\n",
        "# sc_pos보다 오른쪽에 있으면 cov_start 기준.\n",
        "\n",
        "#RPF_drop[,'sc_dif'] = 0\n",
        "#len(RPF_drop)  # 340499\n",
        "for i in range(0,len(RPF_drop)):\n",
        "  if RPF_drop.iloc[i,1] < RPF_drop.iloc[i,7]: RPF_drop[i,'sc_dif'] = RPF_drop.iloc[i,2] - RPF_drop.iloc[i,7]\n",
        "  elif RPF_drop.iloc[i,1] >= RPF_drop.iloc[i,7]: RPF_drop[i,'sc_dif'] = RPF_drop.iloc[i,1] - RPF_drop.iloc[i,7]\n"
      ],
      "metadata": {
        "colab": {
          "base_uri": "https://localhost:8080/"
        },
        "id": "-g0IajhhSsu-",
        "outputId": "71b04e40-8e97-4eb6-e164-b0f231cd3212"
      },
      "execution_count": null,
      "outputs": [
        {
          "output_type": "stream",
          "name": "stderr",
          "text": [
            "/usr/local/lib/python3.7/dist-packages/ipykernel_launcher.py:9: PerformanceWarning: DataFrame is highly fragmented.  This is usually the result of calling `frame.insert` many times, which has poor performance.  Consider joining all columns at once using pd.concat(axis=1) instead.  To get a de-fragmented frame, use `newframe = frame.copy()`\n",
            "  if __name__ == '__main__':\n",
            "/usr/local/lib/python3.7/dist-packages/ipykernel_launcher.py:8: PerformanceWarning: DataFrame is highly fragmented.  This is usually the result of calling `frame.insert` many times, which has poor performance.  Consider joining all columns at once using pd.concat(axis=1) instead.  To get a de-fragmented frame, use `newframe = frame.copy()`\n",
            "  \n"
          ]
        }
      ]
    },
    {
      "cell_type": "code",
      "source": [
        "RPF_drop[3].value_counts()"
      ],
      "metadata": {
        "id": "jVyKxDrh_oAZ",
        "colab": {
          "base_uri": "https://localhost:8080/"
        },
        "outputId": "b79bf65a-9210-4d85-d456-88ce01ede8f2"
      },
      "execution_count": null,
      "outputs": [
        {
          "output_type": "execute_result",
          "data": {
            "text/plain": [
              "1       185322\n",
              "2        60679\n",
              "3        27590\n",
              "4        15559\n",
              "5        10027\n",
              "         ...  \n",
              "583          1\n",
              "465          1\n",
              "1897         1\n",
              "185          1\n",
              "413          1\n",
              "Name: 3, Length: 475, dtype: int64"
            ]
          },
          "metadata": {},
          "execution_count": 19
        }
      ]
    },
    {
      "cell_type": "code",
      "source": [
        "fig = plt.figure(figsize=(8, 6))\n",
        "plt.ylim(0,50)\n",
        "RPF_drop[3].value_counts().plot(kind = 'bar')"
      ],
      "metadata": {
        "colab": {
          "base_uri": "https://localhost:8080/",
          "height": 412
        },
        "id": "V43rpBpJHR6_",
        "outputId": "85b26b6b-6242-416d-d04f-2a16d0b23f71"
      },
      "execution_count": null,
      "outputs": [
        {
          "output_type": "execute_result",
          "data": {
            "text/plain": [
              "<matplotlib.axes._subplots.AxesSubplot at 0x7f8e05ba8510>"
            ]
          },
          "metadata": {},
          "execution_count": 21
        },
        {
          "output_type": "display_data",
          "data": {
            "text/plain": [
              "<Figure size 576x432 with 1 Axes>"
            ],
            "image/png": "[encoded data removed]"
          },
          "metadata": {
            "needs_background": "light"
          }
        }
      ]
    }
  ],
  "metadata": {
    "colab": {
      "collapsed_sections": [],
      "name": "CoLab_TermProj_2022-2.ipynb",
      "provenance": []
    },
    "kernelspec": {
      "display_name": "Python 3",
      "name": "python3"
    }
  },
  "nbformat": 4,
  "nbformat_minor": 0
}